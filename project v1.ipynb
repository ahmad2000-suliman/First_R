# add a dumy script
{
 "cells": [
  {
   "cell_type": "code",
   "execution_count": 1,
   "metadata": {
    "colab": {
     "base_uri": "https://localhost:8080/"
    },
    "id": "7MyxsUMQs3Bf",
    "outputId": "8c782d81-e200-4f9d-b6e7-e5a34e40c934"
   },
   "outputs": [
    {
     "name": "stdout",
     "output_type": "stream",
     "text": [
      "Requirement already satisfied: ultralytics in c:\\users\\classic\\anaconda3\\lib\\site-packages (8.3.115)\n",
      "Requirement already satisfied: ultralytics-thop>=2.0.0 in c:\\users\\classic\\anaconda3\\lib\\site-packages (from ultralytics) (2.0.14)\n",
      "Requirement already satisfied: torchvision>=0.9.0 in c:\\users\\classic\\anaconda3\\lib\\site-packages (from ultralytics) (0.22.0)\n",
      "Requirement already satisfied: tqdm>=4.64.0 in c:\\users\\classic\\anaconda3\\lib\\site-packages (from ultralytics) (4.64.1)\n",
      "Requirement already satisfied: psutil in c:\\users\\classic\\anaconda3\\lib\\site-packages (from ultralytics) (5.9.0)\n",
      "Requirement already satisfied: numpy<=2.1.1,>=1.23.0 in c:\\users\\classic\\anaconda3\\lib\\site-packages (from ultralytics) (1.24.4)\n",
      "Requirement already satisfied: pillow>=7.1.2 in c:\\users\\classic\\anaconda3\\lib\\site-packages (from ultralytics) (9.2.0)\n",
      "Requirement already satisfied: torch!=2.4.0,>=1.8.0 in c:\\users\\classic\\anaconda3\\lib\\site-packages (from ultralytics) (2.7.0)\n",
      "Requirement already satisfied: pandas>=1.1.4 in c:\\users\\classic\\anaconda3\\lib\\site-packages (from ultralytics) (1.4.4)\n",
      "Requirement already satisfied: opencv-python>=4.6.0 in c:\\users\\classic\\anaconda3\\lib\\site-packages (from ultralytics) (4.11.0.86)\n",
      "Requirement already satisfied: seaborn>=0.11.0 in c:\\users\\classic\\anaconda3\\lib\\site-packages (from ultralytics) (0.11.2)\n",
      "Requirement already satisfied: scipy>=1.4.1 in c:\\users\\classic\\anaconda3\\lib\\site-packages (from ultralytics) (1.9.1)\n",
      "Requirement already satisfied: py-cpuinfo in c:\\users\\classic\\anaconda3\\lib\\site-packages (from ultralytics) (9.0.0)\n",
      "Requirement already satisfied: pyyaml>=5.3.1 in c:\\users\\classic\\anaconda3\\lib\\site-packages (from ultralytics) (6.0)\n",
      "Requirement already satisfied: matplotlib>=3.3.0 in c:\\users\\classic\\anaconda3\\lib\\site-packages (from ultralytics) (3.5.2)\n",
      "Requirement already satisfied: requests>=2.23.0 in c:\\users\\classic\\anaconda3\\lib\\site-packages (from ultralytics) (2.28.1)\n",
      "Requirement already satisfied: python-dateutil>=2.7 in c:\\users\\classic\\anaconda3\\lib\\site-packages (from matplotlib>=3.3.0->ultralytics) (2.8.2)\n",
      "Requirement already satisfied: packaging>=20.0 in c:\\users\\classic\\anaconda3\\lib\\site-packages (from matplotlib>=3.3.0->ultralytics) (21.3)\n",
      "Requirement already satisfied: pyparsing>=2.2.1 in c:\\users\\classic\\anaconda3\\lib\\site-packages (from matplotlib>=3.3.0->ultralytics) (3.0.9)\n",
      "Requirement already satisfied: kiwisolver>=1.0.1 in c:\\users\\classic\\anaconda3\\lib\\site-packages (from matplotlib>=3.3.0->ultralytics) (1.4.2)\n",
      "Requirement already satisfied: fonttools>=4.22.0 in c:\\users\\classic\\anaconda3\\lib\\site-packages (from matplotlib>=3.3.0->ultralytics) (4.25.0)\n",
      "Requirement already satisfied: cycler>=0.10 in c:\\users\\classic\\anaconda3\\lib\\site-packages (from matplotlib>=3.3.0->ultralytics) (0.11.0)\n",
      "Requirement already satisfied: pytz>=2020.1 in c:\\users\\classic\\anaconda3\\lib\\site-packages (from pandas>=1.1.4->ultralytics) (2022.1)\n",
      "Requirement already satisfied: idna<4,>=2.5 in c:\\users\\classic\\anaconda3\\lib\\site-packages (from requests>=2.23.0->ultralytics) (3.3)\n",
      "Requirement already satisfied: urllib3<1.27,>=1.21.1 in c:\\users\\classic\\anaconda3\\lib\\site-packages (from requests>=2.23.0->ultralytics) (1.26.11)\n",
      "Requirement already satisfied: charset-normalizer<3,>=2 in c:\\users\\classic\\anaconda3\\lib\\site-packages (from requests>=2.23.0->ultralytics) (2.0.4)\n",
      "Requirement already satisfied: certifi>=2017.4.17 in c:\\users\\classic\\anaconda3\\lib\\site-packages (from requests>=2.23.0->ultralytics) (2022.9.14)\n",
      "Requirement already satisfied: typing-extensions>=4.10.0 in c:\\users\\classic\\anaconda3\\lib\\site-packages (from torch!=2.4.0,>=1.8.0->ultralytics) (4.13.2)\n",
      "Requirement already satisfied: fsspec in c:\\users\\classic\\anaconda3\\lib\\site-packages (from torch!=2.4.0,>=1.8.0->ultralytics) (2022.7.1)\n",
      "Requirement already satisfied: sympy>=1.13.3 in c:\\users\\classic\\anaconda3\\lib\\site-packages (from torch!=2.4.0,>=1.8.0->ultralytics) (1.13.3)\n",
      "Requirement already satisfied: networkx in c:\\users\\classic\\anaconda3\\lib\\site-packages (from torch!=2.4.0,>=1.8.0->ultralytics) (2.8.4)\n",
      "Requirement already satisfied: jinja2 in c:\\users\\classic\\anaconda3\\lib\\site-packages (from torch!=2.4.0,>=1.8.0->ultralytics) (2.11.3)\n",
      "Requirement already satisfied: filelock in c:\\users\\classic\\anaconda3\\lib\\site-packages (from torch!=2.4.0,>=1.8.0->ultralytics) (3.6.0)\n",
      "Requirement already satisfied: colorama in c:\\users\\classic\\anaconda3\\lib\\site-packages (from tqdm>=4.64.0->ultralytics) (0.4.5)\n",
      "Requirement already satisfied: six>=1.5 in c:\\users\\classic\\anaconda3\\lib\\site-packages (from python-dateutil>=2.7->matplotlib>=3.3.0->ultralytics) (1.16.0)\n",
      "Requirement already satisfied: mpmath<1.4,>=1.1.0 in c:\\users\\classic\\anaconda3\\lib\\site-packages (from sympy>=1.13.3->torch!=2.4.0,>=1.8.0->ultralytics) (1.2.1)\n",
      "Requirement already satisfied: MarkupSafe>=0.23 in c:\\users\\classic\\anaconda3\\lib\\site-packages (from jinja2->torch!=2.4.0,>=1.8.0->ultralytics) (2.0.1)\n"
     ]
    }
   ],
   "source": [
    "!pip install ultralytics\n",
    "# استيراد الكلاس YOLO من مكتبة ultralytics\n"
   ]
  },
  {
   "cell_type": "code",
   "execution_count": 2,
   "metadata": {
    "colab": {
     "base_uri": "https://localhost:8080/"
    },
    "id": "0XBvKaMPugDS",
    "outputId": "d8e70ec0-9948-44df-8e6c-0487a273610f"
   },
   "outputs": [],
   "source": [
    "from ultralytics import YOLO\n",
    "import os"
   ]
  },
  {
   "cell_type": "code",
   "execution_count": 11,
   "metadata": {
    "colab": {
     "base_uri": "https://localhost:8080/",
     "height": 584
    },
    "id": "r9Ts2wYis7dj",
    "outputId": "8c2805c7-06bd-431d-e92d-8b6f644c8318"
   },
   "outputs": [
    {
     "name": "stdout",
     "output_type": "stream",
     "text": [
      "Ultralytics 8.3.115  Python-3.9.13 torch-2.7.0+cpu CPU (Intel Core(TM) i7-6820HQ 2.70GHz)\n",
      "\u001b[34m\u001b[1mengine\\trainer: \u001b[0mtask=detect, mode=train, model=yolov8n.pt, data=C:\\Users\\Classic\\Desktop\\pr\\2\\data.yaml, epochs=100, time=None, patience=100, batch=16, imgsz=640, save=True, save_period=-1, cache=False, device=None, workers=8, project=None, name=train2, exist_ok=False, pretrained=True, optimizer=auto, verbose=True, seed=0, deterministic=True, single_cls=False, rect=False, cos_lr=False, close_mosaic=10, resume=False, amp=True, fraction=1.0, profile=False, freeze=None, multi_scale=False, overlap_mask=True, mask_ratio=4, dropout=0.0, val=True, split=val, save_json=False, conf=None, iou=0.7, max_det=300, half=False, dnn=False, plots=True, source=None, vid_stride=1, stream_buffer=False, visualize=False, augment=False, agnostic_nms=False, classes=None, retina_masks=False, embed=None, show=False, save_frames=False, save_txt=False, save_conf=False, save_crop=False, show_labels=True, show_conf=True, show_boxes=True, line_width=None, format=torchscript, keras=False, optimize=False, int8=False, dynamic=False, simplify=True, opset=None, workspace=None, nms=False, lr0=0.01, lrf=0.01, momentum=0.937, weight_decay=0.0005, warmup_epochs=3.0, warmup_momentum=0.8, warmup_bias_lr=0.1, box=7.5, cls=0.5, dfl=1.5, pose=12.0, kobj=1.0, nbs=64, hsv_h=0.015, hsv_s=0.7, hsv_v=0.4, degrees=0.0, translate=0.1, scale=0.5, shear=0.0, perspective=0.0, flipud=0.0, fliplr=0.5, bgr=0.0, mosaic=1.0, mixup=0.0, copy_paste=0.0, copy_paste_mode=flip, auto_augment=randaugment, erasing=0.4, cfg=None, tracker=botsort.yaml, save_dir=runs\\detect\\train2\n",
      "Downloading https://ultralytics.com/assets/Arial.ttf to 'C:\\Users\\Classic\\AppData\\Roaming\\Ultralytics\\Arial.ttf'...\n"
     ]
    },
    {
     "name": "stderr",
     "output_type": "stream",
     "text": [
      "100%|██████████| 755k/755k [00:03<00:00, 229kB/s]"
     ]
    },
    {
     "name": "stdout",
     "output_type": "stream",
     "text": [
      "Overriding model.yaml nc=80 with nc=19\n",
      "\n",
      "                   from  n    params  module                                       arguments                     \n",
      "  0                  -1  1       464  ultralytics.nn.modules.conv.Conv             [3, 16, 3, 2]                 \n",
      "  1                  -1  1      4672  ultralytics.nn.modules.conv.Conv             [16, 32, 3, 2]                \n",
      "  2                  -1  1      7360  ultralytics.nn.modules.block.C2f             [32, 32, 1, True]             \n",
      "  3                  -1  1     18560  ultralytics.nn.modules.conv.Conv             [32, 64, 3, 2]                \n",
      "  4                  -1  2     49664  ultralytics.nn.modules.block.C2f             [64, 64, 2, True]             \n",
      "  5                  -1  1     73984  ultralytics.nn.modules.conv.Conv             [64, 128, 3, 2]               \n",
      "  6                  -1  2    197632  ultralytics.nn.modules.block.C2f             [128, 128, 2, True]           \n",
      "  7                  -1  1    295424  ultralytics.nn.modules.conv.Conv             [128, 256, 3, 2]              \n",
      "  8                  -1  1    460288  ultralytics.nn.modules.block.C2f             [256, 256, 1, True]           \n",
      "  9                  -1  1    164608  ultralytics.nn.modules.block.SPPF            [256, 256, 5]                 \n",
      " 10                  -1  1         0  torch.nn.modules.upsampling.Upsample         [None, 2, 'nearest']          \n",
      " 11             [-1, 6]  1         0  ultralytics.nn.modules.conv.Concat           [1]                           \n",
      " 12                  -1  1    148224  ultralytics.nn.modules.block.C2f             [384, 128, 1]                 \n",
      " 13                  -1  1         0  torch.nn.modules.upsampling.Upsample         [None, 2, 'nearest']          \n",
      " 14             [-1, 4]  1         0  ultralytics.nn.modules.conv.Concat           [1]                           \n",
      " 15                  -1  1     37248  ultralytics.nn.modules.block.C2f             [192, 64, 1]                  \n",
      " 16                  -1  1     36992  ultralytics.nn.modules.conv.Conv             [64, 64, 3, 2]                \n",
      " 17            [-1, 12]  1         0  ultralytics.nn.modules.conv.Concat           [1]                           \n",
      " 18                  -1  1    123648  ultralytics.nn.modules.block.C2f             [192, 128, 1]                 \n",
      " 19                  -1  1    147712  ultralytics.nn.modules.conv.Conv             [128, 128, 3, 2]              \n",
      " 20             [-1, 9]  1         0  ultralytics.nn.modules.conv.Concat           [1]                           \n",
      " 21                  -1  1    493056  ultralytics.nn.modules.block.C2f             [384, 256, 1]                 \n",
      " 22        [15, 18, 21]  1    755017  ultralytics.nn.modules.head.Detect           [19, [64, 128, 256]]          \n"
     ]
    },
    {
     "name": "stderr",
     "output_type": "stream",
     "text": [
      "\n"
     ]
    },
    {
     "name": "stdout",
     "output_type": "stream",
     "text": [
      "Model summary: 129 layers, 3,014,553 parameters, 3,014,537 gradients, 8.2 GFLOPs\n",
      "\n",
      "Transferred 319/355 items from pretrained weights\n",
      "Freezing layer 'model.22.dfl.conv.weight'\n",
      "\u001b[34m\u001b[1mtrain: \u001b[0mFast image access  (ping: 0.20.0 ms, read: 196.632.7 MB/s, size: 314.6 KB)\n"
     ]
    },
    {
     "name": "stderr",
     "output_type": "stream",
     "text": [
      "\u001b[34m\u001b[1mtrain: \u001b[0mScanning C:\\Users\\Classic\\Desktop\\pr\\2\\train\\labels... 277 images, 0 backgrounds, 0 corrupt: 100%|██████████| 277/277 [00:00<00:00, 918.86it/s]"
     ]
    },
    {
     "name": "stdout",
     "output_type": "stream",
     "text": [
      "\u001b[34m\u001b[1mtrain: \u001b[0mNew cache created: C:\\Users\\Classic\\Desktop\\pr\\2\\train\\labels.cache\n",
      "\u001b[34m\u001b[1mval: \u001b[0mFast image access  (ping: 0.20.0 ms, read: 178.212.8 MB/s, size: 318.7 KB)\n"
     ]
    },
    {
     "name": "stderr",
     "output_type": "stream",
     "text": [
      "\n",
      "C:\\Users\\Classic\\anaconda3\\lib\\site-packages\\torch\\utils\\data\\dataloader.py:665: UserWarning: 'pin_memory' argument is set as true but no accelerator is found, then device pinned memory won't be used.\n",
      "  warnings.warn(warn_msg)\n",
      "\u001b[34m\u001b[1mval: \u001b[0mScanning C:\\Users\\Classic\\Desktop\\pr\\2\\valid\\labels... 80 images, 0 backgrounds, 0 corrupt: 100%|██████████| 80/80 [00:00<00:00, 557.45it/s]"
     ]
    },
    {
     "name": "stdout",
     "output_type": "stream",
     "text": [
      "\u001b[34m\u001b[1mval: \u001b[0mNew cache created: C:\\Users\\Classic\\Desktop\\pr\\2\\valid\\labels.cache\n"
     ]
    },
    {
     "name": "stderr",
     "output_type": "stream",
     "text": [
      "\n",
      "C:\\Users\\Classic\\anaconda3\\lib\\site-packages\\torch\\utils\\data\\dataloader.py:665: UserWarning: 'pin_memory' argument is set as true but no accelerator is found, then device pinned memory won't be used.\n",
      "  warnings.warn(warn_msg)\n"
     ]
    },
    {
     "name": "stdout",
     "output_type": "stream",
     "text": [
      "Plotting labels to runs\\detect\\train2\\labels.jpg... \n",
      "\u001b[34m\u001b[1moptimizer:\u001b[0m 'optimizer=auto' found, ignoring 'lr0=0.01' and 'momentum=0.937' and determining best 'optimizer', 'lr0' and 'momentum' automatically... \n",
      "\u001b[34m\u001b[1moptimizer:\u001b[0m AdamW(lr=0.000435, momentum=0.9) with parameter groups 57 weight(decay=0.0), 64 weight(decay=0.0005), 63 bias(decay=0.0)\n",
      "Image sizes 640 train, 640 val\n",
      "Using 0 dataloader workers\n",
      "Logging results to \u001b[1mruns\\detect\\train2\u001b[0m\n",
      "Starting training for 100 epochs...\n",
      "\n",
      "      Epoch    GPU_mem   box_loss   cls_loss   dfl_loss  Instances       Size\n"
     ]
    },
    {
     "name": "stderr",
     "output_type": "stream",
     "text": [
      "      1/100         0G      4.964      6.474      2.168        116        640: 100%|██████████| 18/18 [02:55<00:00,  9.73s/it]\n",
      "                 Class     Images  Instances      Box(P          R      mAP50  mAP50-95): 100%|██████████| 3/3 [00:17<00:00,  5.71s/it]"
     ]
    },
    {
     "name": "stdout",
     "output_type": "stream",
     "text": [
      "                   all         80       1520          0          0          0          0\n"
     ]
    },
    {
     "name": "stderr",
     "output_type": "stream",
     "text": [
      "\n"
     ]
    },
    {
     "name": "stdout",
     "output_type": "stream",
     "text": [
      "\n",
      "      Epoch    GPU_mem   box_loss   cls_loss   dfl_loss  Instances       Size\n"
     ]
    },
    {
     "name": "stderr",
     "output_type": "stream",
     "text": [
      "      2/100         0G      3.833      5.334      1.355         93        640: 100%|██████████| 18/18 [02:49<00:00,  9.40s/it]\n",
      "                 Class     Images  Instances      Box(P          R      mAP50  mAP50-95): 100%|██████████| 3/3 [00:16<00:00,  5.61s/it]"
     ]
    },
    {
     "name": "stdout",
     "output_type": "stream",
     "text": [
      "                   all         80       1520          0          0          0          0\n"
     ]
    },
    {
     "name": "stderr",
     "output_type": "stream",
     "text": [
      "\n"
     ]
    },
    {
     "name": "stdout",
     "output_type": "stream",
     "text": [
      "\n",
      "      Epoch    GPU_mem   box_loss   cls_loss   dfl_loss  Instances       Size\n"
     ]
    },
    {
     "name": "stderr",
     "output_type": "stream",
     "text": [
      "      3/100         0G      3.414      4.788      1.167        186        640: 100%|██████████| 18/18 [02:51<00:00,  9.54s/it]\n",
      "                 Class     Images  Instances      Box(P          R      mAP50  mAP50-95): 100%|██████████| 3/3 [00:17<00:00,  5.75s/it]"
     ]
    },
    {
     "name": "stdout",
     "output_type": "stream",
     "text": [
      "                   all         80       1520          0          0          0          0\n"
     ]
    },
    {
     "name": "stderr",
     "output_type": "stream",
     "text": [
      "\n"
     ]
    },
    {
     "name": "stdout",
     "output_type": "stream",
     "text": [
      "\n",
      "      Epoch    GPU_mem   box_loss   cls_loss   dfl_loss  Instances       Size\n"
     ]
    },
    {
     "name": "stderr",
     "output_type": "stream",
     "text": [
      "      4/100         0G      3.032      4.155      1.075        129        640: 100%|██████████| 18/18 [02:51<00:00,  9.52s/it]\n",
      "                 Class     Images  Instances      Box(P          R      mAP50  mAP50-95): 100%|██████████| 3/3 [00:16<00:00,  5.38s/it]"
     ]
    },
    {
     "name": "stdout",
     "output_type": "stream",
     "text": [
      "                   all         80       1520     0.0681      0.127     0.0664     0.0188\n"
     ]
    },
    {
     "name": "stderr",
     "output_type": "stream",
     "text": [
      "\n"
     ]
    },
    {
     "name": "stdout",
     "output_type": "stream",
     "text": [
      "\n",
      "      Epoch    GPU_mem   box_loss   cls_loss   dfl_loss  Instances       Size\n"
     ]
    },
    {
     "name": "stderr",
     "output_type": "stream",
     "text": [
      "      5/100         0G      2.896      3.535      1.055        114        640: 100%|██████████| 18/18 [02:50<00:00,  9.49s/it]\n",
      "                 Class     Images  Instances      Box(P          R      mAP50  mAP50-95): 100%|██████████| 3/3 [00:16<00:00,  5.34s/it]"
     ]
    },
    {
     "name": "stdout",
     "output_type": "stream",
     "text": [
      "                   all         80       1520     0.0534      0.451      0.155     0.0397\n"
     ]
    },
    {
     "name": "stderr",
     "output_type": "stream",
     "text": [
      "\n"
     ]
    },
    {
     "name": "stdout",
     "output_type": "stream",
     "text": [
      "\n",
      "      Epoch    GPU_mem   box_loss   cls_loss   dfl_loss  Instances       Size\n"
     ]
    },
    {
     "name": "stderr",
     "output_type": "stream",
     "text": [
      "      6/100         0G      2.747      3.082      1.035        121        640: 100%|██████████| 18/18 [02:50<00:00,  9.49s/it]\n",
      "                 Class     Images  Instances      Box(P          R      mAP50  mAP50-95): 100%|██████████| 3/3 [00:17<00:00,  5.95s/it]"
     ]
    },
    {
     "name": "stdout",
     "output_type": "stream",
     "text": [
      "                   all         80       1520      0.184      0.319        0.2     0.0638\n"
     ]
    },
    {
     "name": "stderr",
     "output_type": "stream",
     "text": [
      "\n"
     ]
    },
    {
     "name": "stdout",
     "output_type": "stream",
     "text": [
      "\n",
      "      Epoch    GPU_mem   box_loss   cls_loss   dfl_loss  Instances       Size\n"
     ]
    },
    {
     "name": "stderr",
     "output_type": "stream",
     "text": [
      "      7/100         0G      2.632      2.666      1.007         81        640: 100%|██████████| 18/18 [02:51<00:00,  9.56s/it]\n",
      "                 Class     Images  Instances      Box(P          R      mAP50  mAP50-95): 100%|██████████| 3/3 [00:18<00:00,  6.07s/it]"
     ]
    },
    {
     "name": "stdout",
     "output_type": "stream",
     "text": [
      "                   all         80       1520      0.498      0.197      0.276     0.0991\n"
     ]
    },
    {
     "name": "stderr",
     "output_type": "stream",
     "text": [
      "\n"
     ]
    },
    {
     "name": "stdout",
     "output_type": "stream",
     "text": [
      "\n",
      "      Epoch    GPU_mem   box_loss   cls_loss   dfl_loss  Instances       Size\n"
     ]
    },
    {
     "name": "stderr",
     "output_type": "stream",
     "text": [
      "      8/100         0G      2.499      2.355     0.9877        118        640: 100%|██████████| 18/18 [02:50<00:00,  9.46s/it]\n",
      "                 Class     Images  Instances      Box(P          R      mAP50  mAP50-95): 100%|██████████| 3/3 [00:17<00:00,  5.92s/it]"
     ]
    },
    {
     "name": "stdout",
     "output_type": "stream",
     "text": [
      "                   all         80       1520      0.455      0.359      0.353       0.13\n"
     ]
    },
    {
     "name": "stderr",
     "output_type": "stream",
     "text": [
      "\n"
     ]
    },
    {
     "name": "stdout",
     "output_type": "stream",
     "text": [
      "\n",
      "      Epoch    GPU_mem   box_loss   cls_loss   dfl_loss  Instances       Size\n"
     ]
    },
    {
     "name": "stderr",
     "output_type": "stream",
     "text": [
      "      9/100         0G      2.405      2.176     0.9847         95        640: 100%|██████████| 18/18 [02:49<00:00,  9.42s/it]\n",
      "                 Class     Images  Instances      Box(P          R      mAP50  mAP50-95): 100%|██████████| 3/3 [00:17<00:00,  5.90s/it]"
     ]
    },
    {
     "name": "stdout",
     "output_type": "stream",
     "text": [
      "                   all         80       1520      0.437      0.368      0.381      0.148\n"
     ]
    },
    {
     "name": "stderr",
     "output_type": "stream",
     "text": [
      "\n"
     ]
    },
    {
     "name": "stdout",
     "output_type": "stream",
     "text": [
      "\n",
      "      Epoch    GPU_mem   box_loss   cls_loss   dfl_loss  Instances       Size\n"
     ]
    },
    {
     "name": "stderr",
     "output_type": "stream",
     "text": [
      "     10/100         0G      2.399      2.024     0.9729        201        640: 100%|██████████| 18/18 [02:29<00:00,  8.31s/it]\n",
      "                 Class     Images  Instances      Box(P          R      mAP50  mAP50-95): 100%|██████████| 3/3 [00:10<00:00,  3.63s/it]"
     ]
    },
    {
     "name": "stdout",
     "output_type": "stream",
     "text": [
      "                   all         80       1520      0.482      0.385      0.414      0.164\n"
     ]
    },
    {
     "name": "stderr",
     "output_type": "stream",
     "text": [
      "\n"
     ]
    },
    {
     "name": "stdout",
     "output_type": "stream",
     "text": [
      "\n",
      "      Epoch    GPU_mem   box_loss   cls_loss   dfl_loss  Instances       Size\n"
     ]
    },
    {
     "name": "stderr",
     "output_type": "stream",
     "text": [
      "     11/100         0G      2.331      1.966     0.9729        130        640: 100%|██████████| 18/18 [02:00<00:00,  6.67s/it]\n",
      "                 Class     Images  Instances      Box(P          R      mAP50  mAP50-95): 100%|██████████| 3/3 [00:10<00:00,  3.38s/it]"
     ]
    },
    {
     "name": "stdout",
     "output_type": "stream",
     "text": [
      "                   all         80       1520      0.458      0.497      0.483      0.189\n"
     ]
    },
    {
     "name": "stderr",
     "output_type": "stream",
     "text": [
      "\n"
     ]
    },
    {
     "name": "stdout",
     "output_type": "stream",
     "text": [
      "\n",
      "      Epoch    GPU_mem   box_loss   cls_loss   dfl_loss  Instances       Size\n"
     ]
    },
    {
     "name": "stderr",
     "output_type": "stream",
     "text": [
      "     12/100         0G      2.271      1.884      0.957        161        640: 100%|██████████| 18/18 [01:54<00:00,  6.38s/it]\n",
      "                 Class     Images  Instances      Box(P          R      mAP50  mAP50-95): 100%|██████████| 3/3 [00:11<00:00,  3.78s/it]"
     ]
    },
    {
     "name": "stdout",
     "output_type": "stream",
     "text": [
      "                   all         80       1520      0.456      0.513      0.488      0.202\n"
     ]
    },
    {
     "name": "stderr",
     "output_type": "stream",
     "text": [
      "\n"
     ]
    },
    {
     "name": "stdout",
     "output_type": "stream",
     "text": [
      "\n",
      "      Epoch    GPU_mem   box_loss   cls_loss   dfl_loss  Instances       Size\n"
     ]
    },
    {
     "name": "stderr",
     "output_type": "stream",
     "text": [
      "     13/100         0G      2.226      1.824     0.9554        112        640: 100%|██████████| 18/18 [01:51<00:00,  6.22s/it]\n",
      "                 Class     Images  Instances      Box(P          R      mAP50  mAP50-95): 100%|██████████| 3/3 [00:10<00:00,  3.47s/it]"
     ]
    },
    {
     "name": "stdout",
     "output_type": "stream",
     "text": [
      "                   all         80       1520      0.475      0.561      0.519      0.222\n"
     ]
    },
    {
     "name": "stderr",
     "output_type": "stream",
     "text": [
      "\n"
     ]
    },
    {
     "name": "stdout",
     "output_type": "stream",
     "text": [
      "\n",
      "      Epoch    GPU_mem   box_loss   cls_loss   dfl_loss  Instances       Size\n"
     ]
    },
    {
     "name": "stderr",
     "output_type": "stream",
     "text": [
      "     14/100         0G      2.212       1.79     0.9442        193        640: 100%|██████████| 18/18 [01:53<00:00,  6.31s/it]\n",
      "                 Class     Images  Instances      Box(P          R      mAP50  mAP50-95): 100%|██████████| 3/3 [00:10<00:00,  3.41s/it]"
     ]
    },
    {
     "name": "stdout",
     "output_type": "stream",
     "text": [
      "                   all         80       1520      0.462      0.565      0.508      0.211\n"
     ]
    },
    {
     "name": "stderr",
     "output_type": "stream",
     "text": [
      "\n"
     ]
    },
    {
     "name": "stdout",
     "output_type": "stream",
     "text": [
      "\n",
      "      Epoch    GPU_mem   box_loss   cls_loss   dfl_loss  Instances       Size\n"
     ]
    },
    {
     "name": "stderr",
     "output_type": "stream",
     "text": [
      "     15/100         0G      2.185      1.753     0.9383        128        640: 100%|██████████| 18/18 [01:48<00:00,  6.05s/it]\n",
      "                 Class     Images  Instances      Box(P          R      mAP50  mAP50-95): 100%|██████████| 3/3 [00:11<00:00,  3.85s/it]"
     ]
    },
    {
     "name": "stdout",
     "output_type": "stream",
     "text": [
      "                   all         80       1520      0.473      0.575      0.539       0.24\n"
     ]
    },
    {
     "name": "stderr",
     "output_type": "stream",
     "text": [
      "\n"
     ]
    },
    {
     "name": "stdout",
     "output_type": "stream",
     "text": [
      "\n",
      "      Epoch    GPU_mem   box_loss   cls_loss   dfl_loss  Instances       Size\n"
     ]
    },
    {
     "name": "stderr",
     "output_type": "stream",
     "text": [
      "     16/100         0G      2.129      1.725     0.9357        191        640: 100%|██████████| 18/18 [01:50<00:00,  6.12s/it]\n",
      "                 Class     Images  Instances      Box(P          R      mAP50  mAP50-95): 100%|██████████| 3/3 [00:10<00:00,  3.42s/it]"
     ]
    },
    {
     "name": "stdout",
     "output_type": "stream",
     "text": [
      "                   all         80       1520      0.532      0.593       0.57      0.252\n"
     ]
    },
    {
     "name": "stderr",
     "output_type": "stream",
     "text": [
      "\n"
     ]
    },
    {
     "name": "stdout",
     "output_type": "stream",
     "text": [
      "\n",
      "      Epoch    GPU_mem   box_loss   cls_loss   dfl_loss  Instances       Size\n"
     ]
    },
    {
     "name": "stderr",
     "output_type": "stream",
     "text": [
      "     17/100         0G      2.132      1.706     0.9319        142        640: 100%|██████████| 18/18 [01:49<00:00,  6.06s/it]\n",
      "                 Class     Images  Instances      Box(P          R      mAP50  mAP50-95): 100%|██████████| 3/3 [00:10<00:00,  3.48s/it]"
     ]
    },
    {
     "name": "stdout",
     "output_type": "stream",
     "text": [
      "                   all         80       1520       0.52      0.623      0.573      0.254\n"
     ]
    },
    {
     "name": "stderr",
     "output_type": "stream",
     "text": [
      "\n"
     ]
    },
    {
     "name": "stdout",
     "output_type": "stream",
     "text": [
      "\n",
      "      Epoch    GPU_mem   box_loss   cls_loss   dfl_loss  Instances       Size\n"
     ]
    },
    {
     "name": "stderr",
     "output_type": "stream",
     "text": [
      "     18/100         0G      2.114      1.669     0.9276        118        640: 100%|██████████| 18/18 [01:47<00:00,  5.98s/it]\n",
      "                 Class     Images  Instances      Box(P          R      mAP50  mAP50-95): 100%|██████████| 3/3 [00:10<00:00,  3.40s/it]"
     ]
    },
    {
     "name": "stdout",
     "output_type": "stream",
     "text": [
      "                   all         80       1520      0.493      0.609      0.579      0.211\n"
     ]
    },
    {
     "name": "stderr",
     "output_type": "stream",
     "text": [
      "\n"
     ]
    },
    {
     "name": "stdout",
     "output_type": "stream",
     "text": [
      "\n",
      "      Epoch    GPU_mem   box_loss   cls_loss   dfl_loss  Instances       Size\n"
     ]
    },
    {
     "name": "stderr",
     "output_type": "stream",
     "text": [
      "     19/100         0G      2.202      1.651     0.9444        164        640: 100%|██████████| 18/18 [01:48<00:00,  6.01s/it]\n",
      "                 Class     Images  Instances      Box(P          R      mAP50  mAP50-95): 100%|██████████| 3/3 [00:10<00:00,  3.37s/it]"
     ]
    },
    {
     "name": "stdout",
     "output_type": "stream",
     "text": [
      "                   all         80       1520      0.502      0.608      0.571      0.254\n"
     ]
    },
    {
     "name": "stderr",
     "output_type": "stream",
     "text": [
      "\n"
     ]
    },
    {
     "name": "stdout",
     "output_type": "stream",
     "text": [
      "\n",
      "      Epoch    GPU_mem   box_loss   cls_loss   dfl_loss  Instances       Size\n"
     ]
    },
    {
     "name": "stderr",
     "output_type": "stream",
     "text": [
      "     20/100         0G      2.114       1.65     0.9394        131        640: 100%|██████████| 18/18 [01:44<00:00,  5.83s/it]\n",
      "                 Class     Images  Instances      Box(P          R      mAP50  mAP50-95): 100%|██████████| 3/3 [00:10<00:00,  3.59s/it]"
     ]
    },
    {
     "name": "stdout",
     "output_type": "stream",
     "text": [
      "                   all         80       1520      0.522      0.626      0.586      0.268\n"
     ]
    },
    {
     "name": "stderr",
     "output_type": "stream",
     "text": [
      "\n"
     ]
    },
    {
     "name": "stdout",
     "output_type": "stream",
     "text": [
      "\n",
      "      Epoch    GPU_mem   box_loss   cls_loss   dfl_loss  Instances       Size\n"
     ]
    },
    {
     "name": "stderr",
     "output_type": "stream",
     "text": [
      "     21/100         0G      2.046      1.622     0.9317        112        640: 100%|██████████| 18/18 [01:48<00:00,  6.01s/it]\n",
      "                 Class     Images  Instances      Box(P          R      mAP50  mAP50-95): 100%|██████████| 3/3 [00:10<00:00,  3.59s/it]"
     ]
    },
    {
     "name": "stdout",
     "output_type": "stream",
     "text": [
      "                   all         80       1520      0.509      0.636      0.589      0.268\n"
     ]
    },
    {
     "name": "stderr",
     "output_type": "stream",
     "text": [
      "\n"
     ]
    },
    {
     "name": "stdout",
     "output_type": "stream",
     "text": [
      "\n",
      "      Epoch    GPU_mem   box_loss   cls_loss   dfl_loss  Instances       Size\n"
     ]
    },
    {
     "name": "stderr",
     "output_type": "stream",
     "text": [
      "     22/100         0G      2.061      1.601     0.9263        127        640: 100%|██████████| 18/18 [01:55<00:00,  6.43s/it]\n",
      "                 Class     Images  Instances      Box(P          R      mAP50  mAP50-95): 100%|██████████| 3/3 [00:10<00:00,  3.35s/it]"
     ]
    },
    {
     "name": "stdout",
     "output_type": "stream",
     "text": [
      "                   all         80       1520      0.539      0.619      0.586      0.266\n"
     ]
    },
    {
     "name": "stderr",
     "output_type": "stream",
     "text": [
      "\n"
     ]
    },
    {
     "name": "stdout",
     "output_type": "stream",
     "text": [
      "\n",
      "      Epoch    GPU_mem   box_loss   cls_loss   dfl_loss  Instances       Size\n"
     ]
    },
    {
     "name": "stderr",
     "output_type": "stream",
     "text": [
      "     23/100         0G      2.085      1.617     0.9258        104        640: 100%|██████████| 18/18 [01:47<00:00,  5.97s/it]\n",
      "                 Class     Images  Instances      Box(P          R      mAP50  mAP50-95): 100%|██████████| 3/3 [00:10<00:00,  3.49s/it]"
     ]
    },
    {
     "name": "stdout",
     "output_type": "stream",
     "text": [
      "                   all         80       1520      0.524      0.612      0.581      0.268\n"
     ]
    },
    {
     "name": "stderr",
     "output_type": "stream",
     "text": [
      "\n"
     ]
    },
    {
     "name": "stdout",
     "output_type": "stream",
     "text": [
      "\n",
      "      Epoch    GPU_mem   box_loss   cls_loss   dfl_loss  Instances       Size\n"
     ]
    },
    {
     "name": "stderr",
     "output_type": "stream",
     "text": [
      "     24/100         0G      1.998      1.571     0.9197        170        640: 100%|██████████| 18/18 [01:59<00:00,  6.63s/it]\n",
      "                 Class     Images  Instances      Box(P          R      mAP50  mAP50-95): 100%|██████████| 3/3 [00:12<00:00,  4.08s/it]"
     ]
    },
    {
     "name": "stdout",
     "output_type": "stream",
     "text": [
      "                   all         80       1520      0.511      0.607      0.572      0.263\n"
     ]
    },
    {
     "name": "stderr",
     "output_type": "stream",
     "text": [
      "\n"
     ]
    },
    {
     "name": "stdout",
     "output_type": "stream",
     "text": [
      "\n",
      "      Epoch    GPU_mem   box_loss   cls_loss   dfl_loss  Instances       Size\n"
     ]
    },
    {
     "name": "stderr",
     "output_type": "stream",
     "text": [
      "     25/100         0G      2.012       1.58     0.9231        134        640: 100%|██████████| 18/18 [02:12<00:00,  7.38s/it]\n",
      "                 Class     Images  Instances      Box(P          R      mAP50  mAP50-95): 100%|██████████| 3/3 [00:10<00:00,  3.56s/it]"
     ]
    },
    {
     "name": "stdout",
     "output_type": "stream",
     "text": [
      "                   all         80       1520      0.544      0.626      0.598       0.27\n"
     ]
    },
    {
     "name": "stderr",
     "output_type": "stream",
     "text": [
      "\n"
     ]
    },
    {
     "name": "stdout",
     "output_type": "stream",
     "text": [
      "\n",
      "      Epoch    GPU_mem   box_loss   cls_loss   dfl_loss  Instances       Size\n"
     ]
    },
    {
     "name": "stderr",
     "output_type": "stream",
     "text": [
      "     26/100         0G      2.012      1.569     0.9182        140        640: 100%|██████████| 18/18 [01:56<00:00,  6.45s/it]\n",
      "                 Class     Images  Instances      Box(P          R      mAP50  mAP50-95): 100%|██████████| 3/3 [00:10<00:00,  3.44s/it]"
     ]
    },
    {
     "name": "stdout",
     "output_type": "stream",
     "text": [
      "                   all         80       1520      0.533       0.63      0.593      0.277\n"
     ]
    },
    {
     "name": "stderr",
     "output_type": "stream",
     "text": [
      "\n"
     ]
    },
    {
     "name": "stdout",
     "output_type": "stream",
     "text": [
      "\n",
      "      Epoch    GPU_mem   box_loss   cls_loss   dfl_loss  Instances       Size\n"
     ]
    },
    {
     "name": "stderr",
     "output_type": "stream",
     "text": [
      "     27/100         0G      2.046      1.556     0.9161        122        640: 100%|██████████| 18/18 [01:45<00:00,  5.89s/it]\n",
      "                 Class     Images  Instances      Box(P          R      mAP50  mAP50-95): 100%|██████████| 3/3 [00:10<00:00,  3.36s/it]"
     ]
    },
    {
     "name": "stdout",
     "output_type": "stream",
     "text": [
      "                   all         80       1520      0.497      0.622      0.574      0.254\n"
     ]
    },
    {
     "name": "stderr",
     "output_type": "stream",
     "text": [
      "\n"
     ]
    },
    {
     "name": "stdout",
     "output_type": "stream",
     "text": [
      "\n",
      "      Epoch    GPU_mem   box_loss   cls_loss   dfl_loss  Instances       Size\n"
     ]
    },
    {
     "name": "stderr",
     "output_type": "stream",
     "text": [
      "     28/100         0G      2.004      1.555     0.9164        123        640: 100%|██████████| 18/18 [01:54<00:00,  6.36s/it]\n",
      "                 Class     Images  Instances      Box(P          R      mAP50  mAP50-95): 100%|██████████| 3/3 [00:10<00:00,  3.50s/it]"
     ]
    },
    {
     "name": "stdout",
     "output_type": "stream",
     "text": [
      "                   all         80       1520      0.569      0.636      0.616      0.279\n"
     ]
    },
    {
     "name": "stderr",
     "output_type": "stream",
     "text": [
      "\n"
     ]
    },
    {
     "name": "stdout",
     "output_type": "stream",
     "text": [
      "\n",
      "      Epoch    GPU_mem   box_loss   cls_loss   dfl_loss  Instances       Size\n"
     ]
    },
    {
     "name": "stderr",
     "output_type": "stream",
     "text": [
      "     29/100         0G      1.982      1.531     0.9105        176        640: 100%|██████████| 18/18 [01:47<00:00,  5.96s/it]\n",
      "                 Class     Images  Instances      Box(P          R      mAP50  mAP50-95): 100%|██████████| 3/3 [00:09<00:00,  3.21s/it]"
     ]
    },
    {
     "name": "stdout",
     "output_type": "stream",
     "text": [
      "                   all         80       1520      0.526      0.627      0.603       0.28\n"
     ]
    },
    {
     "name": "stderr",
     "output_type": "stream",
     "text": [
      "\n"
     ]
    },
    {
     "name": "stdout",
     "output_type": "stream",
     "text": [
      "\n",
      "      Epoch    GPU_mem   box_loss   cls_loss   dfl_loss  Instances       Size\n"
     ]
    },
    {
     "name": "stderr",
     "output_type": "stream",
     "text": [
      "     30/100         0G      2.007      1.518      0.924        122        640: 100%|██████████| 18/18 [01:44<00:00,  5.78s/it]\n",
      "                 Class     Images  Instances      Box(P          R      mAP50  mAP50-95): 100%|██████████| 3/3 [00:10<00:00,  3.41s/it]"
     ]
    },
    {
     "name": "stdout",
     "output_type": "stream",
     "text": [
      "                   all         80       1520       0.54      0.653      0.615      0.286\n"
     ]
    },
    {
     "name": "stderr",
     "output_type": "stream",
     "text": [
      "\n"
     ]
    },
    {
     "name": "stdout",
     "output_type": "stream",
     "text": [
      "\n",
      "      Epoch    GPU_mem   box_loss   cls_loss   dfl_loss  Instances       Size\n"
     ]
    },
    {
     "name": "stderr",
     "output_type": "stream",
     "text": [
      "     31/100         0G      1.965      1.523     0.9072        161        640: 100%|██████████| 18/18 [01:44<00:00,  5.80s/it]\n",
      "                 Class     Images  Instances      Box(P          R      mAP50  mAP50-95): 100%|██████████| 3/3 [00:10<00:00,  3.42s/it]"
     ]
    },
    {
     "name": "stdout",
     "output_type": "stream",
     "text": [
      "                   all         80       1520      0.501      0.641      0.602      0.277\n"
     ]
    },
    {
     "name": "stderr",
     "output_type": "stream",
     "text": [
      "\n"
     ]
    },
    {
     "name": "stdout",
     "output_type": "stream",
     "text": [
      "\n",
      "      Epoch    GPU_mem   box_loss   cls_loss   dfl_loss  Instances       Size\n"
     ]
    },
    {
     "name": "stderr",
     "output_type": "stream",
     "text": [
      "     32/100         0G      1.973      1.521     0.9124        175        640: 100%|██████████| 18/18 [01:44<00:00,  5.79s/it]\n",
      "                 Class     Images  Instances      Box(P          R      mAP50  mAP50-95): 100%|██████████| 3/3 [00:10<00:00,  3.58s/it]"
     ]
    },
    {
     "name": "stdout",
     "output_type": "stream",
     "text": [
      "                   all         80       1520      0.544      0.648      0.613      0.288\n"
     ]
    },
    {
     "name": "stderr",
     "output_type": "stream",
     "text": [
      "\n"
     ]
    },
    {
     "name": "stdout",
     "output_type": "stream",
     "text": [
      "\n",
      "      Epoch    GPU_mem   box_loss   cls_loss   dfl_loss  Instances       Size\n"
     ]
    },
    {
     "name": "stderr",
     "output_type": "stream",
     "text": [
      "     33/100         0G      1.912      1.484     0.9101        100        640: 100%|██████████| 18/18 [01:43<00:00,  5.76s/it]\n",
      "                 Class     Images  Instances      Box(P          R      mAP50  mAP50-95): 100%|██████████| 3/3 [00:09<00:00,  3.29s/it]"
     ]
    },
    {
     "name": "stdout",
     "output_type": "stream",
     "text": [
      "                   all         80       1520      0.542      0.653      0.615      0.291\n"
     ]
    },
    {
     "name": "stderr",
     "output_type": "stream",
     "text": [
      "\n"
     ]
    },
    {
     "name": "stdout",
     "output_type": "stream",
     "text": [
      "\n",
      "      Epoch    GPU_mem   box_loss   cls_loss   dfl_loss  Instances       Size\n"
     ]
    },
    {
     "name": "stderr",
     "output_type": "stream",
     "text": [
      "     34/100         0G      1.937      1.486     0.9045        180        640: 100%|██████████| 18/18 [01:46<00:00,  5.90s/it]\n",
      "                 Class     Images  Instances      Box(P          R      mAP50  mAP50-95): 100%|██████████| 3/3 [00:09<00:00,  3.26s/it]"
     ]
    },
    {
     "name": "stdout",
     "output_type": "stream",
     "text": [
      "                   all         80       1520      0.551      0.631      0.613      0.296\n"
     ]
    },
    {
     "name": "stderr",
     "output_type": "stream",
     "text": [
      "\n"
     ]
    },
    {
     "name": "stdout",
     "output_type": "stream",
     "text": [
      "\n",
      "      Epoch    GPU_mem   box_loss   cls_loss   dfl_loss  Instances       Size\n"
     ]
    },
    {
     "name": "stderr",
     "output_type": "stream",
     "text": [
      "     35/100         0G      1.934      1.487     0.9058        186        640: 100%|██████████| 18/18 [01:53<00:00,  6.30s/it]\n",
      "                 Class     Images  Instances      Box(P          R      mAP50  mAP50-95): 100%|██████████| 3/3 [00:10<00:00,  3.46s/it]"
     ]
    },
    {
     "name": "stdout",
     "output_type": "stream",
     "text": [
      "                   all         80       1520      0.544      0.652      0.619       0.29\n"
     ]
    },
    {
     "name": "stderr",
     "output_type": "stream",
     "text": [
      "\n"
     ]
    },
    {
     "name": "stdout",
     "output_type": "stream",
     "text": [
      "\n",
      "      Epoch    GPU_mem   box_loss   cls_loss   dfl_loss  Instances       Size\n"
     ]
    },
    {
     "name": "stderr",
     "output_type": "stream",
     "text": [
      "     36/100         0G      1.915      1.481     0.9032        179        640: 100%|██████████| 18/18 [01:49<00:00,  6.06s/it]\n",
      "                 Class     Images  Instances      Box(P          R      mAP50  mAP50-95): 100%|██████████| 3/3 [00:09<00:00,  3.21s/it]"
     ]
    },
    {
     "name": "stdout",
     "output_type": "stream",
     "text": [
      "                   all         80       1520      0.532       0.65      0.611      0.288\n"
     ]
    },
    {
     "name": "stderr",
     "output_type": "stream",
     "text": [
      "\n"
     ]
    },
    {
     "name": "stdout",
     "output_type": "stream",
     "text": [
      "\n",
      "      Epoch    GPU_mem   box_loss   cls_loss   dfl_loss  Instances       Size\n"
     ]
    },
    {
     "name": "stderr",
     "output_type": "stream",
     "text": [
      "     37/100         0G      1.874      1.468     0.9112        107        640: 100%|██████████| 18/18 [01:45<00:00,  5.86s/it]\n",
      "                 Class     Images  Instances      Box(P          R      mAP50  mAP50-95): 100%|██████████| 3/3 [00:09<00:00,  3.20s/it]"
     ]
    },
    {
     "name": "stdout",
     "output_type": "stream",
     "text": [
      "                   all         80       1520      0.534      0.671      0.621      0.297\n"
     ]
    },
    {
     "name": "stderr",
     "output_type": "stream",
     "text": [
      "\n"
     ]
    },
    {
     "name": "stdout",
     "output_type": "stream",
     "text": [
      "\n",
      "      Epoch    GPU_mem   box_loss   cls_loss   dfl_loss  Instances       Size\n"
     ]
    },
    {
     "name": "stderr",
     "output_type": "stream",
     "text": [
      "     38/100         0G      1.915      1.466     0.9038         86        640: 100%|██████████| 18/18 [01:46<00:00,  5.91s/it]\n",
      "                 Class     Images  Instances      Box(P          R      mAP50  mAP50-95): 100%|██████████| 3/3 [00:09<00:00,  3.09s/it]"
     ]
    },
    {
     "name": "stdout",
     "output_type": "stream",
     "text": [
      "                   all         80       1520      0.568      0.642      0.632      0.296\n"
     ]
    },
    {
     "name": "stderr",
     "output_type": "stream",
     "text": [
      "\n"
     ]
    },
    {
     "name": "stdout",
     "output_type": "stream",
     "text": [
      "\n",
      "      Epoch    GPU_mem   box_loss   cls_loss   dfl_loss  Instances       Size\n"
     ]
    },
    {
     "name": "stderr",
     "output_type": "stream",
     "text": [
      "     39/100         0G      1.907      1.446     0.9033        185        640: 100%|██████████| 18/18 [01:47<00:00,  6.00s/it]\n",
      "                 Class     Images  Instances      Box(P          R      mAP50  mAP50-95): 100%|██████████| 3/3 [00:09<00:00,  3.12s/it]"
     ]
    },
    {
     "name": "stdout",
     "output_type": "stream",
     "text": [
      "                   all         80       1520      0.533      0.661      0.623      0.296\n"
     ]
    },
    {
     "name": "stderr",
     "output_type": "stream",
     "text": [
      "\n"
     ]
    },
    {
     "name": "stdout",
     "output_type": "stream",
     "text": [
      "\n",
      "      Epoch    GPU_mem   box_loss   cls_loss   dfl_loss  Instances       Size\n"
     ]
    },
    {
     "name": "stderr",
     "output_type": "stream",
     "text": [
      "     40/100         0G      1.868      1.426     0.8993        161        640: 100%|██████████| 18/18 [01:46<00:00,  5.90s/it]\n",
      "                 Class     Images  Instances      Box(P          R      mAP50  mAP50-95): 100%|██████████| 3/3 [00:09<00:00,  3.11s/it]"
     ]
    },
    {
     "name": "stdout",
     "output_type": "stream",
     "text": [
      "                   all         80       1520       0.57       0.65      0.636      0.298\n"
     ]
    },
    {
     "name": "stderr",
     "output_type": "stream",
     "text": [
      "\n"
     ]
    },
    {
     "name": "stdout",
     "output_type": "stream",
     "text": [
      "\n",
      "      Epoch    GPU_mem   box_loss   cls_loss   dfl_loss  Instances       Size\n"
     ]
    },
    {
     "name": "stderr",
     "output_type": "stream",
     "text": [
      "     41/100         0G      1.911      1.435      0.901        206        640: 100%|██████████| 18/18 [01:46<00:00,  5.90s/it]\n",
      "                 Class     Images  Instances      Box(P          R      mAP50  mAP50-95): 100%|██████████| 3/3 [00:09<00:00,  3.11s/it]"
     ]
    },
    {
     "name": "stdout",
     "output_type": "stream",
     "text": [
      "                   all         80       1520      0.544      0.642       0.62      0.289\n"
     ]
    },
    {
     "name": "stderr",
     "output_type": "stream",
     "text": [
      "\n"
     ]
    },
    {
     "name": "stdout",
     "output_type": "stream",
     "text": [
      "\n",
      "      Epoch    GPU_mem   box_loss   cls_loss   dfl_loss  Instances       Size\n"
     ]
    },
    {
     "name": "stderr",
     "output_type": "stream",
     "text": [
      "     42/100         0G      1.866      1.422     0.9011        126        640: 100%|██████████| 18/18 [01:46<00:00,  5.92s/it]\n",
      "                 Class     Images  Instances      Box(P          R      mAP50  mAP50-95): 100%|██████████| 3/3 [00:09<00:00,  3.08s/it]"
     ]
    },
    {
     "name": "stdout",
     "output_type": "stream",
     "text": [
      "                   all         80       1520       0.52      0.656       0.62      0.294\n"
     ]
    },
    {
     "name": "stderr",
     "output_type": "stream",
     "text": [
      "\n"
     ]
    },
    {
     "name": "stdout",
     "output_type": "stream",
     "text": [
      "\n",
      "      Epoch    GPU_mem   box_loss   cls_loss   dfl_loss  Instances       Size\n"
     ]
    },
    {
     "name": "stderr",
     "output_type": "stream",
     "text": [
      "     43/100         0G      1.855      1.441     0.9015        146        640: 100%|██████████| 18/18 [01:46<00:00,  5.92s/it]\n",
      "                 Class     Images  Instances      Box(P          R      mAP50  mAP50-95): 100%|██████████| 3/3 [00:09<00:00,  3.14s/it]"
     ]
    },
    {
     "name": "stdout",
     "output_type": "stream",
     "text": [
      "                   all         80       1520      0.562      0.634      0.626        0.3\n"
     ]
    },
    {
     "name": "stderr",
     "output_type": "stream",
     "text": [
      "\n"
     ]
    },
    {
     "name": "stdout",
     "output_type": "stream",
     "text": [
      "\n",
      "      Epoch    GPU_mem   box_loss   cls_loss   dfl_loss  Instances       Size\n"
     ]
    },
    {
     "name": "stderr",
     "output_type": "stream",
     "text": [
      "     44/100         0G      1.877      1.404     0.8953        129        640: 100%|██████████| 18/18 [01:46<00:00,  5.92s/it]\n",
      "                 Class     Images  Instances      Box(P          R      mAP50  mAP50-95): 100%|██████████| 3/3 [00:09<00:00,  3.29s/it]"
     ]
    },
    {
     "name": "stdout",
     "output_type": "stream",
     "text": [
      "                   all         80       1520      0.562      0.643      0.633      0.303\n"
     ]
    },
    {
     "name": "stderr",
     "output_type": "stream",
     "text": [
      "\n"
     ]
    },
    {
     "name": "stdout",
     "output_type": "stream",
     "text": [
      "\n",
      "      Epoch    GPU_mem   box_loss   cls_loss   dfl_loss  Instances       Size\n"
     ]
    },
    {
     "name": "stderr",
     "output_type": "stream",
     "text": [
      "     45/100         0G      1.844      1.406     0.8967        237        640: 100%|██████████| 18/18 [01:49<00:00,  6.07s/it]\n",
      "                 Class     Images  Instances      Box(P          R      mAP50  mAP50-95): 100%|██████████| 3/3 [00:11<00:00,  3.67s/it]"
     ]
    },
    {
     "name": "stdout",
     "output_type": "stream",
     "text": [
      "                   all         80       1520      0.546      0.661      0.626      0.304\n"
     ]
    },
    {
     "name": "stderr",
     "output_type": "stream",
     "text": [
      "\n"
     ]
    },
    {
     "name": "stdout",
     "output_type": "stream",
     "text": [
      "\n",
      "      Epoch    GPU_mem   box_loss   cls_loss   dfl_loss  Instances       Size\n"
     ]
    },
    {
     "name": "stderr",
     "output_type": "stream",
     "text": [
      "     46/100         0G      1.832      1.395     0.8958        113        640: 100%|██████████| 18/18 [01:53<00:00,  6.33s/it]\n",
      "                 Class     Images  Instances      Box(P          R      mAP50  mAP50-95): 100%|██████████| 3/3 [00:09<00:00,  3.11s/it]"
     ]
    },
    {
     "name": "stdout",
     "output_type": "stream",
     "text": [
      "                   all         80       1520      0.541      0.637      0.624      0.298\n"
     ]
    },
    {
     "name": "stderr",
     "output_type": "stream",
     "text": [
      "\n"
     ]
    },
    {
     "name": "stdout",
     "output_type": "stream",
     "text": [
      "\n",
      "      Epoch    GPU_mem   box_loss   cls_loss   dfl_loss  Instances       Size\n"
     ]
    },
    {
     "name": "stderr",
     "output_type": "stream",
     "text": [
      "     47/100         0G      1.815      1.402     0.8886        164        640: 100%|██████████| 18/18 [01:47<00:00,  5.98s/it]\n",
      "                 Class     Images  Instances      Box(P          R      mAP50  mAP50-95): 100%|██████████| 3/3 [00:09<00:00,  3.12s/it]"
     ]
    },
    {
     "name": "stdout",
     "output_type": "stream",
     "text": [
      "                   all         80       1520      0.565      0.685      0.635      0.305\n"
     ]
    },
    {
     "name": "stderr",
     "output_type": "stream",
     "text": [
      "\n"
     ]
    },
    {
     "name": "stdout",
     "output_type": "stream",
     "text": [
      "\n",
      "      Epoch    GPU_mem   box_loss   cls_loss   dfl_loss  Instances       Size\n"
     ]
    },
    {
     "name": "stderr",
     "output_type": "stream",
     "text": [
      "     48/100         0G       1.82      1.389     0.8901        161        640: 100%|██████████| 18/18 [01:46<00:00,  5.91s/it]\n",
      "                 Class     Images  Instances      Box(P          R      mAP50  mAP50-95): 100%|██████████| 3/3 [00:09<00:00,  3.15s/it]"
     ]
    },
    {
     "name": "stdout",
     "output_type": "stream",
     "text": [
      "                   all         80       1520      0.561      0.687      0.639       0.31\n"
     ]
    },
    {
     "name": "stderr",
     "output_type": "stream",
     "text": [
      "\n"
     ]
    },
    {
     "name": "stdout",
     "output_type": "stream",
     "text": [
      "\n",
      "      Epoch    GPU_mem   box_loss   cls_loss   dfl_loss  Instances       Size\n"
     ]
    },
    {
     "name": "stderr",
     "output_type": "stream",
     "text": [
      "     49/100         0G      1.832      1.404     0.8996        115        640: 100%|██████████| 18/18 [01:55<00:00,  6.39s/it]\n",
      "                 Class     Images  Instances      Box(P          R      mAP50  mAP50-95): 100%|██████████| 3/3 [00:18<00:00,  6.02s/it]"
     ]
    },
    {
     "name": "stdout",
     "output_type": "stream",
     "text": [
      "                   all         80       1520      0.549      0.674      0.629      0.303\n"
     ]
    },
    {
     "name": "stderr",
     "output_type": "stream",
     "text": [
      "\n"
     ]
    },
    {
     "name": "stdout",
     "output_type": "stream",
     "text": [
      "\n",
      "      Epoch    GPU_mem   box_loss   cls_loss   dfl_loss  Instances       Size\n"
     ]
    },
    {
     "name": "stderr",
     "output_type": "stream",
     "text": [
      "     50/100         0G      1.862      1.395     0.8961        151        640: 100%|██████████| 18/18 [02:46<00:00,  9.24s/it]\n",
      "                 Class     Images  Instances      Box(P          R      mAP50  mAP50-95): 100%|██████████| 3/3 [00:17<00:00,  5.90s/it]"
     ]
    },
    {
     "name": "stdout",
     "output_type": "stream",
     "text": [
      "                   all         80       1520      0.538       0.66      0.621      0.288\n"
     ]
    },
    {
     "name": "stderr",
     "output_type": "stream",
     "text": [
      "\n"
     ]
    },
    {
     "name": "stdout",
     "output_type": "stream",
     "text": [
      "\n",
      "      Epoch    GPU_mem   box_loss   cls_loss   dfl_loss  Instances       Size\n"
     ]
    },
    {
     "name": "stderr",
     "output_type": "stream",
     "text": [
      "     51/100         0G       1.83       1.38     0.9015        135        640: 100%|██████████| 18/18 [02:51<00:00,  9.52s/it]\n",
      "                 Class     Images  Instances      Box(P          R      mAP50  mAP50-95): 100%|██████████| 3/3 [00:16<00:00,  5.62s/it]"
     ]
    },
    {
     "name": "stdout",
     "output_type": "stream",
     "text": [
      "                   all         80       1520      0.582      0.693      0.652      0.307\n"
     ]
    },
    {
     "name": "stderr",
     "output_type": "stream",
     "text": [
      "\n"
     ]
    },
    {
     "name": "stdout",
     "output_type": "stream",
     "text": [
      "\n",
      "      Epoch    GPU_mem   box_loss   cls_loss   dfl_loss  Instances       Size\n"
     ]
    },
    {
     "name": "stderr",
     "output_type": "stream",
     "text": [
      "     52/100         0G      1.821      1.368     0.8911        161        640: 100%|██████████| 18/18 [02:55<00:00,  9.77s/it]\n",
      "                 Class     Images  Instances      Box(P          R      mAP50  mAP50-95): 100%|██████████| 3/3 [00:17<00:00,  5.87s/it]"
     ]
    },
    {
     "name": "stdout",
     "output_type": "stream",
     "text": [
      "                   all         80       1520      0.564      0.674      0.647      0.312\n"
     ]
    },
    {
     "name": "stderr",
     "output_type": "stream",
     "text": [
      "\n"
     ]
    },
    {
     "name": "stdout",
     "output_type": "stream",
     "text": [
      "\n",
      "      Epoch    GPU_mem   box_loss   cls_loss   dfl_loss  Instances       Size\n"
     ]
    },
    {
     "name": "stderr",
     "output_type": "stream",
     "text": [
      "     53/100         0G      1.841      1.413     0.9008        408        640:  33%|███▎      | 6/18 [01:11<02:22, 11.91s/it]\n"
     ]
    },
    {
     "ename": "KeyboardInterrupt",
     "evalue": "",
     "output_type": "error",
     "traceback": [
      "\u001b[1;31m---------------------------------------------------------------------------\u001b[0m",
      "\u001b[1;31mKeyboardInterrupt\u001b[0m                         Traceback (most recent call last)",
      "\u001b[1;32m~\\AppData\\Local\\Temp\\ipykernel_1280\\1060773078.py\u001b[0m in \u001b[0;36m<module>\u001b[1;34m\u001b[0m\n\u001b[0;32m      4\u001b[0m \u001b[0mdata_yaml_path\u001b[0m \u001b[1;33m=\u001b[0m \u001b[1;34mr'C:\\Users\\Classic\\Desktop\\pr\\2\\data.yaml'\u001b[0m\u001b[1;33m\u001b[0m\u001b[1;33m\u001b[0m\u001b[0m\n\u001b[0;32m      5\u001b[0m \u001b[1;33m\u001b[0m\u001b[0m\n\u001b[1;32m----> 6\u001b[1;33m results = model.train(\n\u001b[0m\u001b[0;32m      7\u001b[0m     \u001b[0mdata\u001b[0m\u001b[1;33m=\u001b[0m\u001b[0mdata_yaml_path\u001b[0m\u001b[1;33m,\u001b[0m\u001b[1;33m\u001b[0m\u001b[1;33m\u001b[0m\u001b[0m\n\u001b[0;32m      8\u001b[0m     \u001b[0mepochs\u001b[0m\u001b[1;33m=\u001b[0m\u001b[1;36m100\u001b[0m\u001b[1;33m,\u001b[0m\u001b[1;33m\u001b[0m\u001b[1;33m\u001b[0m\u001b[0m\n",
      "\u001b[1;32m~\\anaconda3\\lib\\site-packages\\ultralytics\\engine\\model.py\u001b[0m in \u001b[0;36mtrain\u001b[1;34m(self, trainer, **kwargs)\u001b[0m\n\u001b[0;32m    788\u001b[0m \u001b[1;33m\u001b[0m\u001b[0m\n\u001b[0;32m    789\u001b[0m         \u001b[0mself\u001b[0m\u001b[1;33m.\u001b[0m\u001b[0mtrainer\u001b[0m\u001b[1;33m.\u001b[0m\u001b[0mhub_session\u001b[0m \u001b[1;33m=\u001b[0m \u001b[0mself\u001b[0m\u001b[1;33m.\u001b[0m\u001b[0msession\u001b[0m  \u001b[1;31m# attach optional HUB session\u001b[0m\u001b[1;33m\u001b[0m\u001b[1;33m\u001b[0m\u001b[0m\n\u001b[1;32m--> 790\u001b[1;33m         \u001b[0mself\u001b[0m\u001b[1;33m.\u001b[0m\u001b[0mtrainer\u001b[0m\u001b[1;33m.\u001b[0m\u001b[0mtrain\u001b[0m\u001b[1;33m(\u001b[0m\u001b[1;33m)\u001b[0m\u001b[1;33m\u001b[0m\u001b[1;33m\u001b[0m\u001b[0m\n\u001b[0m\u001b[0;32m    791\u001b[0m         \u001b[1;31m# Update model and cfg after training\u001b[0m\u001b[1;33m\u001b[0m\u001b[1;33m\u001b[0m\u001b[0m\n\u001b[0;32m    792\u001b[0m         \u001b[1;32mif\u001b[0m \u001b[0mRANK\u001b[0m \u001b[1;32min\u001b[0m \u001b[1;33m{\u001b[0m\u001b[1;33m-\u001b[0m\u001b[1;36m1\u001b[0m\u001b[1;33m,\u001b[0m \u001b[1;36m0\u001b[0m\u001b[1;33m}\u001b[0m\u001b[1;33m:\u001b[0m\u001b[1;33m\u001b[0m\u001b[1;33m\u001b[0m\u001b[0m\n",
      "\u001b[1;32m~\\anaconda3\\lib\\site-packages\\ultralytics\\engine\\trainer.py\u001b[0m in \u001b[0;36mtrain\u001b[1;34m(self)\u001b[0m\n\u001b[0;32m    208\u001b[0m \u001b[1;33m\u001b[0m\u001b[0m\n\u001b[0;32m    209\u001b[0m         \u001b[1;32melse\u001b[0m\u001b[1;33m:\u001b[0m\u001b[1;33m\u001b[0m\u001b[1;33m\u001b[0m\u001b[0m\n\u001b[1;32m--> 210\u001b[1;33m             \u001b[0mself\u001b[0m\u001b[1;33m.\u001b[0m\u001b[0m_do_train\u001b[0m\u001b[1;33m(\u001b[0m\u001b[0mworld_size\u001b[0m\u001b[1;33m)\u001b[0m\u001b[1;33m\u001b[0m\u001b[1;33m\u001b[0m\u001b[0m\n\u001b[0m\u001b[0;32m    211\u001b[0m \u001b[1;33m\u001b[0m\u001b[0m\n\u001b[0;32m    212\u001b[0m     \u001b[1;32mdef\u001b[0m \u001b[0m_setup_scheduler\u001b[0m\u001b[1;33m(\u001b[0m\u001b[0mself\u001b[0m\u001b[1;33m)\u001b[0m\u001b[1;33m:\u001b[0m\u001b[1;33m\u001b[0m\u001b[1;33m\u001b[0m\u001b[0m\n",
      "\u001b[1;32m~\\anaconda3\\lib\\site-packages\\ultralytics\\engine\\trainer.py\u001b[0m in \u001b[0;36m_do_train\u001b[1;34m(self, world_size)\u001b[0m\n\u001b[0;32m    391\u001b[0m \u001b[1;33m\u001b[0m\u001b[0m\n\u001b[0;32m    392\u001b[0m                 \u001b[1;31m# Backward\u001b[0m\u001b[1;33m\u001b[0m\u001b[1;33m\u001b[0m\u001b[0m\n\u001b[1;32m--> 393\u001b[1;33m                 \u001b[0mself\u001b[0m\u001b[1;33m.\u001b[0m\u001b[0mscaler\u001b[0m\u001b[1;33m.\u001b[0m\u001b[0mscale\u001b[0m\u001b[1;33m(\u001b[0m\u001b[0mself\u001b[0m\u001b[1;33m.\u001b[0m\u001b[0mloss\u001b[0m\u001b[1;33m)\u001b[0m\u001b[1;33m.\u001b[0m\u001b[0mbackward\u001b[0m\u001b[1;33m(\u001b[0m\u001b[1;33m)\u001b[0m\u001b[1;33m\u001b[0m\u001b[1;33m\u001b[0m\u001b[0m\n\u001b[0m\u001b[0;32m    394\u001b[0m \u001b[1;33m\u001b[0m\u001b[0m\n\u001b[0;32m    395\u001b[0m                 \u001b[1;31m# Optimize - https://pytorch.org/docs/master/notes/amp_examples.html\u001b[0m\u001b[1;33m\u001b[0m\u001b[1;33m\u001b[0m\u001b[0m\n",
      "\u001b[1;32m~\\anaconda3\\lib\\site-packages\\torch\\_tensor.py\u001b[0m in \u001b[0;36mbackward\u001b[1;34m(self, gradient, retain_graph, create_graph, inputs)\u001b[0m\n\u001b[0;32m    646\u001b[0m                 \u001b[0minputs\u001b[0m\u001b[1;33m=\u001b[0m\u001b[0minputs\u001b[0m\u001b[1;33m,\u001b[0m\u001b[1;33m\u001b[0m\u001b[1;33m\u001b[0m\u001b[0m\n\u001b[0;32m    647\u001b[0m             )\n\u001b[1;32m--> 648\u001b[1;33m         torch.autograd.backward(\n\u001b[0m\u001b[0;32m    649\u001b[0m             \u001b[0mself\u001b[0m\u001b[1;33m,\u001b[0m \u001b[0mgradient\u001b[0m\u001b[1;33m,\u001b[0m \u001b[0mretain_graph\u001b[0m\u001b[1;33m,\u001b[0m \u001b[0mcreate_graph\u001b[0m\u001b[1;33m,\u001b[0m \u001b[0minputs\u001b[0m\u001b[1;33m=\u001b[0m\u001b[0minputs\u001b[0m\u001b[1;33m\u001b[0m\u001b[1;33m\u001b[0m\u001b[0m\n\u001b[0;32m    650\u001b[0m         )\n",
      "\u001b[1;32m~\\anaconda3\\lib\\site-packages\\torch\\autograd\\__init__.py\u001b[0m in \u001b[0;36mbackward\u001b[1;34m(tensors, grad_tensors, retain_graph, create_graph, grad_variables, inputs)\u001b[0m\n\u001b[0;32m    351\u001b[0m     \u001b[1;31m# some Python versions print out the first line of a multi-line function\u001b[0m\u001b[1;33m\u001b[0m\u001b[1;33m\u001b[0m\u001b[0m\n\u001b[0;32m    352\u001b[0m     \u001b[1;31m# calls in the traceback and some print out the last line\u001b[0m\u001b[1;33m\u001b[0m\u001b[1;33m\u001b[0m\u001b[0m\n\u001b[1;32m--> 353\u001b[1;33m     _engine_run_backward(\n\u001b[0m\u001b[0;32m    354\u001b[0m         \u001b[0mtensors\u001b[0m\u001b[1;33m,\u001b[0m\u001b[1;33m\u001b[0m\u001b[1;33m\u001b[0m\u001b[0m\n\u001b[0;32m    355\u001b[0m         \u001b[0mgrad_tensors_\u001b[0m\u001b[1;33m,\u001b[0m\u001b[1;33m\u001b[0m\u001b[1;33m\u001b[0m\u001b[0m\n",
      "\u001b[1;32m~\\anaconda3\\lib\\site-packages\\torch\\autograd\\graph.py\u001b[0m in \u001b[0;36m_engine_run_backward\u001b[1;34m(t_outputs, *args, **kwargs)\u001b[0m\n\u001b[0;32m    822\u001b[0m         \u001b[0munregister_hooks\u001b[0m \u001b[1;33m=\u001b[0m \u001b[0m_register_logging_hooks_on_whole_graph\u001b[0m\u001b[1;33m(\u001b[0m\u001b[0mt_outputs\u001b[0m\u001b[1;33m)\u001b[0m\u001b[1;33m\u001b[0m\u001b[1;33m\u001b[0m\u001b[0m\n\u001b[0;32m    823\u001b[0m     \u001b[1;32mtry\u001b[0m\u001b[1;33m:\u001b[0m\u001b[1;33m\u001b[0m\u001b[1;33m\u001b[0m\u001b[0m\n\u001b[1;32m--> 824\u001b[1;33m         return Variable._execution_engine.run_backward(  # Calls into the C++ engine to run the backward pass\n\u001b[0m\u001b[0;32m    825\u001b[0m             \u001b[0mt_outputs\u001b[0m\u001b[1;33m,\u001b[0m \u001b[1;33m*\u001b[0m\u001b[0margs\u001b[0m\u001b[1;33m,\u001b[0m \u001b[1;33m**\u001b[0m\u001b[0mkwargs\u001b[0m\u001b[1;33m\u001b[0m\u001b[1;33m\u001b[0m\u001b[0m\n\u001b[0;32m    826\u001b[0m         )  # Calls into the C++ engine to run the backward pass\n",
      "\u001b[1;31mKeyboardInterrupt\u001b[0m: "
     ]
    }
   ],
   "source": [
    " \n",
    "\n",
    "\n",
    "# تحميل نموذج YOLOv8 صغير (nano) مُسبق التدريب\n",
    "model = YOLO('yolov8n.pt')\n",
    "\n",
    "data_yaml_path = r'C:\\Users\\Classic\\Desktop\\pr\\2\\data.yaml'\n",
    "\n",
    "results = model.train(\n",
    "    data=data_yaml_path,\n",
    "    epochs=100,\n",
    "    imgsz=1024\n",
    ")\n",
    "\n",
    "\n"
   ]
  },
  {
   "cell_type": "code",
   "execution_count": 14,
   "metadata": {
    "id": "Nm0OpIpMs7hJ"
   },
   "outputs": [
    {
     "name": "stdout",
     "output_type": "stream",
     "text": [
      "Ultralytics 8.3.115  Python-3.9.13 torch-2.7.0+cpu CPU (Intel Core(TM) i7-6820HQ 2.70GHz)\n",
      "\u001b[34m\u001b[1mval: \u001b[0mFast image access  (ping: 0.00.0 ms, read: 1500.7308.4 MB/s, size: 304.1 KB)\n"
     ]
    },
    {
     "name": "stderr",
     "output_type": "stream",
     "text": [
      "\u001b[34m\u001b[1mval: \u001b[0mScanning C:\\Users\\Classic\\Desktop\\pr\\2\\valid\\labels.cache... 80 images, 0 backgrounds, 0 corrupt: 100%|██████████| 80/80 [00:00<?, ?it/s]\n",
      "C:\\Users\\Classic\\anaconda3\\lib\\site-packages\\torch\\utils\\data\\dataloader.py:665: UserWarning: 'pin_memory' argument is set as true but no accelerator is found, then device pinned memory won't be used.\n",
      "  warnings.warn(warn_msg)\n",
      "                 Class     Images  Instances      Box(P          R      mAP50  mAP50-95): 100%|██████████| 5/5 [00:17<00:00,  3.56s/it]\n"
     ]
    },
    {
     "name": "stdout",
     "output_type": "stream",
     "text": [
      "                   all         80       1520      0.587      0.648      0.643       0.31\n",
      "  Anterior nasal spine         80         80      0.496       0.59      0.478      0.173\n",
      "            Articulare         80         80      0.468       0.45      0.438      0.194\n",
      "              Gnathion         80         80      0.647      0.912      0.873      0.459\n",
      "                Gonion         80         80      0.279      0.188      0.267     0.0986\n",
      "     Incision inferius         80         80      0.707       0.75      0.795      0.319\n",
      "     Incision superius         80         80      0.822      0.887      0.952      0.533\n",
      "             Lower lip         80         80      0.573      0.775      0.773      0.379\n",
      "                Menton         80         80      0.741      0.925      0.908      0.457\n",
      "                Nasion         80         80      0.736        0.8      0.777      0.389\n",
      "              Orbitale         80         80      0.353       0.35      0.314      0.117\n",
      "              Pogonion         80         80      0.689      0.887       0.87       0.48\n",
      "                Porion         80         80      0.419      0.463      0.412      0.143\n",
      " Posterior nasal spine         80         80      0.811       0.85      0.806      0.384\n",
      "                 Sella         80         80      0.989      0.988      0.986      0.561\n",
      "  Soft tissue pogonion         80         80      0.417      0.113      0.296      0.155\n",
      "             Subnasale         80         80      0.735       0.85      0.869      0.453\n",
      "            Subspinale         80         80       0.37      0.537      0.381      0.135\n",
      "          Supramentale         80         80      0.341      0.362      0.355       0.17\n",
      "             Upper lip         80         80      0.552      0.637      0.664      0.293\n",
      "Speed: 5.8ms preprocess, 102.4ms inference, 0.0ms loss, 2.6ms postprocess per image\n",
      "Results saved to \u001b[1mruns\\detect\\val2\u001b[0m\n"
     ]
    },
    {
     "data": {
      "text/plain": [
       "ultralytics.utils.metrics.DetMetrics object with attributes:\n",
       "\n",
       "ap_class_index: array([ 0,  1,  2,  3,  4,  5,  6,  7,  8,  9, 10, 11, 12, 13, 14, 15, 16, 17, 18])\n",
       "box: ultralytics.utils.metrics.Metric object\n",
       "confusion_matrix: <ultralytics.utils.metrics.ConfusionMatrix object at 0x000002367DBDAB20>\n",
       "curves: ['Precision-Recall(B)', 'F1-Confidence(B)', 'Precision-Confidence(B)', 'Recall-Confidence(B)']\n",
       "curves_results: [[array([          0,    0.001001,    0.002002,    0.003003,    0.004004,    0.005005,    0.006006,    0.007007,    0.008008,    0.009009,     0.01001,    0.011011,    0.012012,    0.013013,    0.014014,    0.015015,    0.016016,    0.017017,    0.018018,    0.019019,     0.02002,    0.021021,    0.022022,    0.023023,\n",
       "          0.024024,    0.025025,    0.026026,    0.027027,    0.028028,    0.029029,     0.03003,    0.031031,    0.032032,    0.033033,    0.034034,    0.035035,    0.036036,    0.037037,    0.038038,    0.039039,     0.04004,    0.041041,    0.042042,    0.043043,    0.044044,    0.045045,    0.046046,    0.047047,\n",
       "          0.048048,    0.049049,     0.05005,    0.051051,    0.052052,    0.053053,    0.054054,    0.055055,    0.056056,    0.057057,    0.058058,    0.059059,     0.06006,    0.061061,    0.062062,    0.063063,    0.064064,    0.065065,    0.066066,    0.067067,    0.068068,    0.069069,     0.07007,    0.071071,\n",
       "          0.072072,    0.073073,    0.074074,    0.075075,    0.076076,    0.077077,    0.078078,    0.079079,     0.08008,    0.081081,    0.082082,    0.083083,    0.084084,    0.085085,    0.086086,    0.087087,    0.088088,    0.089089,     0.09009,    0.091091,    0.092092,    0.093093,    0.094094,    0.095095,\n",
       "          0.096096,    0.097097,    0.098098,    0.099099,      0.1001,      0.1011,      0.1021,      0.1031,      0.1041,     0.10511,     0.10611,     0.10711,     0.10811,     0.10911,     0.11011,     0.11111,     0.11211,     0.11311,     0.11411,     0.11512,     0.11612,     0.11712,     0.11812,     0.11912,\n",
       "           0.12012,     0.12112,     0.12212,     0.12312,     0.12412,     0.12513,     0.12613,     0.12713,     0.12813,     0.12913,     0.13013,     0.13113,     0.13213,     0.13313,     0.13413,     0.13514,     0.13614,     0.13714,     0.13814,     0.13914,     0.14014,     0.14114,     0.14214,     0.14314,\n",
       "           0.14414,     0.14515,     0.14615,     0.14715,     0.14815,     0.14915,     0.15015,     0.15115,     0.15215,     0.15315,     0.15415,     0.15516,     0.15616,     0.15716,     0.15816,     0.15916,     0.16016,     0.16116,     0.16216,     0.16316,     0.16416,     0.16517,     0.16617,     0.16717,\n",
       "           0.16817,     0.16917,     0.17017,     0.17117,     0.17217,     0.17317,     0.17417,     0.17518,     0.17618,     0.17718,     0.17818,     0.17918,     0.18018,     0.18118,     0.18218,     0.18318,     0.18418,     0.18519,     0.18619,     0.18719,     0.18819,     0.18919,     0.19019,     0.19119,\n",
       "           0.19219,     0.19319,     0.19419,      0.1952,      0.1962,      0.1972,      0.1982,      0.1992,      0.2002,      0.2012,      0.2022,      0.2032,      0.2042,     0.20521,     0.20621,     0.20721,     0.20821,     0.20921,     0.21021,     0.21121,     0.21221,     0.21321,     0.21421,     0.21522,\n",
       "           0.21622,     0.21722,     0.21822,     0.21922,     0.22022,     0.22122,     0.22222,     0.22322,     0.22422,     0.22523,     0.22623,     0.22723,     0.22823,     0.22923,     0.23023,     0.23123,     0.23223,     0.23323,     0.23423,     0.23524,     0.23624,     0.23724,     0.23824,     0.23924,\n",
       "           0.24024,     0.24124,     0.24224,     0.24324,     0.24424,     0.24525,     0.24625,     0.24725,     0.24825,     0.24925,     0.25025,     0.25125,     0.25225,     0.25325,     0.25425,     0.25526,     0.25626,     0.25726,     0.25826,     0.25926,     0.26026,     0.26126,     0.26226,     0.26326,\n",
       "           0.26426,     0.26527,     0.26627,     0.26727,     0.26827,     0.26927,     0.27027,     0.27127,     0.27227,     0.27327,     0.27427,     0.27528,     0.27628,     0.27728,     0.27828,     0.27928,     0.28028,     0.28128,     0.28228,     0.28328,     0.28428,     0.28529,     0.28629,     0.28729,\n",
       "           0.28829,     0.28929,     0.29029,     0.29129,     0.29229,     0.29329,     0.29429,      0.2953,      0.2963,      0.2973,      0.2983,      0.2993,      0.3003,      0.3013,      0.3023,      0.3033,      0.3043,     0.30531,     0.30631,     0.30731,     0.30831,     0.30931,     0.31031,     0.31131,\n",
       "           0.31231,     0.31331,     0.31431,     0.31532,     0.31632,     0.31732,     0.31832,     0.31932,     0.32032,     0.32132,     0.32232,     0.32332,     0.32432,     0.32533,     0.32633,     0.32733,     0.32833,     0.32933,     0.33033,     0.33133,     0.33233,     0.33333,     0.33433,     0.33534,\n",
       "           0.33634,     0.33734,     0.33834,     0.33934,     0.34034,     0.34134,     0.34234,     0.34334,     0.34434,     0.34535,     0.34635,     0.34735,     0.34835,     0.34935,     0.35035,     0.35135,     0.35235,     0.35335,     0.35435,     0.35536,     0.35636,     0.35736,     0.35836,     0.35936,\n",
       "           0.36036,     0.36136,     0.36236,     0.36336,     0.36436,     0.36537,     0.36637,     0.36737,     0.36837,     0.36937,     0.37037,     0.37137,     0.37237,     0.37337,     0.37437,     0.37538,     0.37638,     0.37738,     0.37838,     0.37938,     0.38038,     0.38138,     0.38238,     0.38338,\n",
       "           0.38438,     0.38539,     0.38639,     0.38739,     0.38839,     0.38939,     0.39039,     0.39139,     0.39239,     0.39339,     0.39439,      0.3954,      0.3964,      0.3974,      0.3984,      0.3994,      0.4004,      0.4014,      0.4024,      0.4034,      0.4044,     0.40541,     0.40641,     0.40741,\n",
       "           0.40841,     0.40941,     0.41041,     0.41141,     0.41241,     0.41341,     0.41441,     0.41542,     0.41642,     0.41742,     0.41842,     0.41942,     0.42042,     0.42142,     0.42242,     0.42342,     0.42442,     0.42543,     0.42643,     0.42743,     0.42843,     0.42943,     0.43043,     0.43143,\n",
       "           0.43243,     0.43343,     0.43443,     0.43544,     0.43644,     0.43744,     0.43844,     0.43944,     0.44044,     0.44144,     0.44244,     0.44344,     0.44444,     0.44545,     0.44645,     0.44745,     0.44845,     0.44945,     0.45045,     0.45145,     0.45245,     0.45345,     0.45445,     0.45546,\n",
       "           0.45646,     0.45746,     0.45846,     0.45946,     0.46046,     0.46146,     0.46246,     0.46346,     0.46446,     0.46547,     0.46647,     0.46747,     0.46847,     0.46947,     0.47047,     0.47147,     0.47247,     0.47347,     0.47447,     0.47548,     0.47648,     0.47748,     0.47848,     0.47948,\n",
       "           0.48048,     0.48148,     0.48248,     0.48348,     0.48448,     0.48549,     0.48649,     0.48749,     0.48849,     0.48949,     0.49049,     0.49149,     0.49249,     0.49349,     0.49449,      0.4955,      0.4965,      0.4975,      0.4985,      0.4995,      0.5005,      0.5015,      0.5025,      0.5035,\n",
       "            0.5045,     0.50551,     0.50651,     0.50751,     0.50851,     0.50951,     0.51051,     0.51151,     0.51251,     0.51351,     0.51451,     0.51552,     0.51652,     0.51752,     0.51852,     0.51952,     0.52052,     0.52152,     0.52252,     0.52352,     0.52452,     0.52553,     0.52653,     0.52753,\n",
       "           0.52853,     0.52953,     0.53053,     0.53153,     0.53253,     0.53353,     0.53453,     0.53554,     0.53654,     0.53754,     0.53854,     0.53954,     0.54054,     0.54154,     0.54254,     0.54354,     0.54454,     0.54555,     0.54655,     0.54755,     0.54855,     0.54955,     0.55055,     0.55155,\n",
       "           0.55255,     0.55355,     0.55455,     0.55556,     0.55656,     0.55756,     0.55856,     0.55956,     0.56056,     0.56156,     0.56256,     0.56356,     0.56456,     0.56557,     0.56657,     0.56757,     0.56857,     0.56957,     0.57057,     0.57157,     0.57257,     0.57357,     0.57457,     0.57558,\n",
       "           0.57658,     0.57758,     0.57858,     0.57958,     0.58058,     0.58158,     0.58258,     0.58358,     0.58458,     0.58559,     0.58659,     0.58759,     0.58859,     0.58959,     0.59059,     0.59159,     0.59259,     0.59359,     0.59459,      0.5956,      0.5966,      0.5976,      0.5986,      0.5996,\n",
       "            0.6006,      0.6016,      0.6026,      0.6036,      0.6046,     0.60561,     0.60661,     0.60761,     0.60861,     0.60961,     0.61061,     0.61161,     0.61261,     0.61361,     0.61461,     0.61562,     0.61662,     0.61762,     0.61862,     0.61962,     0.62062,     0.62162,     0.62262,     0.62362,\n",
       "           0.62462,     0.62563,     0.62663,     0.62763,     0.62863,     0.62963,     0.63063,     0.63163,     0.63263,     0.63363,     0.63463,     0.63564,     0.63664,     0.63764,     0.63864,     0.63964,     0.64064,     0.64164,     0.64264,     0.64364,     0.64464,     0.64565,     0.64665,     0.64765,\n",
       "           0.64865,     0.64965,     0.65065,     0.65165,     0.65265,     0.65365,     0.65465,     0.65566,     0.65666,     0.65766,     0.65866,     0.65966,     0.66066,     0.66166,     0.66266,     0.66366,     0.66466,     0.66567,     0.66667,     0.66767,     0.66867,     0.66967,     0.67067,     0.67167,\n",
       "           0.67267,     0.67367,     0.67467,     0.67568,     0.67668,     0.67768,     0.67868,     0.67968,     0.68068,     0.68168,     0.68268,     0.68368,     0.68468,     0.68569,     0.68669,     0.68769,     0.68869,     0.68969,     0.69069,     0.69169,     0.69269,     0.69369,     0.69469,      0.6957,\n",
       "            0.6967,      0.6977,      0.6987,      0.6997,      0.7007,      0.7017,      0.7027,      0.7037,      0.7047,     0.70571,     0.70671,     0.70771,     0.70871,     0.70971,     0.71071,     0.71171,     0.71271,     0.71371,     0.71471,     0.71572,     0.71672,     0.71772,     0.71872,     0.71972,\n",
       "           0.72072,     0.72172,     0.72272,     0.72372,     0.72472,     0.72573,     0.72673,     0.72773,     0.72873,     0.72973,     0.73073,     0.73173,     0.73273,     0.73373,     0.73473,     0.73574,     0.73674,     0.73774,     0.73874,     0.73974,     0.74074,     0.74174,     0.74274,     0.74374,\n",
       "           0.74474,     0.74575,     0.74675,     0.74775,     0.74875,     0.74975,     0.75075,     0.75175,     0.75275,     0.75375,     0.75475,     0.75576,     0.75676,     0.75776,     0.75876,     0.75976,     0.76076,     0.76176,     0.76276,     0.76376,     0.76476,     0.76577,     0.76677,     0.76777,\n",
       "           0.76877,     0.76977,     0.77077,     0.77177,     0.77277,     0.77377,     0.77477,     0.77578,     0.77678,     0.77778,     0.77878,     0.77978,     0.78078,     0.78178,     0.78278,     0.78378,     0.78478,     0.78579,     0.78679,     0.78779,     0.78879,     0.78979,     0.79079,     0.79179,\n",
       "           0.79279,     0.79379,     0.79479,      0.7958,      0.7968,      0.7978,      0.7988,      0.7998,      0.8008,      0.8018,      0.8028,      0.8038,      0.8048,     0.80581,     0.80681,     0.80781,     0.80881,     0.80981,     0.81081,     0.81181,     0.81281,     0.81381,     0.81481,     0.81582,\n",
       "           0.81682,     0.81782,     0.81882,     0.81982,     0.82082,     0.82182,     0.82282,     0.82382,     0.82482,     0.82583,     0.82683,     0.82783,     0.82883,     0.82983,     0.83083,     0.83183,     0.83283,     0.83383,     0.83483,     0.83584,     0.83684,     0.83784,     0.83884,     0.83984,\n",
       "           0.84084,     0.84184,     0.84284,     0.84384,     0.84484,     0.84585,     0.84685,     0.84785,     0.84885,     0.84985,     0.85085,     0.85185,     0.85285,     0.85385,     0.85485,     0.85586,     0.85686,     0.85786,     0.85886,     0.85986,     0.86086,     0.86186,     0.86286,     0.86386,\n",
       "           0.86486,     0.86587,     0.86687,     0.86787,     0.86887,     0.86987,     0.87087,     0.87187,     0.87287,     0.87387,     0.87487,     0.87588,     0.87688,     0.87788,     0.87888,     0.87988,     0.88088,     0.88188,     0.88288,     0.88388,     0.88488,     0.88589,     0.88689,     0.88789,\n",
       "           0.88889,     0.88989,     0.89089,     0.89189,     0.89289,     0.89389,     0.89489,      0.8959,      0.8969,      0.8979,      0.8989,      0.8999,      0.9009,      0.9019,      0.9029,      0.9039,      0.9049,     0.90591,     0.90691,     0.90791,     0.90891,     0.90991,     0.91091,     0.91191,\n",
       "           0.91291,     0.91391,     0.91491,     0.91592,     0.91692,     0.91792,     0.91892,     0.91992,     0.92092,     0.92192,     0.92292,     0.92392,     0.92492,     0.92593,     0.92693,     0.92793,     0.92893,     0.92993,     0.93093,     0.93193,     0.93293,     0.93393,     0.93493,     0.93594,\n",
       "           0.93694,     0.93794,     0.93894,     0.93994,     0.94094,     0.94194,     0.94294,     0.94394,     0.94494,     0.94595,     0.94695,     0.94795,     0.94895,     0.94995,     0.95095,     0.95195,     0.95295,     0.95395,     0.95495,     0.95596,     0.95696,     0.95796,     0.95896,     0.95996,\n",
       "           0.96096,     0.96196,     0.96296,     0.96396,     0.96496,     0.96597,     0.96697,     0.96797,     0.96897,     0.96997,     0.97097,     0.97197,     0.97297,     0.97397,     0.97497,     0.97598,     0.97698,     0.97798,     0.97898,     0.97998,     0.98098,     0.98198,     0.98298,     0.98398,\n",
       "           0.98498,     0.98599,     0.98699,     0.98799,     0.98899,     0.98999,     0.99099,     0.99199,     0.99299,     0.99399,     0.99499,       0.996,       0.997,       0.998,       0.999,           1]), array([[    0.73333,     0.73333,     0.73333, ...,   0.0028767,   0.0014383,           0],\n",
       "       [          1,           1,           1, ...,   0.0011552,  0.00057758,           0],\n",
       "       [          1,           1,           1, ...,     0.31873,     0.31873,           0],\n",
       "       ...,\n",
       "       [          1,           1,           1, ...,    0.057595,    0.057595,           0],\n",
       "       [          1,           1,           1, ...,   0.0039912,   0.0019956,           0],\n",
       "       [          1,           1,           1, ...,    0.074836,    0.074836,           0]]), 'Recall', 'Precision'], [array([          0,    0.001001,    0.002002,    0.003003,    0.004004,    0.005005,    0.006006,    0.007007,    0.008008,    0.009009,     0.01001,    0.011011,    0.012012,    0.013013,    0.014014,    0.015015,    0.016016,    0.017017,    0.018018,    0.019019,     0.02002,    0.021021,    0.022022,    0.023023,\n",
       "          0.024024,    0.025025,    0.026026,    0.027027,    0.028028,    0.029029,     0.03003,    0.031031,    0.032032,    0.033033,    0.034034,    0.035035,    0.036036,    0.037037,    0.038038,    0.039039,     0.04004,    0.041041,    0.042042,    0.043043,    0.044044,    0.045045,    0.046046,    0.047047,\n",
       "          0.048048,    0.049049,     0.05005,    0.051051,    0.052052,    0.053053,    0.054054,    0.055055,    0.056056,    0.057057,    0.058058,    0.059059,     0.06006,    0.061061,    0.062062,    0.063063,    0.064064,    0.065065,    0.066066,    0.067067,    0.068068,    0.069069,     0.07007,    0.071071,\n",
       "          0.072072,    0.073073,    0.074074,    0.075075,    0.076076,    0.077077,    0.078078,    0.079079,     0.08008,    0.081081,    0.082082,    0.083083,    0.084084,    0.085085,    0.086086,    0.087087,    0.088088,    0.089089,     0.09009,    0.091091,    0.092092,    0.093093,    0.094094,    0.095095,\n",
       "          0.096096,    0.097097,    0.098098,    0.099099,      0.1001,      0.1011,      0.1021,      0.1031,      0.1041,     0.10511,     0.10611,     0.10711,     0.10811,     0.10911,     0.11011,     0.11111,     0.11211,     0.11311,     0.11411,     0.11512,     0.11612,     0.11712,     0.11812,     0.11912,\n",
       "           0.12012,     0.12112,     0.12212,     0.12312,     0.12412,     0.12513,     0.12613,     0.12713,     0.12813,     0.12913,     0.13013,     0.13113,     0.13213,     0.13313,     0.13413,     0.13514,     0.13614,     0.13714,     0.13814,     0.13914,     0.14014,     0.14114,     0.14214,     0.14314,\n",
       "           0.14414,     0.14515,     0.14615,     0.14715,     0.14815,     0.14915,     0.15015,     0.15115,     0.15215,     0.15315,     0.15415,     0.15516,     0.15616,     0.15716,     0.15816,     0.15916,     0.16016,     0.16116,     0.16216,     0.16316,     0.16416,     0.16517,     0.16617,     0.16717,\n",
       "           0.16817,     0.16917,     0.17017,     0.17117,     0.17217,     0.17317,     0.17417,     0.17518,     0.17618,     0.17718,     0.17818,     0.17918,     0.18018,     0.18118,     0.18218,     0.18318,     0.18418,     0.18519,     0.18619,     0.18719,     0.18819,     0.18919,     0.19019,     0.19119,\n",
       "           0.19219,     0.19319,     0.19419,      0.1952,      0.1962,      0.1972,      0.1982,      0.1992,      0.2002,      0.2012,      0.2022,      0.2032,      0.2042,     0.20521,     0.20621,     0.20721,     0.20821,     0.20921,     0.21021,     0.21121,     0.21221,     0.21321,     0.21421,     0.21522,\n",
       "           0.21622,     0.21722,     0.21822,     0.21922,     0.22022,     0.22122,     0.22222,     0.22322,     0.22422,     0.22523,     0.22623,     0.22723,     0.22823,     0.22923,     0.23023,     0.23123,     0.23223,     0.23323,     0.23423,     0.23524,     0.23624,     0.23724,     0.23824,     0.23924,\n",
       "           0.24024,     0.24124,     0.24224,     0.24324,     0.24424,     0.24525,     0.24625,     0.24725,     0.24825,     0.24925,     0.25025,     0.25125,     0.25225,     0.25325,     0.25425,     0.25526,     0.25626,     0.25726,     0.25826,     0.25926,     0.26026,     0.26126,     0.26226,     0.26326,\n",
       "           0.26426,     0.26527,     0.26627,     0.26727,     0.26827,     0.26927,     0.27027,     0.27127,     0.27227,     0.27327,     0.27427,     0.27528,     0.27628,     0.27728,     0.27828,     0.27928,     0.28028,     0.28128,     0.28228,     0.28328,     0.28428,     0.28529,     0.28629,     0.28729,\n",
       "           0.28829,     0.28929,     0.29029,     0.29129,     0.29229,     0.29329,     0.29429,      0.2953,      0.2963,      0.2973,      0.2983,      0.2993,      0.3003,      0.3013,      0.3023,      0.3033,      0.3043,     0.30531,     0.30631,     0.30731,     0.30831,     0.30931,     0.31031,     0.31131,\n",
       "           0.31231,     0.31331,     0.31431,     0.31532,     0.31632,     0.31732,     0.31832,     0.31932,     0.32032,     0.32132,     0.32232,     0.32332,     0.32432,     0.32533,     0.32633,     0.32733,     0.32833,     0.32933,     0.33033,     0.33133,     0.33233,     0.33333,     0.33433,     0.33534,\n",
       "           0.33634,     0.33734,     0.33834,     0.33934,     0.34034,     0.34134,     0.34234,     0.34334,     0.34434,     0.34535,     0.34635,     0.34735,     0.34835,     0.34935,     0.35035,     0.35135,     0.35235,     0.35335,     0.35435,     0.35536,     0.35636,     0.35736,     0.35836,     0.35936,\n",
       "           0.36036,     0.36136,     0.36236,     0.36336,     0.36436,     0.36537,     0.36637,     0.36737,     0.36837,     0.36937,     0.37037,     0.37137,     0.37237,     0.37337,     0.37437,     0.37538,     0.37638,     0.37738,     0.37838,     0.37938,     0.38038,     0.38138,     0.38238,     0.38338,\n",
       "           0.38438,     0.38539,     0.38639,     0.38739,     0.38839,     0.38939,     0.39039,     0.39139,     0.39239,     0.39339,     0.39439,      0.3954,      0.3964,      0.3974,      0.3984,      0.3994,      0.4004,      0.4014,      0.4024,      0.4034,      0.4044,     0.40541,     0.40641,     0.40741,\n",
       "           0.40841,     0.40941,     0.41041,     0.41141,     0.41241,     0.41341,     0.41441,     0.41542,     0.41642,     0.41742,     0.41842,     0.41942,     0.42042,     0.42142,     0.42242,     0.42342,     0.42442,     0.42543,     0.42643,     0.42743,     0.42843,     0.42943,     0.43043,     0.43143,\n",
       "           0.43243,     0.43343,     0.43443,     0.43544,     0.43644,     0.43744,     0.43844,     0.43944,     0.44044,     0.44144,     0.44244,     0.44344,     0.44444,     0.44545,     0.44645,     0.44745,     0.44845,     0.44945,     0.45045,     0.45145,     0.45245,     0.45345,     0.45445,     0.45546,\n",
       "           0.45646,     0.45746,     0.45846,     0.45946,     0.46046,     0.46146,     0.46246,     0.46346,     0.46446,     0.46547,     0.46647,     0.46747,     0.46847,     0.46947,     0.47047,     0.47147,     0.47247,     0.47347,     0.47447,     0.47548,     0.47648,     0.47748,     0.47848,     0.47948,\n",
       "           0.48048,     0.48148,     0.48248,     0.48348,     0.48448,     0.48549,     0.48649,     0.48749,     0.48849,     0.48949,     0.49049,     0.49149,     0.49249,     0.49349,     0.49449,      0.4955,      0.4965,      0.4975,      0.4985,      0.4995,      0.5005,      0.5015,      0.5025,      0.5035,\n",
       "            0.5045,     0.50551,     0.50651,     0.50751,     0.50851,     0.50951,     0.51051,     0.51151,     0.51251,     0.51351,     0.51451,     0.51552,     0.51652,     0.51752,     0.51852,     0.51952,     0.52052,     0.52152,     0.52252,     0.52352,     0.52452,     0.52553,     0.52653,     0.52753,\n",
       "           0.52853,     0.52953,     0.53053,     0.53153,     0.53253,     0.53353,     0.53453,     0.53554,     0.53654,     0.53754,     0.53854,     0.53954,     0.54054,     0.54154,     0.54254,     0.54354,     0.54454,     0.54555,     0.54655,     0.54755,     0.54855,     0.54955,     0.55055,     0.55155,\n",
       "           0.55255,     0.55355,     0.55455,     0.55556,     0.55656,     0.55756,     0.55856,     0.55956,     0.56056,     0.56156,     0.56256,     0.56356,     0.56456,     0.56557,     0.56657,     0.56757,     0.56857,     0.56957,     0.57057,     0.57157,     0.57257,     0.57357,     0.57457,     0.57558,\n",
       "           0.57658,     0.57758,     0.57858,     0.57958,     0.58058,     0.58158,     0.58258,     0.58358,     0.58458,     0.58559,     0.58659,     0.58759,     0.58859,     0.58959,     0.59059,     0.59159,     0.59259,     0.59359,     0.59459,      0.5956,      0.5966,      0.5976,      0.5986,      0.5996,\n",
       "            0.6006,      0.6016,      0.6026,      0.6036,      0.6046,     0.60561,     0.60661,     0.60761,     0.60861,     0.60961,     0.61061,     0.61161,     0.61261,     0.61361,     0.61461,     0.61562,     0.61662,     0.61762,     0.61862,     0.61962,     0.62062,     0.62162,     0.62262,     0.62362,\n",
       "           0.62462,     0.62563,     0.62663,     0.62763,     0.62863,     0.62963,     0.63063,     0.63163,     0.63263,     0.63363,     0.63463,     0.63564,     0.63664,     0.63764,     0.63864,     0.63964,     0.64064,     0.64164,     0.64264,     0.64364,     0.64464,     0.64565,     0.64665,     0.64765,\n",
       "           0.64865,     0.64965,     0.65065,     0.65165,     0.65265,     0.65365,     0.65465,     0.65566,     0.65666,     0.65766,     0.65866,     0.65966,     0.66066,     0.66166,     0.66266,     0.66366,     0.66466,     0.66567,     0.66667,     0.66767,     0.66867,     0.66967,     0.67067,     0.67167,\n",
       "           0.67267,     0.67367,     0.67467,     0.67568,     0.67668,     0.67768,     0.67868,     0.67968,     0.68068,     0.68168,     0.68268,     0.68368,     0.68468,     0.68569,     0.68669,     0.68769,     0.68869,     0.68969,     0.69069,     0.69169,     0.69269,     0.69369,     0.69469,      0.6957,\n",
       "            0.6967,      0.6977,      0.6987,      0.6997,      0.7007,      0.7017,      0.7027,      0.7037,      0.7047,     0.70571,     0.70671,     0.70771,     0.70871,     0.70971,     0.71071,     0.71171,     0.71271,     0.71371,     0.71471,     0.71572,     0.71672,     0.71772,     0.71872,     0.71972,\n",
       "           0.72072,     0.72172,     0.72272,     0.72372,     0.72472,     0.72573,     0.72673,     0.72773,     0.72873,     0.72973,     0.73073,     0.73173,     0.73273,     0.73373,     0.73473,     0.73574,     0.73674,     0.73774,     0.73874,     0.73974,     0.74074,     0.74174,     0.74274,     0.74374,\n",
       "           0.74474,     0.74575,     0.74675,     0.74775,     0.74875,     0.74975,     0.75075,     0.75175,     0.75275,     0.75375,     0.75475,     0.75576,     0.75676,     0.75776,     0.75876,     0.75976,     0.76076,     0.76176,     0.76276,     0.76376,     0.76476,     0.76577,     0.76677,     0.76777,\n",
       "           0.76877,     0.76977,     0.77077,     0.77177,     0.77277,     0.77377,     0.77477,     0.77578,     0.77678,     0.77778,     0.77878,     0.77978,     0.78078,     0.78178,     0.78278,     0.78378,     0.78478,     0.78579,     0.78679,     0.78779,     0.78879,     0.78979,     0.79079,     0.79179,\n",
       "           0.79279,     0.79379,     0.79479,      0.7958,      0.7968,      0.7978,      0.7988,      0.7998,      0.8008,      0.8018,      0.8028,      0.8038,      0.8048,     0.80581,     0.80681,     0.80781,     0.80881,     0.80981,     0.81081,     0.81181,     0.81281,     0.81381,     0.81481,     0.81582,\n",
       "           0.81682,     0.81782,     0.81882,     0.81982,     0.82082,     0.82182,     0.82282,     0.82382,     0.82482,     0.82583,     0.82683,     0.82783,     0.82883,     0.82983,     0.83083,     0.83183,     0.83283,     0.83383,     0.83483,     0.83584,     0.83684,     0.83784,     0.83884,     0.83984,\n",
       "           0.84084,     0.84184,     0.84284,     0.84384,     0.84484,     0.84585,     0.84685,     0.84785,     0.84885,     0.84985,     0.85085,     0.85185,     0.85285,     0.85385,     0.85485,     0.85586,     0.85686,     0.85786,     0.85886,     0.85986,     0.86086,     0.86186,     0.86286,     0.86386,\n",
       "           0.86486,     0.86587,     0.86687,     0.86787,     0.86887,     0.86987,     0.87087,     0.87187,     0.87287,     0.87387,     0.87487,     0.87588,     0.87688,     0.87788,     0.87888,     0.87988,     0.88088,     0.88188,     0.88288,     0.88388,     0.88488,     0.88589,     0.88689,     0.88789,\n",
       "           0.88889,     0.88989,     0.89089,     0.89189,     0.89289,     0.89389,     0.89489,      0.8959,      0.8969,      0.8979,      0.8989,      0.8999,      0.9009,      0.9019,      0.9029,      0.9039,      0.9049,     0.90591,     0.90691,     0.90791,     0.90891,     0.90991,     0.91091,     0.91191,\n",
       "           0.91291,     0.91391,     0.91491,     0.91592,     0.91692,     0.91792,     0.91892,     0.91992,     0.92092,     0.92192,     0.92292,     0.92392,     0.92492,     0.92593,     0.92693,     0.92793,     0.92893,     0.92993,     0.93093,     0.93193,     0.93293,     0.93393,     0.93493,     0.93594,\n",
       "           0.93694,     0.93794,     0.93894,     0.93994,     0.94094,     0.94194,     0.94294,     0.94394,     0.94494,     0.94595,     0.94695,     0.94795,     0.94895,     0.94995,     0.95095,     0.95195,     0.95295,     0.95395,     0.95495,     0.95596,     0.95696,     0.95796,     0.95896,     0.95996,\n",
       "           0.96096,     0.96196,     0.96296,     0.96396,     0.96496,     0.96597,     0.96697,     0.96797,     0.96897,     0.96997,     0.97097,     0.97197,     0.97297,     0.97397,     0.97497,     0.97598,     0.97698,     0.97798,     0.97898,     0.97998,     0.98098,     0.98198,     0.98298,     0.98398,\n",
       "           0.98498,     0.98599,     0.98699,     0.98799,     0.98899,     0.98999,     0.99099,     0.99199,     0.99299,     0.99399,     0.99499,       0.996,       0.997,       0.998,       0.999,           1]), array([[    0.10205,     0.10205,     0.12384, ...,           0,           0,           0],\n",
       "       [   0.082682,    0.082682,     0.10073, ...,           0,           0,           0],\n",
       "       [    0.20356,     0.20356,     0.24711, ...,           0,           0,           0],\n",
       "       ...,\n",
       "       [   0.092539,    0.092539,     0.10782, ...,           0,           0,           0],\n",
       "       [   0.094833,    0.094838,     0.10966, ...,           0,           0,           0],\n",
       "       [    0.12261,     0.12261,     0.16559, ...,           0,           0,           0]]), 'Confidence', 'F1'], [array([          0,    0.001001,    0.002002,    0.003003,    0.004004,    0.005005,    0.006006,    0.007007,    0.008008,    0.009009,     0.01001,    0.011011,    0.012012,    0.013013,    0.014014,    0.015015,    0.016016,    0.017017,    0.018018,    0.019019,     0.02002,    0.021021,    0.022022,    0.023023,\n",
       "          0.024024,    0.025025,    0.026026,    0.027027,    0.028028,    0.029029,     0.03003,    0.031031,    0.032032,    0.033033,    0.034034,    0.035035,    0.036036,    0.037037,    0.038038,    0.039039,     0.04004,    0.041041,    0.042042,    0.043043,    0.044044,    0.045045,    0.046046,    0.047047,\n",
       "          0.048048,    0.049049,     0.05005,    0.051051,    0.052052,    0.053053,    0.054054,    0.055055,    0.056056,    0.057057,    0.058058,    0.059059,     0.06006,    0.061061,    0.062062,    0.063063,    0.064064,    0.065065,    0.066066,    0.067067,    0.068068,    0.069069,     0.07007,    0.071071,\n",
       "          0.072072,    0.073073,    0.074074,    0.075075,    0.076076,    0.077077,    0.078078,    0.079079,     0.08008,    0.081081,    0.082082,    0.083083,    0.084084,    0.085085,    0.086086,    0.087087,    0.088088,    0.089089,     0.09009,    0.091091,    0.092092,    0.093093,    0.094094,    0.095095,\n",
       "          0.096096,    0.097097,    0.098098,    0.099099,      0.1001,      0.1011,      0.1021,      0.1031,      0.1041,     0.10511,     0.10611,     0.10711,     0.10811,     0.10911,     0.11011,     0.11111,     0.11211,     0.11311,     0.11411,     0.11512,     0.11612,     0.11712,     0.11812,     0.11912,\n",
       "           0.12012,     0.12112,     0.12212,     0.12312,     0.12412,     0.12513,     0.12613,     0.12713,     0.12813,     0.12913,     0.13013,     0.13113,     0.13213,     0.13313,     0.13413,     0.13514,     0.13614,     0.13714,     0.13814,     0.13914,     0.14014,     0.14114,     0.14214,     0.14314,\n",
       "           0.14414,     0.14515,     0.14615,     0.14715,     0.14815,     0.14915,     0.15015,     0.15115,     0.15215,     0.15315,     0.15415,     0.15516,     0.15616,     0.15716,     0.15816,     0.15916,     0.16016,     0.16116,     0.16216,     0.16316,     0.16416,     0.16517,     0.16617,     0.16717,\n",
       "           0.16817,     0.16917,     0.17017,     0.17117,     0.17217,     0.17317,     0.17417,     0.17518,     0.17618,     0.17718,     0.17818,     0.17918,     0.18018,     0.18118,     0.18218,     0.18318,     0.18418,     0.18519,     0.18619,     0.18719,     0.18819,     0.18919,     0.19019,     0.19119,\n",
       "           0.19219,     0.19319,     0.19419,      0.1952,      0.1962,      0.1972,      0.1982,      0.1992,      0.2002,      0.2012,      0.2022,      0.2032,      0.2042,     0.20521,     0.20621,     0.20721,     0.20821,     0.20921,     0.21021,     0.21121,     0.21221,     0.21321,     0.21421,     0.21522,\n",
       "           0.21622,     0.21722,     0.21822,     0.21922,     0.22022,     0.22122,     0.22222,     0.22322,     0.22422,     0.22523,     0.22623,     0.22723,     0.22823,     0.22923,     0.23023,     0.23123,     0.23223,     0.23323,     0.23423,     0.23524,     0.23624,     0.23724,     0.23824,     0.23924,\n",
       "           0.24024,     0.24124,     0.24224,     0.24324,     0.24424,     0.24525,     0.24625,     0.24725,     0.24825,     0.24925,     0.25025,     0.25125,     0.25225,     0.25325,     0.25425,     0.25526,     0.25626,     0.25726,     0.25826,     0.25926,     0.26026,     0.26126,     0.26226,     0.26326,\n",
       "           0.26426,     0.26527,     0.26627,     0.26727,     0.26827,     0.26927,     0.27027,     0.27127,     0.27227,     0.27327,     0.27427,     0.27528,     0.27628,     0.27728,     0.27828,     0.27928,     0.28028,     0.28128,     0.28228,     0.28328,     0.28428,     0.28529,     0.28629,     0.28729,\n",
       "           0.28829,     0.28929,     0.29029,     0.29129,     0.29229,     0.29329,     0.29429,      0.2953,      0.2963,      0.2973,      0.2983,      0.2993,      0.3003,      0.3013,      0.3023,      0.3033,      0.3043,     0.30531,     0.30631,     0.30731,     0.30831,     0.30931,     0.31031,     0.31131,\n",
       "           0.31231,     0.31331,     0.31431,     0.31532,     0.31632,     0.31732,     0.31832,     0.31932,     0.32032,     0.32132,     0.32232,     0.32332,     0.32432,     0.32533,     0.32633,     0.32733,     0.32833,     0.32933,     0.33033,     0.33133,     0.33233,     0.33333,     0.33433,     0.33534,\n",
       "           0.33634,     0.33734,     0.33834,     0.33934,     0.34034,     0.34134,     0.34234,     0.34334,     0.34434,     0.34535,     0.34635,     0.34735,     0.34835,     0.34935,     0.35035,     0.35135,     0.35235,     0.35335,     0.35435,     0.35536,     0.35636,     0.35736,     0.35836,     0.35936,\n",
       "           0.36036,     0.36136,     0.36236,     0.36336,     0.36436,     0.36537,     0.36637,     0.36737,     0.36837,     0.36937,     0.37037,     0.37137,     0.37237,     0.37337,     0.37437,     0.37538,     0.37638,     0.37738,     0.37838,     0.37938,     0.38038,     0.38138,     0.38238,     0.38338,\n",
       "           0.38438,     0.38539,     0.38639,     0.38739,     0.38839,     0.38939,     0.39039,     0.39139,     0.39239,     0.39339,     0.39439,      0.3954,      0.3964,      0.3974,      0.3984,      0.3994,      0.4004,      0.4014,      0.4024,      0.4034,      0.4044,     0.40541,     0.40641,     0.40741,\n",
       "           0.40841,     0.40941,     0.41041,     0.41141,     0.41241,     0.41341,     0.41441,     0.41542,     0.41642,     0.41742,     0.41842,     0.41942,     0.42042,     0.42142,     0.42242,     0.42342,     0.42442,     0.42543,     0.42643,     0.42743,     0.42843,     0.42943,     0.43043,     0.43143,\n",
       "           0.43243,     0.43343,     0.43443,     0.43544,     0.43644,     0.43744,     0.43844,     0.43944,     0.44044,     0.44144,     0.44244,     0.44344,     0.44444,     0.44545,     0.44645,     0.44745,     0.44845,     0.44945,     0.45045,     0.45145,     0.45245,     0.45345,     0.45445,     0.45546,\n",
       "           0.45646,     0.45746,     0.45846,     0.45946,     0.46046,     0.46146,     0.46246,     0.46346,     0.46446,     0.46547,     0.46647,     0.46747,     0.46847,     0.46947,     0.47047,     0.47147,     0.47247,     0.47347,     0.47447,     0.47548,     0.47648,     0.47748,     0.47848,     0.47948,\n",
       "           0.48048,     0.48148,     0.48248,     0.48348,     0.48448,     0.48549,     0.48649,     0.48749,     0.48849,     0.48949,     0.49049,     0.49149,     0.49249,     0.49349,     0.49449,      0.4955,      0.4965,      0.4975,      0.4985,      0.4995,      0.5005,      0.5015,      0.5025,      0.5035,\n",
       "            0.5045,     0.50551,     0.50651,     0.50751,     0.50851,     0.50951,     0.51051,     0.51151,     0.51251,     0.51351,     0.51451,     0.51552,     0.51652,     0.51752,     0.51852,     0.51952,     0.52052,     0.52152,     0.52252,     0.52352,     0.52452,     0.52553,     0.52653,     0.52753,\n",
       "           0.52853,     0.52953,     0.53053,     0.53153,     0.53253,     0.53353,     0.53453,     0.53554,     0.53654,     0.53754,     0.53854,     0.53954,     0.54054,     0.54154,     0.54254,     0.54354,     0.54454,     0.54555,     0.54655,     0.54755,     0.54855,     0.54955,     0.55055,     0.55155,\n",
       "           0.55255,     0.55355,     0.55455,     0.55556,     0.55656,     0.55756,     0.55856,     0.55956,     0.56056,     0.56156,     0.56256,     0.56356,     0.56456,     0.56557,     0.56657,     0.56757,     0.56857,     0.56957,     0.57057,     0.57157,     0.57257,     0.57357,     0.57457,     0.57558,\n",
       "           0.57658,     0.57758,     0.57858,     0.57958,     0.58058,     0.58158,     0.58258,     0.58358,     0.58458,     0.58559,     0.58659,     0.58759,     0.58859,     0.58959,     0.59059,     0.59159,     0.59259,     0.59359,     0.59459,      0.5956,      0.5966,      0.5976,      0.5986,      0.5996,\n",
       "            0.6006,      0.6016,      0.6026,      0.6036,      0.6046,     0.60561,     0.60661,     0.60761,     0.60861,     0.60961,     0.61061,     0.61161,     0.61261,     0.61361,     0.61461,     0.61562,     0.61662,     0.61762,     0.61862,     0.61962,     0.62062,     0.62162,     0.62262,     0.62362,\n",
       "           0.62462,     0.62563,     0.62663,     0.62763,     0.62863,     0.62963,     0.63063,     0.63163,     0.63263,     0.63363,     0.63463,     0.63564,     0.63664,     0.63764,     0.63864,     0.63964,     0.64064,     0.64164,     0.64264,     0.64364,     0.64464,     0.64565,     0.64665,     0.64765,\n",
       "           0.64865,     0.64965,     0.65065,     0.65165,     0.65265,     0.65365,     0.65465,     0.65566,     0.65666,     0.65766,     0.65866,     0.65966,     0.66066,     0.66166,     0.66266,     0.66366,     0.66466,     0.66567,     0.66667,     0.66767,     0.66867,     0.66967,     0.67067,     0.67167,\n",
       "           0.67267,     0.67367,     0.67467,     0.67568,     0.67668,     0.67768,     0.67868,     0.67968,     0.68068,     0.68168,     0.68268,     0.68368,     0.68468,     0.68569,     0.68669,     0.68769,     0.68869,     0.68969,     0.69069,     0.69169,     0.69269,     0.69369,     0.69469,      0.6957,\n",
       "            0.6967,      0.6977,      0.6987,      0.6997,      0.7007,      0.7017,      0.7027,      0.7037,      0.7047,     0.70571,     0.70671,     0.70771,     0.70871,     0.70971,     0.71071,     0.71171,     0.71271,     0.71371,     0.71471,     0.71572,     0.71672,     0.71772,     0.71872,     0.71972,\n",
       "           0.72072,     0.72172,     0.72272,     0.72372,     0.72472,     0.72573,     0.72673,     0.72773,     0.72873,     0.72973,     0.73073,     0.73173,     0.73273,     0.73373,     0.73473,     0.73574,     0.73674,     0.73774,     0.73874,     0.73974,     0.74074,     0.74174,     0.74274,     0.74374,\n",
       "           0.74474,     0.74575,     0.74675,     0.74775,     0.74875,     0.74975,     0.75075,     0.75175,     0.75275,     0.75375,     0.75475,     0.75576,     0.75676,     0.75776,     0.75876,     0.75976,     0.76076,     0.76176,     0.76276,     0.76376,     0.76476,     0.76577,     0.76677,     0.76777,\n",
       "           0.76877,     0.76977,     0.77077,     0.77177,     0.77277,     0.77377,     0.77477,     0.77578,     0.77678,     0.77778,     0.77878,     0.77978,     0.78078,     0.78178,     0.78278,     0.78378,     0.78478,     0.78579,     0.78679,     0.78779,     0.78879,     0.78979,     0.79079,     0.79179,\n",
       "           0.79279,     0.79379,     0.79479,      0.7958,      0.7968,      0.7978,      0.7988,      0.7998,      0.8008,      0.8018,      0.8028,      0.8038,      0.8048,     0.80581,     0.80681,     0.80781,     0.80881,     0.80981,     0.81081,     0.81181,     0.81281,     0.81381,     0.81481,     0.81582,\n",
       "           0.81682,     0.81782,     0.81882,     0.81982,     0.82082,     0.82182,     0.82282,     0.82382,     0.82482,     0.82583,     0.82683,     0.82783,     0.82883,     0.82983,     0.83083,     0.83183,     0.83283,     0.83383,     0.83483,     0.83584,     0.83684,     0.83784,     0.83884,     0.83984,\n",
       "           0.84084,     0.84184,     0.84284,     0.84384,     0.84484,     0.84585,     0.84685,     0.84785,     0.84885,     0.84985,     0.85085,     0.85185,     0.85285,     0.85385,     0.85485,     0.85586,     0.85686,     0.85786,     0.85886,     0.85986,     0.86086,     0.86186,     0.86286,     0.86386,\n",
       "           0.86486,     0.86587,     0.86687,     0.86787,     0.86887,     0.86987,     0.87087,     0.87187,     0.87287,     0.87387,     0.87487,     0.87588,     0.87688,     0.87788,     0.87888,     0.87988,     0.88088,     0.88188,     0.88288,     0.88388,     0.88488,     0.88589,     0.88689,     0.88789,\n",
       "           0.88889,     0.88989,     0.89089,     0.89189,     0.89289,     0.89389,     0.89489,      0.8959,      0.8969,      0.8979,      0.8989,      0.8999,      0.9009,      0.9019,      0.9029,      0.9039,      0.9049,     0.90591,     0.90691,     0.90791,     0.90891,     0.90991,     0.91091,     0.91191,\n",
       "           0.91291,     0.91391,     0.91491,     0.91592,     0.91692,     0.91792,     0.91892,     0.91992,     0.92092,     0.92192,     0.92292,     0.92392,     0.92492,     0.92593,     0.92693,     0.92793,     0.92893,     0.92993,     0.93093,     0.93193,     0.93293,     0.93393,     0.93493,     0.93594,\n",
       "           0.93694,     0.93794,     0.93894,     0.93994,     0.94094,     0.94194,     0.94294,     0.94394,     0.94494,     0.94595,     0.94695,     0.94795,     0.94895,     0.94995,     0.95095,     0.95195,     0.95295,     0.95395,     0.95495,     0.95596,     0.95696,     0.95796,     0.95896,     0.95996,\n",
       "           0.96096,     0.96196,     0.96296,     0.96396,     0.96496,     0.96597,     0.96697,     0.96797,     0.96897,     0.96997,     0.97097,     0.97197,     0.97297,     0.97397,     0.97497,     0.97598,     0.97698,     0.97798,     0.97898,     0.97998,     0.98098,     0.98198,     0.98298,     0.98398,\n",
       "           0.98498,     0.98599,     0.98699,     0.98799,     0.98899,     0.98999,     0.99099,     0.99199,     0.99299,     0.99399,     0.99499,       0.996,       0.997,       0.998,       0.999,           1]), array([[   0.053884,    0.053884,    0.066239, ...,           1,           1,           1],\n",
       "       [   0.043275,    0.043275,    0.053268, ...,           1,           1,           1],\n",
       "       [    0.11331,     0.11331,     0.14097, ...,           1,           1,           1],\n",
       "       ...,\n",
       "       [   0.048514,    0.048514,    0.056984, ...,           1,           1,           1],\n",
       "       [    0.04984,    0.049843,     0.05814, ...,           1,           1,           1],\n",
       "       [   0.065306,    0.065306,    0.090372, ...,           1,           1,           1]]), 'Confidence', 'Precision'], [array([          0,    0.001001,    0.002002,    0.003003,    0.004004,    0.005005,    0.006006,    0.007007,    0.008008,    0.009009,     0.01001,    0.011011,    0.012012,    0.013013,    0.014014,    0.015015,    0.016016,    0.017017,    0.018018,    0.019019,     0.02002,    0.021021,    0.022022,    0.023023,\n",
       "          0.024024,    0.025025,    0.026026,    0.027027,    0.028028,    0.029029,     0.03003,    0.031031,    0.032032,    0.033033,    0.034034,    0.035035,    0.036036,    0.037037,    0.038038,    0.039039,     0.04004,    0.041041,    0.042042,    0.043043,    0.044044,    0.045045,    0.046046,    0.047047,\n",
       "          0.048048,    0.049049,     0.05005,    0.051051,    0.052052,    0.053053,    0.054054,    0.055055,    0.056056,    0.057057,    0.058058,    0.059059,     0.06006,    0.061061,    0.062062,    0.063063,    0.064064,    0.065065,    0.066066,    0.067067,    0.068068,    0.069069,     0.07007,    0.071071,\n",
       "          0.072072,    0.073073,    0.074074,    0.075075,    0.076076,    0.077077,    0.078078,    0.079079,     0.08008,    0.081081,    0.082082,    0.083083,    0.084084,    0.085085,    0.086086,    0.087087,    0.088088,    0.089089,     0.09009,    0.091091,    0.092092,    0.093093,    0.094094,    0.095095,\n",
       "          0.096096,    0.097097,    0.098098,    0.099099,      0.1001,      0.1011,      0.1021,      0.1031,      0.1041,     0.10511,     0.10611,     0.10711,     0.10811,     0.10911,     0.11011,     0.11111,     0.11211,     0.11311,     0.11411,     0.11512,     0.11612,     0.11712,     0.11812,     0.11912,\n",
       "           0.12012,     0.12112,     0.12212,     0.12312,     0.12412,     0.12513,     0.12613,     0.12713,     0.12813,     0.12913,     0.13013,     0.13113,     0.13213,     0.13313,     0.13413,     0.13514,     0.13614,     0.13714,     0.13814,     0.13914,     0.14014,     0.14114,     0.14214,     0.14314,\n",
       "           0.14414,     0.14515,     0.14615,     0.14715,     0.14815,     0.14915,     0.15015,     0.15115,     0.15215,     0.15315,     0.15415,     0.15516,     0.15616,     0.15716,     0.15816,     0.15916,     0.16016,     0.16116,     0.16216,     0.16316,     0.16416,     0.16517,     0.16617,     0.16717,\n",
       "           0.16817,     0.16917,     0.17017,     0.17117,     0.17217,     0.17317,     0.17417,     0.17518,     0.17618,     0.17718,     0.17818,     0.17918,     0.18018,     0.18118,     0.18218,     0.18318,     0.18418,     0.18519,     0.18619,     0.18719,     0.18819,     0.18919,     0.19019,     0.19119,\n",
       "           0.19219,     0.19319,     0.19419,      0.1952,      0.1962,      0.1972,      0.1982,      0.1992,      0.2002,      0.2012,      0.2022,      0.2032,      0.2042,     0.20521,     0.20621,     0.20721,     0.20821,     0.20921,     0.21021,     0.21121,     0.21221,     0.21321,     0.21421,     0.21522,\n",
       "           0.21622,     0.21722,     0.21822,     0.21922,     0.22022,     0.22122,     0.22222,     0.22322,     0.22422,     0.22523,     0.22623,     0.22723,     0.22823,     0.22923,     0.23023,     0.23123,     0.23223,     0.23323,     0.23423,     0.23524,     0.23624,     0.23724,     0.23824,     0.23924,\n",
       "           0.24024,     0.24124,     0.24224,     0.24324,     0.24424,     0.24525,     0.24625,     0.24725,     0.24825,     0.24925,     0.25025,     0.25125,     0.25225,     0.25325,     0.25425,     0.25526,     0.25626,     0.25726,     0.25826,     0.25926,     0.26026,     0.26126,     0.26226,     0.26326,\n",
       "           0.26426,     0.26527,     0.26627,     0.26727,     0.26827,     0.26927,     0.27027,     0.27127,     0.27227,     0.27327,     0.27427,     0.27528,     0.27628,     0.27728,     0.27828,     0.27928,     0.28028,     0.28128,     0.28228,     0.28328,     0.28428,     0.28529,     0.28629,     0.28729,\n",
       "           0.28829,     0.28929,     0.29029,     0.29129,     0.29229,     0.29329,     0.29429,      0.2953,      0.2963,      0.2973,      0.2983,      0.2993,      0.3003,      0.3013,      0.3023,      0.3033,      0.3043,     0.30531,     0.30631,     0.30731,     0.30831,     0.30931,     0.31031,     0.31131,\n",
       "           0.31231,     0.31331,     0.31431,     0.31532,     0.31632,     0.31732,     0.31832,     0.31932,     0.32032,     0.32132,     0.32232,     0.32332,     0.32432,     0.32533,     0.32633,     0.32733,     0.32833,     0.32933,     0.33033,     0.33133,     0.33233,     0.33333,     0.33433,     0.33534,\n",
       "           0.33634,     0.33734,     0.33834,     0.33934,     0.34034,     0.34134,     0.34234,     0.34334,     0.34434,     0.34535,     0.34635,     0.34735,     0.34835,     0.34935,     0.35035,     0.35135,     0.35235,     0.35335,     0.35435,     0.35536,     0.35636,     0.35736,     0.35836,     0.35936,\n",
       "           0.36036,     0.36136,     0.36236,     0.36336,     0.36436,     0.36537,     0.36637,     0.36737,     0.36837,     0.36937,     0.37037,     0.37137,     0.37237,     0.37337,     0.37437,     0.37538,     0.37638,     0.37738,     0.37838,     0.37938,     0.38038,     0.38138,     0.38238,     0.38338,\n",
       "           0.38438,     0.38539,     0.38639,     0.38739,     0.38839,     0.38939,     0.39039,     0.39139,     0.39239,     0.39339,     0.39439,      0.3954,      0.3964,      0.3974,      0.3984,      0.3994,      0.4004,      0.4014,      0.4024,      0.4034,      0.4044,     0.40541,     0.40641,     0.40741,\n",
       "           0.40841,     0.40941,     0.41041,     0.41141,     0.41241,     0.41341,     0.41441,     0.41542,     0.41642,     0.41742,     0.41842,     0.41942,     0.42042,     0.42142,     0.42242,     0.42342,     0.42442,     0.42543,     0.42643,     0.42743,     0.42843,     0.42943,     0.43043,     0.43143,\n",
       "           0.43243,     0.43343,     0.43443,     0.43544,     0.43644,     0.43744,     0.43844,     0.43944,     0.44044,     0.44144,     0.44244,     0.44344,     0.44444,     0.44545,     0.44645,     0.44745,     0.44845,     0.44945,     0.45045,     0.45145,     0.45245,     0.45345,     0.45445,     0.45546,\n",
       "           0.45646,     0.45746,     0.45846,     0.45946,     0.46046,     0.46146,     0.46246,     0.46346,     0.46446,     0.46547,     0.46647,     0.46747,     0.46847,     0.46947,     0.47047,     0.47147,     0.47247,     0.47347,     0.47447,     0.47548,     0.47648,     0.47748,     0.47848,     0.47948,\n",
       "           0.48048,     0.48148,     0.48248,     0.48348,     0.48448,     0.48549,     0.48649,     0.48749,     0.48849,     0.48949,     0.49049,     0.49149,     0.49249,     0.49349,     0.49449,      0.4955,      0.4965,      0.4975,      0.4985,      0.4995,      0.5005,      0.5015,      0.5025,      0.5035,\n",
       "            0.5045,     0.50551,     0.50651,     0.50751,     0.50851,     0.50951,     0.51051,     0.51151,     0.51251,     0.51351,     0.51451,     0.51552,     0.51652,     0.51752,     0.51852,     0.51952,     0.52052,     0.52152,     0.52252,     0.52352,     0.52452,     0.52553,     0.52653,     0.52753,\n",
       "           0.52853,     0.52953,     0.53053,     0.53153,     0.53253,     0.53353,     0.53453,     0.53554,     0.53654,     0.53754,     0.53854,     0.53954,     0.54054,     0.54154,     0.54254,     0.54354,     0.54454,     0.54555,     0.54655,     0.54755,     0.54855,     0.54955,     0.55055,     0.55155,\n",
       "           0.55255,     0.55355,     0.55455,     0.55556,     0.55656,     0.55756,     0.55856,     0.55956,     0.56056,     0.56156,     0.56256,     0.56356,     0.56456,     0.56557,     0.56657,     0.56757,     0.56857,     0.56957,     0.57057,     0.57157,     0.57257,     0.57357,     0.57457,     0.57558,\n",
       "           0.57658,     0.57758,     0.57858,     0.57958,     0.58058,     0.58158,     0.58258,     0.58358,     0.58458,     0.58559,     0.58659,     0.58759,     0.58859,     0.58959,     0.59059,     0.59159,     0.59259,     0.59359,     0.59459,      0.5956,      0.5966,      0.5976,      0.5986,      0.5996,\n",
       "            0.6006,      0.6016,      0.6026,      0.6036,      0.6046,     0.60561,     0.60661,     0.60761,     0.60861,     0.60961,     0.61061,     0.61161,     0.61261,     0.61361,     0.61461,     0.61562,     0.61662,     0.61762,     0.61862,     0.61962,     0.62062,     0.62162,     0.62262,     0.62362,\n",
       "           0.62462,     0.62563,     0.62663,     0.62763,     0.62863,     0.62963,     0.63063,     0.63163,     0.63263,     0.63363,     0.63463,     0.63564,     0.63664,     0.63764,     0.63864,     0.63964,     0.64064,     0.64164,     0.64264,     0.64364,     0.64464,     0.64565,     0.64665,     0.64765,\n",
       "           0.64865,     0.64965,     0.65065,     0.65165,     0.65265,     0.65365,     0.65465,     0.65566,     0.65666,     0.65766,     0.65866,     0.65966,     0.66066,     0.66166,     0.66266,     0.66366,     0.66466,     0.66567,     0.66667,     0.66767,     0.66867,     0.66967,     0.67067,     0.67167,\n",
       "           0.67267,     0.67367,     0.67467,     0.67568,     0.67668,     0.67768,     0.67868,     0.67968,     0.68068,     0.68168,     0.68268,     0.68368,     0.68468,     0.68569,     0.68669,     0.68769,     0.68869,     0.68969,     0.69069,     0.69169,     0.69269,     0.69369,     0.69469,      0.6957,\n",
       "            0.6967,      0.6977,      0.6987,      0.6997,      0.7007,      0.7017,      0.7027,      0.7037,      0.7047,     0.70571,     0.70671,     0.70771,     0.70871,     0.70971,     0.71071,     0.71171,     0.71271,     0.71371,     0.71471,     0.71572,     0.71672,     0.71772,     0.71872,     0.71972,\n",
       "           0.72072,     0.72172,     0.72272,     0.72372,     0.72472,     0.72573,     0.72673,     0.72773,     0.72873,     0.72973,     0.73073,     0.73173,     0.73273,     0.73373,     0.73473,     0.73574,     0.73674,     0.73774,     0.73874,     0.73974,     0.74074,     0.74174,     0.74274,     0.74374,\n",
       "           0.74474,     0.74575,     0.74675,     0.74775,     0.74875,     0.74975,     0.75075,     0.75175,     0.75275,     0.75375,     0.75475,     0.75576,     0.75676,     0.75776,     0.75876,     0.75976,     0.76076,     0.76176,     0.76276,     0.76376,     0.76476,     0.76577,     0.76677,     0.76777,\n",
       "           0.76877,     0.76977,     0.77077,     0.77177,     0.77277,     0.77377,     0.77477,     0.77578,     0.77678,     0.77778,     0.77878,     0.77978,     0.78078,     0.78178,     0.78278,     0.78378,     0.78478,     0.78579,     0.78679,     0.78779,     0.78879,     0.78979,     0.79079,     0.79179,\n",
       "           0.79279,     0.79379,     0.79479,      0.7958,      0.7968,      0.7978,      0.7988,      0.7998,      0.8008,      0.8018,      0.8028,      0.8038,      0.8048,     0.80581,     0.80681,     0.80781,     0.80881,     0.80981,     0.81081,     0.81181,     0.81281,     0.81381,     0.81481,     0.81582,\n",
       "           0.81682,     0.81782,     0.81882,     0.81982,     0.82082,     0.82182,     0.82282,     0.82382,     0.82482,     0.82583,     0.82683,     0.82783,     0.82883,     0.82983,     0.83083,     0.83183,     0.83283,     0.83383,     0.83483,     0.83584,     0.83684,     0.83784,     0.83884,     0.83984,\n",
       "           0.84084,     0.84184,     0.84284,     0.84384,     0.84484,     0.84585,     0.84685,     0.84785,     0.84885,     0.84985,     0.85085,     0.85185,     0.85285,     0.85385,     0.85485,     0.85586,     0.85686,     0.85786,     0.85886,     0.85986,     0.86086,     0.86186,     0.86286,     0.86386,\n",
       "           0.86486,     0.86587,     0.86687,     0.86787,     0.86887,     0.86987,     0.87087,     0.87187,     0.87287,     0.87387,     0.87487,     0.87588,     0.87688,     0.87788,     0.87888,     0.87988,     0.88088,     0.88188,     0.88288,     0.88388,     0.88488,     0.88589,     0.88689,     0.88789,\n",
       "           0.88889,     0.88989,     0.89089,     0.89189,     0.89289,     0.89389,     0.89489,      0.8959,      0.8969,      0.8979,      0.8989,      0.8999,      0.9009,      0.9019,      0.9029,      0.9039,      0.9049,     0.90591,     0.90691,     0.90791,     0.90891,     0.90991,     0.91091,     0.91191,\n",
       "           0.91291,     0.91391,     0.91491,     0.91592,     0.91692,     0.91792,     0.91892,     0.91992,     0.92092,     0.92192,     0.92292,     0.92392,     0.92492,     0.92593,     0.92693,     0.92793,     0.92893,     0.92993,     0.93093,     0.93193,     0.93293,     0.93393,     0.93493,     0.93594,\n",
       "           0.93694,     0.93794,     0.93894,     0.93994,     0.94094,     0.94194,     0.94294,     0.94394,     0.94494,     0.94595,     0.94695,     0.94795,     0.94895,     0.94995,     0.95095,     0.95195,     0.95295,     0.95395,     0.95495,     0.95596,     0.95696,     0.95796,     0.95896,     0.95996,\n",
       "           0.96096,     0.96196,     0.96296,     0.96396,     0.96496,     0.96597,     0.96697,     0.96797,     0.96897,     0.96997,     0.97097,     0.97197,     0.97297,     0.97397,     0.97497,     0.97598,     0.97698,     0.97798,     0.97898,     0.97998,     0.98098,     0.98198,     0.98298,     0.98398,\n",
       "           0.98498,     0.98599,     0.98699,     0.98799,     0.98899,     0.98999,     0.99099,     0.99199,     0.99299,     0.99399,     0.99499,       0.996,       0.997,       0.998,       0.999,           1]), array([[     0.9625,      0.9625,        0.95, ...,           0,           0,           0],\n",
       "       [      0.925,       0.925,       0.925, ...,           0,           0,           0],\n",
       "       [          1,           1,           1, ...,           0,           0,           0],\n",
       "       ...,\n",
       "       [          1,           1,           1, ...,           0,           0,           0],\n",
       "       [      0.975,       0.975,      0.9625, ...,           0,           0,           0],\n",
       "       [          1,           1,      0.9875, ...,           0,           0,           0]]), 'Confidence', 'Recall']]\n",
       "fitness: 0.3434443358403627\n",
       "keys: ['metrics/precision(B)', 'metrics/recall(B)', 'metrics/mAP50(B)', 'metrics/mAP50-95(B)']\n",
       "maps: array([    0.17257,     0.19381,     0.45937,    0.098612,     0.31933,     0.53331,     0.37871,     0.45698,      0.3893,     0.11677,     0.48048,      0.1434,     0.38385,     0.56092,     0.15519,     0.45285,     0.13529,     0.16972,     0.29293])\n",
       "names: {0: 'Anterior nasal spine', 1: 'Articulare', 2: 'Gnathion', 3: 'Gonion', 4: 'Incision inferius', 5: 'Incision superius', 6: 'Lower lip', 7: 'Menton', 8: 'Nasion', 9: 'Orbitale', 10: 'Pogonion', 11: 'Porion', 12: 'Posterior nasal spine', 13: 'Sella', 14: 'Soft tissue pogonion', 15: 'Subnasale', 16: 'Subspinale', 17: 'Supramentale', 18: 'Upper lip'}\n",
       "plot: True\n",
       "results_dict: {'metrics/precision(B)': 0.5866422323255247, 'metrics/recall(B)': 0.6481425296754088, 'metrics/mAP50(B)': 0.6428357988069795, 'metrics/mAP50-95(B)': 0.31017861773296085, 'fitness': 0.3434443358403627}\n",
       "save_dir: WindowsPath('runs/detect/val2')\n",
       "speed: {'preprocess': 5.806892500004324, 'inference': 102.361448750014, 'loss': 0.00020124999764448148, 'postprocess': 2.6288275000069916}\n",
       "task: 'detect'"
      ]
     },
     "execution_count": 14,
     "metadata": {},
     "output_type": "execute_result"
    }
   ],
   "source": [
    "model.val(data= r'C:\\Users\\Classic\\Desktop\\pr\\2\\data.yaml')"
   ]
  },
  {
   "cell_type": "code",
   "execution_count": 16,
   "metadata": {
    "id": "x1vdbHXRs7np"
   },
   "outputs": [
    {
     "name": "stdout",
     "output_type": "stream",
     "text": [
      "\n",
      "image 1/40 C:\\Users\\Classic\\Desktop\\pr\\2\\test\\images\\007_jpg.rf.1c884be467ec6438a61773295a8ca763.jpg: 640x544 2 Anterior nasal spines, 1 Gnathion, 1 Incision inferius, 1 Lower lip, 1 Menton, 1 Nasion, 1 Pogonion, 1 Posterior nasal spine, 1 Sella, 1 Subnasale, 1 Upper lip, 191.5ms\n",
      "image 2/40 C:\\Users\\Classic\\Desktop\\pr\\2\\test\\images\\015_jpg.rf.6b8b6a3f9776a588d66e151cf1e4c8b4.jpg: 640x544 1 Articulare, 1 Gnathion, 1 Incision inferius, 1 Incision superius, 1 Lower lip, 1 Menton, 1 Orbitale, 1 Posterior nasal spine, 1 Sella, 1 Subnasale, 1 Supramentale, 1 Upper lip, 139.1ms\n",
      "image 3/40 C:\\Users\\Classic\\Desktop\\pr\\2\\test\\images\\022_jpg.rf.7a1ce016626d1660a1b7f7775c378527.jpg: 640x544 1 Anterior nasal spine, 1 Articulare, 2 Gnathions, 2 Incision inferiuss, 1 Incision superius, 2 Lower lips, 2 Mentons, 1 Nasion, 1 Orbitale, 2 Pogonions, 1 Posterior nasal spine, 1 Sella, 1 Subnasale, 2 Upper lips, 125.6ms\n",
      "image 4/40 C:\\Users\\Classic\\Desktop\\pr\\2\\test\\images\\043_jpg.rf.328789f3fdf95820088475f3eeb33ac5.jpg: 640x544 1 Anterior nasal spine, 2 Articulares, 2 Gnathions, 1 Gonion, 1 Incision inferius, 1 Incision superius, 2 Lower lips, 1 Menton, 1 Nasion, 1 Orbitale, 2 Pogonions, 1 Porion, 1 Posterior nasal spine, 1 Sella, 1 Subnasale, 2 Subspinales, 141.2ms\n",
      "image 5/40 C:\\Users\\Classic\\Desktop\\pr\\2\\test\\images\\049_jpg.rf.48143092b98578b9695621d7921fe559.jpg: 640x544 1 Anterior nasal spine, 1 Articulare, 2 Gnathions, 2 Mentons, 1 Orbitale, 1 Pogonion, 1 Sella, 1 Subnasale, 2 Subspinales, 138.9ms\n",
      "image 6/40 C:\\Users\\Classic\\Desktop\\pr\\2\\test\\images\\086_jpg.rf.41505b8b0cc88f61ef6a2cf6545c07d8.jpg: 640x544 1 Anterior nasal spine, 2 Gnathions, 2 Gonions, 1 Incision inferius, 1 Incision superius, 1 Lower lip, 1 Menton, 1 Nasion, 1 Orbitale, 1 Pogonion, 1 Porion, 1 Posterior nasal spine, 1 Sella, 1 Subnasale, 1 Subspinale, 173.1ms\n",
      "image 7/40 C:\\Users\\Classic\\Desktop\\pr\\2\\test\\images\\097_jpg.rf.e01afe2de3226b223f92dfaa5768cee8.jpg: 640x544 1 Anterior nasal spine, 1 Articulare, 1 Gnathion, 1 Incision inferius, 1 Incision superius, 1 Lower lip, 1 Nasion, 1 Pogonion, 1 Porion, 1 Posterior nasal spine, 1 Sella, 1 Subnasale, 1 Subspinale, 132.7ms\n",
      "image 8/40 C:\\Users\\Classic\\Desktop\\pr\\2\\test\\images\\114_jpg.rf.8665bf93d7c97bf90471921e258c08ee.jpg: 640x544 2 Anterior nasal spines, 2 Gnathions, 1 Incision inferius, 1 Incision superius, 1 Menton, 1 Nasion, 1 Pogonion, 1 Porion, 1 Posterior nasal spine, 1 Sella, 1 Subnasale, 1 Subspinale, 1 Upper lip, 135.6ms\n",
      "image 9/40 C:\\Users\\Classic\\Desktop\\pr\\2\\test\\images\\132_jpg.rf.89c6c3195bbc450f795c519a88ccdd7e.jpg: 640x544 1 Anterior nasal spine, 1 Articulare, 1 Gnathion, 1 Incision superius, 3 Lower lips, 1 Menton, 1 Nasion, 2 Pogonions, 1 Porion, 1 Posterior nasal spine, 1 Sella, 2 Subspinales, 1 Upper lip, 131.6ms\n",
      "image 10/40 C:\\Users\\Classic\\Desktop\\pr\\2\\test\\images\\133_jpg.rf.442faec0d624bb6c9f747cb20fb5df0e.jpg: 640x544 2 Anterior nasal spines, 1 Articulare, 1 Gnathion, 1 Incision inferius, 1 Incision superius, 1 Lower lip, 2 Mentons, 1 Nasion, 1 Pogonion, 1 Porion, 1 Posterior nasal spine, 1 Sella, 1 Subnasale, 1 Subspinale, 1 Upper lip, 142.7ms\n",
      "image 11/40 C:\\Users\\Classic\\Desktop\\pr\\2\\test\\images\\163_jpg.rf.6802b90b0b1f22c90ab73dbfdc79962c.jpg: 640x544 2 Articulares, 1 Gnathion, 1 Gonion, 1 Incision inferius, 1 Lower lip, 1 Menton, 2 Pogonions, 1 Porion, 1 Posterior nasal spine, 1 Sella, 1 Subnasale, 1 Subspinale, 1 Upper lip, 139.5ms\n",
      "image 12/40 C:\\Users\\Classic\\Desktop\\pr\\2\\test\\images\\172_jpg.rf.67c4d618860a0796a5991543af9937a6.jpg: 640x544 1 Articulare, 1 Gnathion, 1 Incision inferius, 1 Incision superius, 1 Lower lip, 1 Menton, 1 Nasion, 1 Pogonion, 1 Porion, 1 Posterior nasal spine, 1 Sella, 1 Subnasale, 1 Supramentale, 1 Upper lip, 137.1ms\n",
      "image 13/40 C:\\Users\\Classic\\Desktop\\pr\\2\\test\\images\\201_jpg.rf.c1e6952df02745f56b2d25e14890a078.jpg: 640x544 1 Anterior nasal spine, 1 Gnathion, 1 Incision inferius, 1 Incision superius, 1 Lower lip, 1 Menton, 1 Nasion, 2 Orbitales, 1 Pogonion, 1 Porion, 1 Posterior nasal spine, 1 Sella, 1 Subspinale, 1 Supramentale, 2 Upper lips, 129.3ms\n",
      "image 14/40 C:\\Users\\Classic\\Desktop\\pr\\2\\test\\images\\203_jpg.rf.9396efd7085daf108822b961c8dfa367.jpg: 640x544 2 Gnathions, 2 Gonions, 2 Incision inferiuss, 1 Incision superius, 1 Lower lip, 1 Menton, 1 Nasion, 1 Orbitale, 2 Pogonions, 1 Porion, 1 Posterior nasal spine, 1 Sella, 1 Subnasale, 1 Subspinale, 137.5ms\n",
      "image 15/40 C:\\Users\\Classic\\Desktop\\pr\\2\\test\\images\\213_jpg.rf.fcc8d55a77918f5b17d76e0d90f012ce.jpg: 640x544 1 Anterior nasal spine, 2 Articulares, 1 Gnathion, 1 Gonion, 2 Incision inferiuss, 1 Incision superius, 1 Lower lip, 1 Menton, 1 Nasion, 1 Pogonion, 1 Porion, 1 Posterior nasal spine, 1 Sella, 1 Subnasale, 1 Subspinale, 136.9ms\n",
      "image 16/40 C:\\Users\\Classic\\Desktop\\pr\\2\\test\\images\\235_jpg.rf.d3d9aac31de674df5fab3e396f13e3db.jpg: 640x544 1 Anterior nasal spine, 2 Gnathions, 1 Incision inferius, 1 Incision superius, 1 Lower lip, 1 Menton, 2 Nasions, 1 Orbitale, 1 Pogonion, 1 Sella, 1 Subnasale, 1 Subspinale, 1 Upper lip, 138.0ms\n",
      "image 17/40 C:\\Users\\Classic\\Desktop\\pr\\2\\test\\images\\240_jpg.rf.e31f4ed51d36a3d8a781c26f8f100827.jpg: 640x544 1 Anterior nasal spine, 1 Articulare, 1 Gnathion, 1 Incision inferius, 1 Incision superius, 2 Mentons, 1 Nasion, 1 Pogonion, 2 Porions, 1 Posterior nasal spine, 1 Sella, 1 Subnasale, 1 Subspinale, 1 Upper lip, 137.5ms\n",
      "image 18/40 C:\\Users\\Classic\\Desktop\\pr\\2\\test\\images\\243_jpg.rf.a1c66cba813793186ab2f597dafb0896.jpg: 640x544 1 Anterior nasal spine, 1 Gnathion, 1 Incision superius, 1 Lower lip, 2 Mentons, 1 Nasion, 1 Pogonion, 1 Posterior nasal spine, 1 Sella, 1 Soft tissue pogonion, 1 Subnasale, 129.0ms\n",
      "image 19/40 C:\\Users\\Classic\\Desktop\\pr\\2\\test\\images\\246_jpg.rf.4ccabbc102496f4e370a73d122c4889c.jpg: 640x544 2 Anterior nasal spines, 1 Articulare, 2 Gnathions, 1 Incision inferius, 1 Incision superius, 2 Lower lips, 1 Menton, 1 Nasion, 2 Orbitales, 2 Pogonions, 1 Porion, 1 Sella, 1 Soft tissue pogonion, 1 Subnasale, 2 Subspinales, 1 Supramentale, 1 Upper lip, 127.1ms\n",
      "image 20/40 C:\\Users\\Classic\\Desktop\\pr\\2\\test\\images\\252_jpg.rf.84fb642105e074d67bc717fa1d03cc8b.jpg: 640x544 2 Anterior nasal spines, 1 Articulare, 1 Gnathion, 2 Incision superiuss, 1 Lower lip, 1 Menton, 1 Nasion, 1 Orbitale, 1 Pogonion, 1 Porion, 1 Posterior nasal spine, 1 Sella, 1 Subnasale, 1 Subspinale, 140.7ms\n",
      "image 21/40 C:\\Users\\Classic\\Desktop\\pr\\2\\test\\images\\260_jpg.rf.9aab60e2edb4ed03548e7cca665c1343.jpg: 640x544 1 Anterior nasal spine, 1 Articulare, 1 Gnathion, 2 Incision inferiuss, 1 Menton, 1 Nasion, 1 Orbitale, 1 Pogonion, 1 Posterior nasal spine, 1 Sella, 1 Subnasale, 1 Subspinale, 1 Supramentale, 1 Upper lip, 136.6ms\n",
      "image 22/40 C:\\Users\\Classic\\Desktop\\pr\\2\\test\\images\\261_jpg.rf.3b8a7894d8b302b2041e1e094f622e4c.jpg: 640x544 1 Articulare, 1 Gnathion, 1 Incision superius, 2 Lower lips, 2 Mentons, 2 Nasions, 2 Pogonions, 1 Posterior nasal spine, 1 Sella, 1 Subnasale, 1 Upper lip, 134.3ms\n",
      "image 23/40 C:\\Users\\Classic\\Desktop\\pr\\2\\test\\images\\265_jpg.rf.175a2d40ceb3acc0f0b5bb64fe8eea55.jpg: 640x544 1 Anterior nasal spine, 1 Articulare, 2 Gnathions, 1 Incision inferius, 1 Incision superius, 2 Lower lips, 1 Menton, 1 Nasion, 2 Pogonions, 1 Porion, 1 Posterior nasal spine, 1 Sella, 2 Subnasales, 2 Subspinales, 1 Upper lip, 133.3ms\n",
      "image 24/40 C:\\Users\\Classic\\Desktop\\pr\\2\\test\\images\\266_jpg.rf.74701a56fdc958adc22909c4ad6e544b.jpg: 640x544 2 Anterior nasal spines, 1 Articulare, 1 Gonion, 1 Incision inferius, 1 Incision superius, 1 Menton, 2 Nasions, 1 Posterior nasal spine, 1 Sella, 1 Subnasale, 142.1ms\n",
      "image 25/40 C:\\Users\\Classic\\Desktop\\pr\\2\\test\\images\\272_jpg.rf.dda91bc167c9861533142a4415126774.jpg: 640x544 1 Anterior nasal spine, 1 Articulare, 1 Gnathion, 1 Incision inferius, 1 Incision superius, 1 Lower lip, 2 Mentons, 1 Nasion, 2 Pogonions, 1 Sella, 1 Subnasale, 1 Supramentale, 1 Upper lip, 134.8ms\n",
      "image 26/40 C:\\Users\\Classic\\Desktop\\pr\\2\\test\\images\\274_jpg.rf.72f61f90e247054d67231d5a1ddb7f9a.jpg: 640x544 1 Gnathion, 1 Incision superius, 2 Lower lips, 1 Menton, 1 Orbitale, 1 Pogonion, 1 Porion, 1 Posterior nasal spine, 1 Sella, 1 Subnasale, 1 Subspinale, 1 Upper lip, 139.7ms\n",
      "image 27/40 C:\\Users\\Classic\\Desktop\\pr\\2\\test\\images\\291_jpg.rf.0727777ca59790a16ba9fa6b14b122c3.jpg: 640x544 1 Anterior nasal spine, 1 Articulare, 1 Gnathion, 1 Incision superius, 3 Lower lips, 1 Menton, 1 Nasion, 2 Pogonions, 1 Porion, 1 Posterior nasal spine, 1 Sella, 2 Subspinales, 1 Upper lip, 135.9ms\n"
     ]
    },
    {
     "name": "stdout",
     "output_type": "stream",
     "text": [
      "image 28/40 C:\\Users\\Classic\\Desktop\\pr\\2\\test\\images\\295_jpg.rf.1ec4aa0c3c3689d4ad5e4637c7012ba9.jpg: 640x544 1 Anterior nasal spine, 1 Articulare, 1 Gnathion, 1 Incision inferius, 1 Incision superius, 2 Lower lips, 1 Menton, 1 Nasion, 1 Pogonion, 1 Porion, 1 Posterior nasal spine, 1 Sella, 1 Subnasale, 1 Supramentale, 1 Upper lip, 137.1ms\n",
      "image 29/40 C:\\Users\\Classic\\Desktop\\pr\\2\\test\\images\\311_jpg.rf.102b96f03d058e922361647890c0944e.jpg: 640x544 1 Anterior nasal spine, 1 Gnathion, 1 Incision inferius, 1 Incision superius, 2 Lower lips, 1 Menton, 1 Nasion, 1 Orbitale, 1 Pogonion, 1 Posterior nasal spine, 1 Sella, 1 Subspinale, 137.0ms\n",
      "image 30/40 C:\\Users\\Classic\\Desktop\\pr\\2\\test\\images\\318_jpg.rf.2c06f4f5b50c0d10df39282beabf8889.jpg: 640x544 1 Anterior nasal spine, 1 Incision superius, 1 Menton, 1 Orbitale, 1 Porion, 1 Posterior nasal spine, 1 Sella, 1 Subnasale, 2 Subspinales, 136.8ms\n",
      "image 31/40 C:\\Users\\Classic\\Desktop\\pr\\2\\test\\images\\326_jpg.rf.6cdcc9668195d783129ad87bdde6eb46.jpg: 640x544 1 Anterior nasal spine, 1 Articulare, 1 Incision inferius, 1 Incision superius, 1 Lower lip, 1 Menton, 1 Nasion, 1 Orbitale, 1 Pogonion, 1 Porion, 1 Posterior nasal spine, 1 Sella, 1 Subnasale, 2 Subspinales, 1 Supramentale, 1 Upper lip, 138.3ms\n",
      "image 32/40 C:\\Users\\Classic\\Desktop\\pr\\2\\test\\images\\331_jpg.rf.efb5ef74c346e56bc48eb242b993180e.jpg: 640x544 1 Anterior nasal spine, 1 Gnathion, 1 Incision inferius, 1 Incision superius, 1 Menton, 1 Nasion, 1 Orbitale, 1 Pogonion, 1 Porion, 1 Posterior nasal spine, 1 Sella, 1 Subnasale, 1 Subspinale, 1 Upper lip, 138.8ms\n",
      "image 33/40 C:\\Users\\Classic\\Desktop\\pr\\2\\test\\images\\337_jpg.rf.0fef6097d3ee6fb56da0eeaac2a58d25.jpg: 640x544 2 Anterior nasal spines, 1 Gnathion, 1 Incision inferius, 1 Incision superius, 1 Lower lip, 1 Menton, 2 Nasions, 1 Orbitale, 1 Porion, 1 Sella, 1 Subspinale, 1 Upper lip, 134.5ms\n",
      "image 34/40 C:\\Users\\Classic\\Desktop\\pr\\2\\test\\images\\338_jpg.rf.16ed04058323510cc4831d626933b2e5.jpg: 640x544 1 Anterior nasal spine, 1 Gnathion, 1 Incision inferius, 1 Incision superius, 2 Lower lips, 1 Menton, 1 Nasion, 1 Orbitale, 1 Pogonion, 1 Porion, 1 Posterior nasal spine, 1 Sella, 1 Subnasale, 136.0ms\n",
      "image 35/40 C:\\Users\\Classic\\Desktop\\pr\\2\\test\\images\\346_jpg.rf.d736e74e7515009a2c77ca0417cf4eb0.jpg: 640x544 1 Anterior nasal spine, 1 Articulare, 2 Gnathions, 1 Gonion, 1 Incision inferius, 1 Incision superius, 1 Lower lip, 1 Menton, 1 Nasion, 1 Pogonion, 1 Posterior nasal spine, 1 Sella, 2 Subnasales, 1 Supramentale, 1 Upper lip, 138.8ms\n",
      "image 36/40 C:\\Users\\Classic\\Desktop\\pr\\2\\test\\images\\355_jpg.rf.06ecd279962eca1ffd462b92df0f5425.jpg: 640x544 2 Gnathions, 1 Gonion, 2 Incision inferiuss, 1 Incision superius, 1 Lower lip, 1 Menton, 1 Nasion, 1 Orbitale, 1 Pogonion, 1 Posterior nasal spine, 1 Sella, 2 Subnasales, 2 Subspinales, 1 Upper lip, 122.0ms\n",
      "image 37/40 C:\\Users\\Classic\\Desktop\\pr\\2\\test\\images\\379_jpg.rf.b2b488c5f15555eddda859a61c99c5fa.jpg: 640x544 2 Anterior nasal spines, 2 Gnathions, 1 Incision inferius, 1 Incision superius, 2 Lower lips, 2 Mentons, 1 Nasion, 1 Orbitale, 2 Pogonions, 1 Posterior nasal spine, 1 Sella, 1 Subnasale, 1 Subspinale, 1 Upper lip, 121.2ms\n",
      "image 38/40 C:\\Users\\Classic\\Desktop\\pr\\2\\test\\images\\380_jpg.rf.298f6f53f64dbbb923d37235c2707046.jpg: 640x544 1 Anterior nasal spine, 1 Gnathion, 1 Incision superius, 1 Menton, 1 Nasion, 2 Orbitales, 1 Pogonion, 1 Porion, 1 Posterior nasal spine, 1 Sella, 1 Subnasale, 1 Subspinale, 143.7ms\n",
      "image 39/40 C:\\Users\\Classic\\Desktop\\pr\\2\\test\\images\\391_jpg.rf.2b199372fb82fce527cad1fd6d1bff8e.jpg: 640x544 1 Anterior nasal spine, 1 Articulare, 2 Gnathions, 1 Incision inferius, 1 Incision superius, 1 Lower lip, 1 Menton, 1 Nasion, 1 Pogonion, 1 Porion, 1 Posterior nasal spine, 1 Sella, 1 Subnasale, 1 Subspinale, 1 Supramentale, 1 Upper lip, 125.5ms\n",
      "image 40/40 C:\\Users\\Classic\\Desktop\\pr\\2\\test\\images\\398_jpg.rf.569f83ceb8de2bc3f61da370d43d0a1a.jpg: 640x544 1 Anterior nasal spine, 1 Articulare, 1 Incision inferius, 1 Incision superius, 1 Lower lip, 1 Menton, 1 Nasion, 1 Pogonion, 1 Porion, 1 Posterior nasal spine, 1 Sella, 1 Subnasale, 1 Upper lip, 125.5ms\n",
      "Speed: 11.2ms preprocess, 137.4ms inference, 2.7ms postprocess per image at shape (1, 3, 640, 544)\n",
      "Results saved to \u001b[1mruns\\detect\\predict\u001b[0m\n"
     ]
    },
    {
     "data": {
      "text/plain": [
       "[ultralytics.engine.results.Results object with attributes:\n",
       " \n",
       " boxes: ultralytics.engine.results.Boxes object\n",
       " keypoints: None\n",
       " masks: None\n",
       " names: {0: 'Anterior nasal spine', 1: 'Articulare', 2: 'Gnathion', 3: 'Gonion', 4: 'Incision inferius', 5: 'Incision superius', 6: 'Lower lip', 7: 'Menton', 8: 'Nasion', 9: 'Orbitale', 10: 'Pogonion', 11: 'Porion', 12: 'Posterior nasal spine', 13: 'Sella', 14: 'Soft tissue pogonion', 15: 'Subnasale', 16: 'Subspinale', 17: 'Supramentale', 18: 'Upper lip'}\n",
       " obb: None\n",
       " orig_img: array([[[220, 220, 220],\n",
       "         [220, 220, 220],\n",
       "         [220, 220, 220],\n",
       "         ...,\n",
       "         [223, 223, 223],\n",
       "         [220, 220, 220],\n",
       "         [  0,   0,   0]],\n",
       " \n",
       "        [[220, 220, 220],\n",
       "         [220, 220, 220],\n",
       "         [220, 220, 220],\n",
       "         ...,\n",
       "         [223, 223, 223],\n",
       "         [220, 220, 220],\n",
       "         [  0,   0,   0]],\n",
       " \n",
       "        [[220, 220, 220],\n",
       "         [220, 220, 220],\n",
       "         [220, 220, 220],\n",
       "         ...,\n",
       "         [223, 223, 223],\n",
       "         [220, 220, 220],\n",
       "         [  0,   0,   0]],\n",
       " \n",
       "        ...,\n",
       " \n",
       "        [[216, 216, 216],\n",
       "         [216, 216, 216],\n",
       "         [216, 216, 216],\n",
       "         ...,\n",
       "         [186, 186, 186],\n",
       "         [198, 198, 198],\n",
       "         [  2,   2,   2]],\n",
       " \n",
       "        [[222, 222, 222],\n",
       "         [222, 222, 222],\n",
       "         [222, 222, 222],\n",
       "         ...,\n",
       "         [197, 197, 197],\n",
       "         [184, 184, 184],\n",
       "         [ 17,  17,  17]],\n",
       " \n",
       "        [[  0,   0,   0],\n",
       "         [  0,   0,   0],\n",
       "         [  0,   0,   0],\n",
       "         ...,\n",
       "         [  0,   0,   0],\n",
       "         [ 32,  32,  32],\n",
       "         [  0,   0,   0]]], dtype=uint8)\n",
       " orig_shape: (2400, 1935)\n",
       " path: 'C:\\\\Users\\\\Classic\\\\Desktop\\\\pr\\\\2\\\\test\\\\images\\\\007_jpg.rf.1c884be467ec6438a61773295a8ca763.jpg'\n",
       " probs: None\n",
       " save_dir: 'runs\\\\detect\\\\predict'\n",
       " speed: {'preprocess': 9.228299999449519, 'inference': 191.51639999836334, 'postprocess': 2.662499999132706},\n",
       " ultralytics.engine.results.Results object with attributes:\n",
       " \n",
       " boxes: ultralytics.engine.results.Boxes object\n",
       " keypoints: None\n",
       " masks: None\n",
       " names: {0: 'Anterior nasal spine', 1: 'Articulare', 2: 'Gnathion', 3: 'Gonion', 4: 'Incision inferius', 5: 'Incision superius', 6: 'Lower lip', 7: 'Menton', 8: 'Nasion', 9: 'Orbitale', 10: 'Pogonion', 11: 'Porion', 12: 'Posterior nasal spine', 13: 'Sella', 14: 'Soft tissue pogonion', 15: 'Subnasale', 16: 'Subspinale', 17: 'Supramentale', 18: 'Upper lip'}\n",
       " obb: None\n",
       " orig_img: array([[[255, 255, 255],\n",
       "         [255, 255, 255],\n",
       "         [255, 255, 255],\n",
       "         ...,\n",
       "         [255, 255, 255],\n",
       "         [255, 255, 255],\n",
       "         [  0,   0,   0]],\n",
       " \n",
       "        [[255, 255, 255],\n",
       "         [255, 255, 255],\n",
       "         [255, 255, 255],\n",
       "         ...,\n",
       "         [255, 255, 255],\n",
       "         [255, 255, 255],\n",
       "         [  0,   0,   0]],\n",
       " \n",
       "        [[255, 255, 255],\n",
       "         [255, 255, 255],\n",
       "         [255, 255, 255],\n",
       "         ...,\n",
       "         [255, 255, 255],\n",
       "         [255, 255, 255],\n",
       "         [  0,   0,   0]],\n",
       " \n",
       "        ...,\n",
       " \n",
       "        [[252, 252, 252],\n",
       "         [252, 252, 252],\n",
       "         [252, 252, 252],\n",
       "         ...,\n",
       "         [220, 220, 220],\n",
       "         [233, 233, 233],\n",
       "         [  3,   3,   3]],\n",
       " \n",
       "        [[255, 255, 255],\n",
       "         [255, 255, 255],\n",
       "         [255, 255, 255],\n",
       "         ...,\n",
       "         [224, 224, 224],\n",
       "         [216, 216, 216],\n",
       "         [ 45,  45,  45]],\n",
       " \n",
       "        [[  0,   0,   0],\n",
       "         [  0,   0,   0],\n",
       "         [  0,   0,   0],\n",
       "         ...,\n",
       "         [  0,   0,   0],\n",
       "         [ 15,  15,  15],\n",
       "         [  0,   0,   0]]], dtype=uint8)\n",
       " orig_shape: (2400, 1935)\n",
       " path: 'C:\\\\Users\\\\Classic\\\\Desktop\\\\pr\\\\2\\\\test\\\\images\\\\015_jpg.rf.6b8b6a3f9776a588d66e151cf1e4c8b4.jpg'\n",
       " probs: None\n",
       " save_dir: 'runs\\\\detect\\\\predict'\n",
       " speed: {'preprocess': 12.03700000041863, 'inference': 139.05940000040573, 'postprocess': 3.102700000454206},\n",
       " ultralytics.engine.results.Results object with attributes:\n",
       " \n",
       " boxes: ultralytics.engine.results.Boxes object\n",
       " keypoints: None\n",
       " masks: None\n",
       " names: {0: 'Anterior nasal spine', 1: 'Articulare', 2: 'Gnathion', 3: 'Gonion', 4: 'Incision inferius', 5: 'Incision superius', 6: 'Lower lip', 7: 'Menton', 8: 'Nasion', 9: 'Orbitale', 10: 'Pogonion', 11: 'Porion', 12: 'Posterior nasal spine', 13: 'Sella', 14: 'Soft tissue pogonion', 15: 'Subnasale', 16: 'Subspinale', 17: 'Supramentale', 18: 'Upper lip'}\n",
       " obb: None\n",
       " orig_img: array([[[254, 254, 254],\n",
       "         [254, 254, 254],\n",
       "         [254, 254, 254],\n",
       "         ...,\n",
       "         [255, 255, 255],\n",
       "         [251, 251, 251],\n",
       "         [  2,   2,   2]],\n",
       " \n",
       "        [[254, 254, 254],\n",
       "         [254, 254, 254],\n",
       "         [254, 254, 254],\n",
       "         ...,\n",
       "         [255, 255, 255],\n",
       "         [251, 251, 251],\n",
       "         [  2,   2,   2]],\n",
       " \n",
       "        [[254, 254, 254],\n",
       "         [254, 254, 254],\n",
       "         [254, 254, 254],\n",
       "         ...,\n",
       "         [255, 255, 255],\n",
       "         [251, 251, 251],\n",
       "         [  2,   2,   2]],\n",
       " \n",
       "        ...,\n",
       " \n",
       "        [[251, 251, 251],\n",
       "         [251, 251, 251],\n",
       "         [251, 251, 251],\n",
       "         ...,\n",
       "         [229, 229, 229],\n",
       "         [244, 244, 244],\n",
       "         [  2,   2,   2]],\n",
       " \n",
       "        [[255, 255, 255],\n",
       "         [255, 255, 255],\n",
       "         [255, 255, 255],\n",
       "         ...,\n",
       "         [251, 251, 251],\n",
       "         [232, 232, 232],\n",
       "         [ 62,  62,  62]],\n",
       " \n",
       "        [[  0,   0,   0],\n",
       "         [  0,   0,   0],\n",
       "         [  0,   0,   0],\n",
       "         ...,\n",
       "         [ 14,  14,  14],\n",
       "         [  6,   6,   6],\n",
       "         [  0,   0,   0]]], dtype=uint8)\n",
       " orig_shape: (2400, 1935)\n",
       " path: 'C:\\\\Users\\\\Classic\\\\Desktop\\\\pr\\\\2\\\\test\\\\images\\\\022_jpg.rf.7a1ce016626d1660a1b7f7775c378527.jpg'\n",
       " probs: None\n",
       " save_dir: 'runs\\\\detect\\\\predict'\n",
       " speed: {'preprocess': 10.68900000063877, 'inference': 125.55829999837442, 'postprocess': 2.2172999997565057},\n",
       " ultralytics.engine.results.Results object with attributes:\n",
       " \n",
       " boxes: ultralytics.engine.results.Boxes object\n",
       " keypoints: None\n",
       " masks: None\n",
       " names: {0: 'Anterior nasal spine', 1: 'Articulare', 2: 'Gnathion', 3: 'Gonion', 4: 'Incision inferius', 5: 'Incision superius', 6: 'Lower lip', 7: 'Menton', 8: 'Nasion', 9: 'Orbitale', 10: 'Pogonion', 11: 'Porion', 12: 'Posterior nasal spine', 13: 'Sella', 14: 'Soft tissue pogonion', 15: 'Subnasale', 16: 'Subspinale', 17: 'Supramentale', 18: 'Upper lip'}\n",
       " obb: None\n",
       " orig_img: array([[[247, 247, 247],\n",
       "         [247, 247, 247],\n",
       "         [247, 247, 247],\n",
       "         ...,\n",
       "         [249, 249, 249],\n",
       "         [246, 246, 246],\n",
       "         [  0,   0,   0]],\n",
       " \n",
       "        [[247, 247, 247],\n",
       "         [247, 247, 247],\n",
       "         [247, 247, 247],\n",
       "         ...,\n",
       "         [249, 249, 249],\n",
       "         [246, 246, 246],\n",
       "         [  0,   0,   0]],\n",
       " \n",
       "        [[247, 247, 247],\n",
       "         [247, 247, 247],\n",
       "         [247, 247, 247],\n",
       "         ...,\n",
       "         [249, 249, 249],\n",
       "         [246, 246, 246],\n",
       "         [  0,   0,   0]],\n",
       " \n",
       "        ...,\n",
       " \n",
       "        [[249, 249, 249],\n",
       "         [249, 249, 249],\n",
       "         [249, 249, 249],\n",
       "         ...,\n",
       "         [222, 222, 222],\n",
       "         [228, 228, 228],\n",
       "         [  5,   5,   5]],\n",
       " \n",
       "        [[246, 246, 246],\n",
       "         [246, 246, 246],\n",
       "         [246, 246, 246],\n",
       "         ...,\n",
       "         [232, 232, 232],\n",
       "         [213, 213, 213],\n",
       "         [ 50,  50,  50]],\n",
       " \n",
       "        [[  0,   0,   0],\n",
       "         [  0,   0,   0],\n",
       "         [  0,   0,   0],\n",
       "         ...,\n",
       "         [  4,   4,   4],\n",
       "         [  8,   8,   8],\n",
       "         [  0,   0,   0]]], dtype=uint8)\n",
       " orig_shape: (2400, 1935)\n",
       " path: 'C:\\\\Users\\\\Classic\\\\Desktop\\\\pr\\\\2\\\\test\\\\images\\\\043_jpg.rf.328789f3fdf95820088475f3eeb33ac5.jpg'\n",
       " probs: None\n",
       " save_dir: 'runs\\\\detect\\\\predict'\n",
       " speed: {'preprocess': 8.438499999101623, 'inference': 141.19970000137982, 'postprocess': 2.1004000009270385},\n",
       " ultralytics.engine.results.Results object with attributes:\n",
       " \n",
       " boxes: ultralytics.engine.results.Boxes object\n",
       " keypoints: None\n",
       " masks: None\n",
       " names: {0: 'Anterior nasal spine', 1: 'Articulare', 2: 'Gnathion', 3: 'Gonion', 4: 'Incision inferius', 5: 'Incision superius', 6: 'Lower lip', 7: 'Menton', 8: 'Nasion', 9: 'Orbitale', 10: 'Pogonion', 11: 'Porion', 12: 'Posterior nasal spine', 13: 'Sella', 14: 'Soft tissue pogonion', 15: 'Subnasale', 16: 'Subspinale', 17: 'Supramentale', 18: 'Upper lip'}\n",
       " obb: None\n",
       " orig_img: array([[[255, 255, 255],\n",
       "         [255, 255, 255],\n",
       "         [255, 255, 255],\n",
       "         ...,\n",
       "         [255, 255, 255],\n",
       "         [255, 255, 255],\n",
       "         [  0,   0,   0]],\n",
       " \n",
       "        [[255, 255, 255],\n",
       "         [255, 255, 255],\n",
       "         [255, 255, 255],\n",
       "         ...,\n",
       "         [255, 255, 255],\n",
       "         [255, 255, 255],\n",
       "         [  0,   0,   0]],\n",
       " \n",
       "        [[255, 255, 255],\n",
       "         [255, 255, 255],\n",
       "         [255, 255, 255],\n",
       "         ...,\n",
       "         [255, 255, 255],\n",
       "         [255, 255, 255],\n",
       "         [  0,   0,   0]],\n",
       " \n",
       "        ...,\n",
       " \n",
       "        [[252, 252, 252],\n",
       "         [252, 252, 252],\n",
       "         [252, 252, 252],\n",
       "         ...,\n",
       "         [245, 245, 245],\n",
       "         [255, 255, 255],\n",
       "         [  0,   0,   0]],\n",
       " \n",
       "        [[255, 255, 255],\n",
       "         [255, 255, 255],\n",
       "         [255, 255, 255],\n",
       "         ...,\n",
       "         [253, 253, 253],\n",
       "         [237, 237, 237],\n",
       "         [ 37,  37,  37]],\n",
       " \n",
       "        [[  0,   0,   0],\n",
       "         [  0,   0,   0],\n",
       "         [  0,   0,   0],\n",
       "         ...,\n",
       "         [  4,   4,   4],\n",
       "         [ 18,  18,  18],\n",
       "         [  0,   0,   0]]], dtype=uint8)\n",
       " orig_shape: (2400, 1935)\n",
       " path: 'C:\\\\Users\\\\Classic\\\\Desktop\\\\pr\\\\2\\\\test\\\\images\\\\049_jpg.rf.48143092b98578b9695621d7921fe559.jpg'\n",
       " probs: None\n",
       " save_dir: 'runs\\\\detect\\\\predict'\n",
       " speed: {'preprocess': 11.32300000062969, 'inference': 138.88720000068133, 'postprocess': 1.956800000698422},\n",
       " ultralytics.engine.results.Results object with attributes:\n",
       " \n",
       " boxes: ultralytics.engine.results.Boxes object\n",
       " keypoints: None\n",
       " masks: None\n",
       " names: {0: 'Anterior nasal spine', 1: 'Articulare', 2: 'Gnathion', 3: 'Gonion', 4: 'Incision inferius', 5: 'Incision superius', 6: 'Lower lip', 7: 'Menton', 8: 'Nasion', 9: 'Orbitale', 10: 'Pogonion', 11: 'Porion', 12: 'Posterior nasal spine', 13: 'Sella', 14: 'Soft tissue pogonion', 15: 'Subnasale', 16: 'Subspinale', 17: 'Supramentale', 18: 'Upper lip'}\n",
       " obb: None\n",
       " orig_img: array([[[213, 213, 213],\n",
       "         [213, 213, 213],\n",
       "         [213, 213, 213],\n",
       "         ...,\n",
       "         [218, 218, 218],\n",
       "         [210, 210, 210],\n",
       "         [  1,   1,   1]],\n",
       " \n",
       "        [[213, 213, 213],\n",
       "         [213, 213, 213],\n",
       "         [213, 213, 213],\n",
       "         ...,\n",
       "         [218, 218, 218],\n",
       "         [210, 210, 210],\n",
       "         [  1,   1,   1]],\n",
       " \n",
       "        [[213, 213, 213],\n",
       "         [213, 213, 213],\n",
       "         [213, 213, 213],\n",
       "         ...,\n",
       "         [218, 218, 218],\n",
       "         [210, 210, 210],\n",
       "         [  1,   1,   1]],\n",
       " \n",
       "        ...,\n",
       " \n",
       "        [[209, 209, 209],\n",
       "         [209, 209, 209],\n",
       "         [209, 209, 209],\n",
       "         ...,\n",
       "         [177, 177, 177],\n",
       "         [188, 188, 188],\n",
       "         [ 13,  13,  13]],\n",
       " \n",
       "        [[216, 216, 216],\n",
       "         [216, 216, 216],\n",
       "         [216, 216, 216],\n",
       "         ...,\n",
       "         [186, 186, 186],\n",
       "         [182, 182, 182],\n",
       "         [ 32,  32,  32]],\n",
       " \n",
       "        [[  0,   0,   0],\n",
       "         [  0,   0,   0],\n",
       "         [  0,   0,   0],\n",
       "         ...,\n",
       "         [  0,   0,   0],\n",
       "         [ 18,  18,  18],\n",
       "         [  0,   0,   0]]], dtype=uint8)\n",
       " orig_shape: (2400, 1935)\n",
       " path: 'C:\\\\Users\\\\Classic\\\\Desktop\\\\pr\\\\2\\\\test\\\\images\\\\086_jpg.rf.41505b8b0cc88f61ef6a2cf6545c07d8.jpg'\n",
       " probs: None\n",
       " save_dir: 'runs\\\\detect\\\\predict'\n",
       " speed: {'preprocess': 16.117499999381835, 'inference': 173.13669999930426, 'postprocess': 2.80179999936081},\n",
       " ultralytics.engine.results.Results object with attributes:\n",
       " \n",
       " boxes: ultralytics.engine.results.Boxes object\n",
       " keypoints: None\n",
       " masks: None\n",
       " names: {0: 'Anterior nasal spine', 1: 'Articulare', 2: 'Gnathion', 3: 'Gonion', 4: 'Incision inferius', 5: 'Incision superius', 6: 'Lower lip', 7: 'Menton', 8: 'Nasion', 9: 'Orbitale', 10: 'Pogonion', 11: 'Porion', 12: 'Posterior nasal spine', 13: 'Sella', 14: 'Soft tissue pogonion', 15: 'Subnasale', 16: 'Subspinale', 17: 'Supramentale', 18: 'Upper lip'}\n",
       " obb: None\n",
       " orig_img: array([[[237, 237, 237],\n",
       "         [236, 236, 236],\n",
       "         [235, 235, 235],\n",
       "         ...,\n",
       "         [237, 237, 237],\n",
       "         [238, 238, 238],\n",
       "         [  0,   0,   0]],\n",
       " \n",
       "        [[237, 237, 237],\n",
       "         [236, 236, 236],\n",
       "         [235, 235, 235],\n",
       "         ...,\n",
       "         [237, 237, 237],\n",
       "         [238, 238, 238],\n",
       "         [  0,   0,   0]],\n",
       " \n",
       "        [[237, 237, 237],\n",
       "         [236, 236, 236],\n",
       "         [235, 235, 235],\n",
       "         ...,\n",
       "         [237, 237, 237],\n",
       "         [238, 238, 238],\n",
       "         [  0,   0,   0]],\n",
       " \n",
       "        ...,\n",
       " \n",
       "        [[236, 236, 236],\n",
       "         [236, 236, 236],\n",
       "         [236, 236, 236],\n",
       "         ...,\n",
       "         [138, 138, 138],\n",
       "         [136, 136, 136],\n",
       "         [ 11,  11,  11]],\n",
       " \n",
       "        [[235, 235, 235],\n",
       "         [235, 235, 235],\n",
       "         [235, 235, 235],\n",
       "         ...,\n",
       "         [127, 127, 127],\n",
       "         [128, 128, 128],\n",
       "         [ 14,  14,  14]],\n",
       " \n",
       "        [[  0,   0,   0],\n",
       "         [  0,   0,   0],\n",
       "         [  0,   0,   0],\n",
       "         ...,\n",
       "         [  0,   0,   0],\n",
       "         [ 34,  34,  34],\n",
       "         [  0,   0,   0]]], dtype=uint8)\n",
       " orig_shape: (2400, 1935)\n",
       " path: 'C:\\\\Users\\\\Classic\\\\Desktop\\\\pr\\\\2\\\\test\\\\images\\\\097_jpg.rf.e01afe2de3226b223f92dfaa5768cee8.jpg'\n",
       " probs: None\n",
       " save_dir: 'runs\\\\detect\\\\predict'\n",
       " speed: {'preprocess': 11.647100000118371, 'inference': 132.6960999995208, 'postprocess': 3.1096000002435176},\n",
       " ultralytics.engine.results.Results object with attributes:\n",
       " \n",
       " boxes: ultralytics.engine.results.Boxes object\n",
       " keypoints: None\n",
       " masks: None\n",
       " names: {0: 'Anterior nasal spine', 1: 'Articulare', 2: 'Gnathion', 3: 'Gonion', 4: 'Incision inferius', 5: 'Incision superius', 6: 'Lower lip', 7: 'Menton', 8: 'Nasion', 9: 'Orbitale', 10: 'Pogonion', 11: 'Porion', 12: 'Posterior nasal spine', 13: 'Sella', 14: 'Soft tissue pogonion', 15: 'Subnasale', 16: 'Subspinale', 17: 'Supramentale', 18: 'Upper lip'}\n",
       " obb: None\n",
       " orig_img: array([[[253, 253, 253],\n",
       "         [253, 253, 253],\n",
       "         [253, 253, 253],\n",
       "         ...,\n",
       "         [255, 255, 255],\n",
       "         [251, 251, 251],\n",
       "         [  2,   2,   2]],\n",
       " \n",
       "        [[253, 253, 253],\n",
       "         [253, 253, 253],\n",
       "         [253, 253, 253],\n",
       "         ...,\n",
       "         [255, 255, 255],\n",
       "         [251, 251, 251],\n",
       "         [  2,   2,   2]],\n",
       " \n",
       "        [[253, 253, 253],\n",
       "         [253, 253, 253],\n",
       "         [253, 253, 253],\n",
       "         ...,\n",
       "         [255, 255, 255],\n",
       "         [251, 251, 251],\n",
       "         [  2,   2,   2]],\n",
       " \n",
       "        ...,\n",
       " \n",
       "        [[251, 251, 251],\n",
       "         [251, 251, 251],\n",
       "         [251, 251, 251],\n",
       "         ...,\n",
       "         [225, 225, 225],\n",
       "         [230, 230, 230],\n",
       "         [  4,   4,   4]],\n",
       " \n",
       "        [[255, 255, 255],\n",
       "         [255, 255, 255],\n",
       "         [255, 255, 255],\n",
       "         ...,\n",
       "         [231, 231, 231],\n",
       "         [210, 210, 210],\n",
       "         [ 48,  48,  48]],\n",
       " \n",
       "        [[  0,   0,   0],\n",
       "         [  0,   0,   0],\n",
       "         [  0,   0,   0],\n",
       "         ...,\n",
       "         [  2,   2,   2],\n",
       "         [  4,   4,   4],\n",
       "         [  0,   0,   0]]], dtype=uint8)\n",
       " orig_shape: (2400, 1935)\n",
       " path: 'C:\\\\Users\\\\Classic\\\\Desktop\\\\pr\\\\2\\\\test\\\\images\\\\114_jpg.rf.8665bf93d7c97bf90471921e258c08ee.jpg'\n",
       " probs: None\n",
       " save_dir: 'runs\\\\detect\\\\predict'\n",
       " speed: {'preprocess': 12.414700000590528, 'inference': 135.6099999993603, 'postprocess': 2.9794999991281657},\n",
       " ultralytics.engine.results.Results object with attributes:\n",
       " \n",
       " boxes: ultralytics.engine.results.Boxes object\n",
       " keypoints: None\n",
       " masks: None\n",
       " names: {0: 'Anterior nasal spine', 1: 'Articulare', 2: 'Gnathion', 3: 'Gonion', 4: 'Incision inferius', 5: 'Incision superius', 6: 'Lower lip', 7: 'Menton', 8: 'Nasion', 9: 'Orbitale', 10: 'Pogonion', 11: 'Porion', 12: 'Posterior nasal spine', 13: 'Sella', 14: 'Soft tissue pogonion', 15: 'Subnasale', 16: 'Subspinale', 17: 'Supramentale', 18: 'Upper lip'}\n",
       " obb: None\n",
       " orig_img: array([[[230, 230, 230],\n",
       "         [230, 230, 230],\n",
       "         [230, 230, 230],\n",
       "         ...,\n",
       "         [229, 229, 229],\n",
       "         [233, 233, 233],\n",
       "         [  0,   0,   0]],\n",
       " \n",
       "        [[230, 230, 230],\n",
       "         [230, 230, 230],\n",
       "         [230, 230, 230],\n",
       "         ...,\n",
       "         [229, 229, 229],\n",
       "         [233, 233, 233],\n",
       "         [  0,   0,   0]],\n",
       " \n",
       "        [[230, 230, 230],\n",
       "         [230, 230, 230],\n",
       "         [230, 230, 230],\n",
       "         ...,\n",
       "         [229, 229, 229],\n",
       "         [233, 233, 233],\n",
       "         [  0,   0,   0]],\n",
       " \n",
       "        ...,\n",
       " \n",
       "        [[228, 228, 228],\n",
       "         [228, 228, 228],\n",
       "         [228, 228, 228],\n",
       "         ...,\n",
       "         [207, 207, 207],\n",
       "         [213, 213, 213],\n",
       "         [  9,   9,   9]],\n",
       " \n",
       "        [[229, 229, 229],\n",
       "         [229, 229, 229],\n",
       "         [229, 229, 229],\n",
       "         ...,\n",
       "         [217, 217, 217],\n",
       "         [197, 197, 197],\n",
       "         [ 54,  54,  54]],\n",
       " \n",
       "        [[  0,   0,   0],\n",
       "         [  0,   0,   0],\n",
       "         [  0,   0,   0],\n",
       "         ...,\n",
       "         [  0,   0,   0],\n",
       "         [  0,   0,   0],\n",
       "         [  0,   0,   0]]], dtype=uint8)\n",
       " orig_shape: (2400, 1935)\n",
       " path: 'C:\\\\Users\\\\Classic\\\\Desktop\\\\pr\\\\2\\\\test\\\\images\\\\132_jpg.rf.89c6c3195bbc450f795c519a88ccdd7e.jpg'\n",
       " probs: None\n",
       " save_dir: 'runs\\\\detect\\\\predict'\n",
       " speed: {'preprocess': 11.771299999963958, 'inference': 131.58280000061495, 'postprocess': 2.856300001440104},\n",
       " ultralytics.engine.results.Results object with attributes:\n",
       " \n",
       " boxes: ultralytics.engine.results.Boxes object\n",
       " keypoints: None\n",
       " masks: None\n",
       " names: {0: 'Anterior nasal spine', 1: 'Articulare', 2: 'Gnathion', 3: 'Gonion', 4: 'Incision inferius', 5: 'Incision superius', 6: 'Lower lip', 7: 'Menton', 8: 'Nasion', 9: 'Orbitale', 10: 'Pogonion', 11: 'Porion', 12: 'Posterior nasal spine', 13: 'Sella', 14: 'Soft tissue pogonion', 15: 'Subnasale', 16: 'Subspinale', 17: 'Supramentale', 18: 'Upper lip'}\n",
       " obb: None\n",
       " orig_img: array([[[ 17,  17,  17],\n",
       "         [ 17,  17,  17],\n",
       "         [ 17,  17,  17],\n",
       "         ...,\n",
       "         [253, 253, 253],\n",
       "         [248, 248, 248],\n",
       "         [  0,   0,   0]],\n",
       " \n",
       "        [[ 17,  17,  17],\n",
       "         [ 17,  17,  17],\n",
       "         [ 16,  16,  16],\n",
       "         ...,\n",
       "         [253, 253, 253],\n",
       "         [248, 248, 248],\n",
       "         [  0,   0,   0]],\n",
       " \n",
       "        [[ 17,  17,  17],\n",
       "         [ 16,  16,  16],\n",
       "         [ 16,  16,  16],\n",
       "         ...,\n",
       "         [253, 253, 253],\n",
       "         [248, 248, 248],\n",
       "         [  0,   0,   0]],\n",
       " \n",
       "        ...,\n",
       " \n",
       "        [[250, 250, 250],\n",
       "         [250, 250, 250],\n",
       "         [250, 250, 250],\n",
       "         ...,\n",
       "         [235, 235, 235],\n",
       "         [253, 253, 253],\n",
       "         [  0,   0,   0]],\n",
       " \n",
       "        [[247, 247, 247],\n",
       "         [247, 247, 247],\n",
       "         [247, 247, 247],\n",
       "         ...,\n",
       "         [251, 251, 251],\n",
       "         [234, 234, 234],\n",
       "         [ 52,  52,  52]],\n",
       " \n",
       "        [[  1,   1,   1],\n",
       "         [  1,   1,   1],\n",
       "         [  1,   1,   1],\n",
       "         ...,\n",
       "         [ 11,  11,  11],\n",
       "         [  8,   8,   8],\n",
       "         [  0,   0,   0]]], dtype=uint8)\n",
       " orig_shape: (2400, 1935)\n",
       " path: 'C:\\\\Users\\\\Classic\\\\Desktop\\\\pr\\\\2\\\\test\\\\images\\\\133_jpg.rf.442faec0d624bb6c9f747cb20fb5df0e.jpg'\n",
       " probs: None\n",
       " save_dir: 'runs\\\\detect\\\\predict'\n",
       " speed: {'preprocess': 12.153699999544187, 'inference': 142.73590000084369, 'postprocess': 3.1388999996124767},\n",
       " ultralytics.engine.results.Results object with attributes:\n",
       " \n",
       " boxes: ultralytics.engine.results.Boxes object\n",
       " keypoints: None\n",
       " masks: None\n",
       " names: {0: 'Anterior nasal spine', 1: 'Articulare', 2: 'Gnathion', 3: 'Gonion', 4: 'Incision inferius', 5: 'Incision superius', 6: 'Lower lip', 7: 'Menton', 8: 'Nasion', 9: 'Orbitale', 10: 'Pogonion', 11: 'Porion', 12: 'Posterior nasal spine', 13: 'Sella', 14: 'Soft tissue pogonion', 15: 'Subnasale', 16: 'Subspinale', 17: 'Supramentale', 18: 'Upper lip'}\n",
       " obb: None\n",
       " orig_img: array([[[255, 255, 255],\n",
       "         [255, 255, 255],\n",
       "         [255, 255, 255],\n",
       "         ...,\n",
       "         [255, 255, 255],\n",
       "         [255, 255, 255],\n",
       "         [  0,   0,   0]],\n",
       " \n",
       "        [[255, 255, 255],\n",
       "         [255, 255, 255],\n",
       "         [255, 255, 255],\n",
       "         ...,\n",
       "         [255, 255, 255],\n",
       "         [255, 255, 255],\n",
       "         [  0,   0,   0]],\n",
       " \n",
       "        [[255, 255, 255],\n",
       "         [255, 255, 255],\n",
       "         [255, 255, 255],\n",
       "         ...,\n",
       "         [255, 255, 255],\n",
       "         [255, 255, 255],\n",
       "         [  0,   0,   0]],\n",
       " \n",
       "        ...,\n",
       " \n",
       "        [[252, 252, 252],\n",
       "         [252, 252, 252],\n",
       "         [252, 252, 252],\n",
       "         ...,\n",
       "         [190, 190, 190],\n",
       "         [197, 197, 197],\n",
       "         [ 10,  10,  10]],\n",
       " \n",
       "        [[255, 255, 255],\n",
       "         [255, 255, 255],\n",
       "         [255, 255, 255],\n",
       "         ...,\n",
       "         [211, 211, 211],\n",
       "         [201, 201, 201],\n",
       "         [ 47,  47,  47]],\n",
       " \n",
       "        [[  0,   0,   0],\n",
       "         [  0,   0,   0],\n",
       "         [  0,   0,   0],\n",
       "         ...,\n",
       "         [  0,   0,   0],\n",
       "         [ 21,  21,  21],\n",
       "         [  0,   0,   0]]], dtype=uint8)\n",
       " orig_shape: (2400, 1935)\n",
       " path: 'C:\\\\Users\\\\Classic\\\\Desktop\\\\pr\\\\2\\\\test\\\\images\\\\163_jpg.rf.6802b90b0b1f22c90ab73dbfdc79962c.jpg'\n",
       " probs: None\n",
       " save_dir: 'runs\\\\detect\\\\predict'\n",
       " speed: {'preprocess': 12.42880000063451, 'inference': 139.47969999935594, 'postprocess': 3.080200000113109},\n",
       " ultralytics.engine.results.Results object with attributes:\n",
       " \n",
       " boxes: ultralytics.engine.results.Boxes object\n",
       " keypoints: None\n",
       " masks: None\n",
       " names: {0: 'Anterior nasal spine', 1: 'Articulare', 2: 'Gnathion', 3: 'Gonion', 4: 'Incision inferius', 5: 'Incision superius', 6: 'Lower lip', 7: 'Menton', 8: 'Nasion', 9: 'Orbitale', 10: 'Pogonion', 11: 'Porion', 12: 'Posterior nasal spine', 13: 'Sella', 14: 'Soft tissue pogonion', 15: 'Subnasale', 16: 'Subspinale', 17: 'Supramentale', 18: 'Upper lip'}\n",
       " obb: None\n",
       " orig_img: array([[[247, 247, 247],\n",
       "         [247, 247, 247],\n",
       "         [247, 247, 247],\n",
       "         ...,\n",
       "         [249, 249, 249],\n",
       "         [245, 245, 245],\n",
       "         [  3,   3,   3]],\n",
       " \n",
       "        [[247, 247, 247],\n",
       "         [247, 247, 247],\n",
       "         [247, 247, 247],\n",
       "         ...,\n",
       "         [249, 249, 249],\n",
       "         [245, 245, 245],\n",
       "         [  3,   3,   3]],\n",
       " \n",
       "        [[247, 247, 247],\n",
       "         [247, 247, 247],\n",
       "         [247, 247, 247],\n",
       "         ...,\n",
       "         [249, 249, 249],\n",
       "         [245, 245, 245],\n",
       "         [  3,   3,   3]],\n",
       " \n",
       "        ...,\n",
       " \n",
       "        [[250, 250, 250],\n",
       "         [250, 250, 250],\n",
       "         [250, 250, 250],\n",
       "         ...,\n",
       "         [195, 195, 195],\n",
       "         [181, 181, 181],\n",
       "         [ 14,  14,  14]],\n",
       " \n",
       "        [[247, 247, 247],\n",
       "         [247, 247, 247],\n",
       "         [247, 247, 247],\n",
       "         ...,\n",
       "         [197, 197, 197],\n",
       "         [180, 180, 180],\n",
       "         [ 25,  25,  25]],\n",
       " \n",
       "        [[  1,   1,   1],\n",
       "         [  1,   1,   1],\n",
       "         [  1,   1,   1],\n",
       "         ...,\n",
       "         [  3,   3,   3],\n",
       "         [ 33,  33,  33],\n",
       "         [  0,   0,   0]]], dtype=uint8)\n",
       " orig_shape: (2400, 1935)\n",
       " path: 'C:\\\\Users\\\\Classic\\\\Desktop\\\\pr\\\\2\\\\test\\\\images\\\\172_jpg.rf.67c4d618860a0796a5991543af9937a6.jpg'\n",
       " probs: None\n",
       " save_dir: 'runs\\\\detect\\\\predict'\n",
       " speed: {'preprocess': 8.61079999958747, 'inference': 137.14670000081242, 'postprocess': 3.094900001087808},\n",
       " ultralytics.engine.results.Results object with attributes:\n",
       " \n",
       " boxes: ultralytics.engine.results.Boxes object\n",
       " keypoints: None\n",
       " masks: None\n",
       " names: {0: 'Anterior nasal spine', 1: 'Articulare', 2: 'Gnathion', 3: 'Gonion', 4: 'Incision inferius', 5: 'Incision superius', 6: 'Lower lip', 7: 'Menton', 8: 'Nasion', 9: 'Orbitale', 10: 'Pogonion', 11: 'Porion', 12: 'Posterior nasal spine', 13: 'Sella', 14: 'Soft tissue pogonion', 15: 'Subnasale', 16: 'Subspinale', 17: 'Supramentale', 18: 'Upper lip'}\n",
       " obb: None\n",
       " orig_img: array([[[255, 255, 255],\n",
       "         [255, 255, 255],\n",
       "         [255, 255, 255],\n",
       "         ...,\n",
       "         [255, 255, 255],\n",
       "         [255, 255, 255],\n",
       "         [255, 255, 255]],\n",
       " \n",
       "        [[255, 255, 255],\n",
       "         [255, 255, 255],\n",
       "         [255, 255, 255],\n",
       "         ...,\n",
       "         [255, 255, 255],\n",
       "         [255, 255, 255],\n",
       "         [255, 255, 255]],\n",
       " \n",
       "        [[255, 255, 255],\n",
       "         [255, 255, 255],\n",
       "         [255, 255, 255],\n",
       "         ...,\n",
       "         [255, 255, 255],\n",
       "         [255, 255, 255],\n",
       "         [255, 255, 255]],\n",
       " \n",
       "        ...,\n",
       " \n",
       "        [[249, 249, 249],\n",
       "         [249, 249, 249],\n",
       "         [249, 249, 249],\n",
       "         ...,\n",
       "         [220, 220, 220],\n",
       "         [221, 221, 221],\n",
       "         [217, 217, 217]],\n",
       " \n",
       "        [[255, 255, 255],\n",
       "         [255, 255, 255],\n",
       "         [255, 255, 255],\n",
       "         ...,\n",
       "         [216, 216, 216],\n",
       "         [217, 217, 217],\n",
       "         [215, 215, 215]],\n",
       " \n",
       "        [[ 43,  43,  43],\n",
       "         [ 43,  43,  43],\n",
       "         [ 43,  43,  43],\n",
       "         ...,\n",
       "         [ 44,  44,  44],\n",
       "         [ 47,  47,  47],\n",
       "         [ 46,  46,  46]]], dtype=uint8)\n",
       " orig_shape: (2400, 1935)\n",
       " path: 'C:\\\\Users\\\\Classic\\\\Desktop\\\\pr\\\\2\\\\test\\\\images\\\\201_jpg.rf.c1e6952df02745f56b2d25e14890a078.jpg'\n",
       " probs: None\n",
       " save_dir: 'runs\\\\detect\\\\predict'\n",
       " speed: {'preprocess': 12.44839999890246, 'inference': 129.2501000007178, 'postprocess': 2.194200000303681},\n",
       " ultralytics.engine.results.Results object with attributes:\n",
       " \n",
       " boxes: ultralytics.engine.results.Boxes object\n",
       " keypoints: None\n",
       " masks: None\n",
       " names: {0: 'Anterior nasal spine', 1: 'Articulare', 2: 'Gnathion', 3: 'Gonion', 4: 'Incision inferius', 5: 'Incision superius', 6: 'Lower lip', 7: 'Menton', 8: 'Nasion', 9: 'Orbitale', 10: 'Pogonion', 11: 'Porion', 12: 'Posterior nasal spine', 13: 'Sella', 14: 'Soft tissue pogonion', 15: 'Subnasale', 16: 'Subspinale', 17: 'Supramentale', 18: 'Upper lip'}\n",
       " obb: None\n",
       " orig_img: array([[[245, 245, 245],\n",
       "         [245, 245, 245],\n",
       "         [245, 245, 245],\n",
       "         ...,\n",
       "         [244, 244, 244],\n",
       "         [243, 243, 243],\n",
       "         [  2,   2,   2]],\n",
       " \n",
       "        [[245, 245, 245],\n",
       "         [245, 245, 245],\n",
       "         [245, 245, 245],\n",
       "         ...,\n",
       "         [244, 244, 244],\n",
       "         [243, 243, 243],\n",
       "         [  2,   2,   2]],\n",
       " \n",
       "        [[245, 245, 245],\n",
       "         [245, 245, 245],\n",
       "         [245, 245, 245],\n",
       "         ...,\n",
       "         [244, 244, 244],\n",
       "         [243, 243, 243],\n",
       "         [  2,   2,   2]],\n",
       " \n",
       "        ...,\n",
       " \n",
       "        [[245, 245, 245],\n",
       "         [245, 245, 245],\n",
       "         [245, 245, 245],\n",
       "         ...,\n",
       "         [223, 223, 223],\n",
       "         [234, 234, 234],\n",
       "         [  0,   0,   0]],\n",
       " \n",
       "        [[243, 243, 243],\n",
       "         [243, 243, 243],\n",
       "         [243, 243, 243],\n",
       "         ...,\n",
       "         [244, 244, 244],\n",
       "         [229, 229, 229],\n",
       "         [ 35,  35,  35]],\n",
       " \n",
       "        [[  0,   0,   0],\n",
       "         [  0,   0,   0],\n",
       "         [  0,   0,   0],\n",
       "         ...,\n",
       "         [  0,   0,   0],\n",
       "         [ 23,  23,  23],\n",
       "         [  0,   0,   0]]], dtype=uint8)\n",
       " orig_shape: (2400, 1935)\n",
       " path: 'C:\\\\Users\\\\Classic\\\\Desktop\\\\pr\\\\2\\\\test\\\\images\\\\203_jpg.rf.9396efd7085daf108822b961c8dfa367.jpg'\n",
       " probs: None\n",
       " save_dir: 'runs\\\\detect\\\\predict'\n",
       " speed: {'preprocess': 10.169999999561696, 'inference': 137.48599999962607, 'postprocess': 3.0943999990995508},\n",
       " ultralytics.engine.results.Results object with attributes:\n",
       " \n",
       " boxes: ultralytics.engine.results.Boxes object\n",
       " keypoints: None\n",
       " masks: None\n",
       " names: {0: 'Anterior nasal spine', 1: 'Articulare', 2: 'Gnathion', 3: 'Gonion', 4: 'Incision inferius', 5: 'Incision superius', 6: 'Lower lip', 7: 'Menton', 8: 'Nasion', 9: 'Orbitale', 10: 'Pogonion', 11: 'Porion', 12: 'Posterior nasal spine', 13: 'Sella', 14: 'Soft tissue pogonion', 15: 'Subnasale', 16: 'Subspinale', 17: 'Supramentale', 18: 'Upper lip'}\n",
       " obb: None\n",
       " orig_img: array([[[ 30,  30,  30],\n",
       "         [ 30,  30,  30],\n",
       "         [ 30,  30,  30],\n",
       "         ...,\n",
       "         [255, 255, 255],\n",
       "         [255, 255, 255],\n",
       "         [  0,   0,   0]],\n",
       " \n",
       "        [[ 30,  30,  30],\n",
       "         [ 30,  30,  30],\n",
       "         [ 30,  30,  30],\n",
       "         ...,\n",
       "         [255, 255, 255],\n",
       "         [255, 255, 255],\n",
       "         [  0,   0,   0]],\n",
       " \n",
       "        [[ 30,  30,  30],\n",
       "         [ 30,  30,  30],\n",
       "         [ 30,  30,  30],\n",
       "         ...,\n",
       "         [255, 255, 255],\n",
       "         [255, 255, 255],\n",
       "         [  0,   0,   0]],\n",
       " \n",
       "        ...,\n",
       " \n",
       "        [[252, 252, 252],\n",
       "         [252, 252, 252],\n",
       "         [252, 252, 252],\n",
       "         ...,\n",
       "         [246, 246, 246],\n",
       "         [255, 255, 255],\n",
       "         [  0,   0,   0]],\n",
       " \n",
       "        [[255, 255, 255],\n",
       "         [255, 255, 255],\n",
       "         [255, 255, 255],\n",
       "         ...,\n",
       "         [254, 254, 254],\n",
       "         [233, 233, 233],\n",
       "         [ 45,  45,  45]],\n",
       " \n",
       "        [[  0,   0,   0],\n",
       "         [  0,   0,   0],\n",
       "         [  0,   0,   0],\n",
       "         ...,\n",
       "         [ 20,  20,  20],\n",
       "         [ 15,  15,  15],\n",
       "         [  0,   0,   0]]], dtype=uint8)\n",
       " orig_shape: (2400, 1935)\n",
       " path: 'C:\\\\Users\\\\Classic\\\\Desktop\\\\pr\\\\2\\\\test\\\\images\\\\213_jpg.rf.fcc8d55a77918f5b17d76e0d90f012ce.jpg'\n",
       " probs: None\n",
       " save_dir: 'runs\\\\detect\\\\predict'\n",
       " speed: {'preprocess': 9.110699998927885, 'inference': 136.94759999998496, 'postprocess': 3.0953000004956266},\n",
       " ultralytics.engine.results.Results object with attributes:\n",
       " \n",
       " boxes: ultralytics.engine.results.Boxes object\n",
       " keypoints: None\n",
       " masks: None\n",
       " names: {0: 'Anterior nasal spine', 1: 'Articulare', 2: 'Gnathion', 3: 'Gonion', 4: 'Incision inferius', 5: 'Incision superius', 6: 'Lower lip', 7: 'Menton', 8: 'Nasion', 9: 'Orbitale', 10: 'Pogonion', 11: 'Porion', 12: 'Posterior nasal spine', 13: 'Sella', 14: 'Soft tissue pogonion', 15: 'Subnasale', 16: 'Subspinale', 17: 'Supramentale', 18: 'Upper lip'}\n",
       " obb: None\n",
       " orig_img: array([[[ 13,  13,  13],\n",
       "         [ 13,  13,  13],\n",
       "         [ 13,  13,  13],\n",
       "         ...,\n",
       "         [249, 249, 249],\n",
       "         [245, 245, 245],\n",
       "         [  3,   3,   3]],\n",
       " \n",
       "        [[ 13,  13,  13],\n",
       "         [ 13,  13,  13],\n",
       "         [ 13,  13,  13],\n",
       "         ...,\n",
       "         [249, 249, 249],\n",
       "         [245, 245, 245],\n",
       "         [  3,   3,   3]],\n",
       " \n",
       "        [[ 12,  12,  12],\n",
       "         [ 12,  12,  12],\n",
       "         [ 13,  13,  13],\n",
       "         ...,\n",
       "         [249, 249, 249],\n",
       "         [245, 245, 245],\n",
       "         [  3,   3,   3]],\n",
       " \n",
       "        ...,\n",
       " \n",
       "        [[250, 250, 250],\n",
       "         [250, 250, 250],\n",
       "         [250, 250, 250],\n",
       "         ...,\n",
       "         [233, 233, 233],\n",
       "         [250, 250, 250],\n",
       "         [  0,   0,   0]],\n",
       " \n",
       "        [[247, 247, 247],\n",
       "         [247, 247, 247],\n",
       "         [247, 247, 247],\n",
       "         ...,\n",
       "         [249, 249, 249],\n",
       "         [230, 230, 230],\n",
       "         [ 49,  49,  49]],\n",
       " \n",
       "        [[  1,   1,   1],\n",
       "         [  1,   1,   1],\n",
       "         [  1,   1,   1],\n",
       "         ...,\n",
       "         [ 11,  11,  11],\n",
       "         [  6,   6,   6],\n",
       "         [  0,   0,   0]]], dtype=uint8)\n",
       " orig_shape: (2400, 1935)\n",
       " path: 'C:\\\\Users\\\\Classic\\\\Desktop\\\\pr\\\\2\\\\test\\\\images\\\\235_jpg.rf.d3d9aac31de674df5fab3e396f13e3db.jpg'\n",
       " probs: None\n",
       " save_dir: 'runs\\\\detect\\\\predict'\n",
       " speed: {'preprocess': 9.829000000536325, 'inference': 138.04779999918537, 'postprocess': 3.032000000530388},\n",
       " ultralytics.engine.results.Results object with attributes:\n",
       " \n",
       " boxes: ultralytics.engine.results.Boxes object\n",
       " keypoints: None\n",
       " masks: None\n",
       " names: {0: 'Anterior nasal spine', 1: 'Articulare', 2: 'Gnathion', 3: 'Gonion', 4: 'Incision inferius', 5: 'Incision superius', 6: 'Lower lip', 7: 'Menton', 8: 'Nasion', 9: 'Orbitale', 10: 'Pogonion', 11: 'Porion', 12: 'Posterior nasal spine', 13: 'Sella', 14: 'Soft tissue pogonion', 15: 'Subnasale', 16: 'Subspinale', 17: 'Supramentale', 18: 'Upper lip'}\n",
       " obb: None\n",
       " orig_img: array([[[252, 252, 252],\n",
       "         [252, 252, 252],\n",
       "         [252, 252, 252],\n",
       "         ...,\n",
       "         [255, 255, 255],\n",
       "         [251, 251, 251],\n",
       "         [  2,   2,   2]],\n",
       " \n",
       "        [[252, 252, 252],\n",
       "         [252, 252, 252],\n",
       "         [252, 252, 252],\n",
       "         ...,\n",
       "         [255, 255, 255],\n",
       "         [251, 251, 251],\n",
       "         [  2,   2,   2]],\n",
       " \n",
       "        [[252, 252, 252],\n",
       "         [252, 252, 252],\n",
       "         [252, 252, 252],\n",
       "         ...,\n",
       "         [255, 255, 255],\n",
       "         [251, 251, 251],\n",
       "         [  2,   2,   2]],\n",
       " \n",
       "        ...,\n",
       " \n",
       "        [[251, 251, 251],\n",
       "         [251, 251, 251],\n",
       "         [251, 251, 251],\n",
       "         ...,\n",
       "         [175, 175, 175],\n",
       "         [159, 159, 159],\n",
       "         [ 12,  12,  12]],\n",
       " \n",
       "        [[255, 255, 255],\n",
       "         [255, 255, 255],\n",
       "         [255, 255, 255],\n",
       "         ...,\n",
       "         [153, 153, 153],\n",
       "         [143, 143, 143],\n",
       "         [ 25,  25,  25]],\n",
       " \n",
       "        [[  0,   0,   0],\n",
       "         [  0,   0,   0],\n",
       "         [  0,   0,   0],\n",
       "         ...,\n",
       "         [  0,   0,   0],\n",
       "         [ 29,  29,  29],\n",
       "         [  0,   0,   0]]], dtype=uint8)\n",
       " orig_shape: (2400, 1935)\n",
       " path: 'C:\\\\Users\\\\Classic\\\\Desktop\\\\pr\\\\2\\\\test\\\\images\\\\240_jpg.rf.e31f4ed51d36a3d8a781c26f8f100827.jpg'\n",
       " probs: None\n",
       " save_dir: 'runs\\\\detect\\\\predict'\n",
       " speed: {'preprocess': 12.338900000031572, 'inference': 137.49359999928856, 'postprocess': 1.8969000011566095},\n",
       " ultralytics.engine.results.Results object with attributes:\n",
       " \n",
       " boxes: ultralytics.engine.results.Boxes object\n",
       " keypoints: None\n",
       " masks: None\n",
       " names: {0: 'Anterior nasal spine', 1: 'Articulare', 2: 'Gnathion', 3: 'Gonion', 4: 'Incision inferius', 5: 'Incision superius', 6: 'Lower lip', 7: 'Menton', 8: 'Nasion', 9: 'Orbitale', 10: 'Pogonion', 11: 'Porion', 12: 'Posterior nasal spine', 13: 'Sella', 14: 'Soft tissue pogonion', 15: 'Subnasale', 16: 'Subspinale', 17: 'Supramentale', 18: 'Upper lip'}\n",
       " obb: None\n",
       " orig_img: array([[[254, 254, 254],\n",
       "         [254, 254, 254],\n",
       "         [254, 254, 254],\n",
       "         ...,\n",
       "         [255, 255, 255],\n",
       "         [251, 251, 251],\n",
       "         [  2,   2,   2]],\n",
       " \n",
       "        [[254, 254, 254],\n",
       "         [254, 254, 254],\n",
       "         [254, 254, 254],\n",
       "         ...,\n",
       "         [255, 255, 255],\n",
       "         [251, 251, 251],\n",
       "         [  2,   2,   2]],\n",
       " \n",
       "        [[254, 254, 254],\n",
       "         [254, 254, 254],\n",
       "         [254, 254, 254],\n",
       "         ...,\n",
       "         [255, 255, 255],\n",
       "         [251, 251, 251],\n",
       "         [  2,   2,   2]],\n",
       " \n",
       "        ...,\n",
       " \n",
       "        [[251, 251, 251],\n",
       "         [251, 251, 251],\n",
       "         [251, 251, 251],\n",
       "         ...,\n",
       "         [232, 232, 232],\n",
       "         [235, 235, 235],\n",
       "         [  5,   5,   5]],\n",
       " \n",
       "        [[255, 255, 255],\n",
       "         [255, 255, 255],\n",
       "         [255, 255, 255],\n",
       "         ...,\n",
       "         [239, 239, 239],\n",
       "         [217, 217, 217],\n",
       "         [ 53,  53,  53]],\n",
       " \n",
       "        [[  0,   0,   0],\n",
       "         [  0,   0,   0],\n",
       "         [  0,   0,   0],\n",
       "         ...,\n",
       "         [  1,   1,   1],\n",
       "         [  4,   4,   4],\n",
       "         [  0,   0,   0]]], dtype=uint8)\n",
       " orig_shape: (2400, 1935)\n",
       " path: 'C:\\\\Users\\\\Classic\\\\Desktop\\\\pr\\\\2\\\\test\\\\images\\\\243_jpg.rf.a1c66cba813793186ab2f597dafb0896.jpg'\n",
       " probs: None\n",
       " save_dir: 'runs\\\\detect\\\\predict'\n",
       " speed: {'preprocess': 10.854699999981676, 'inference': 128.96860000000743, 'postprocess': 2.851199998985976},\n",
       " ultralytics.engine.results.Results object with attributes:\n",
       " \n",
       " boxes: ultralytics.engine.results.Boxes object\n",
       " keypoints: None\n",
       " masks: None\n",
       " names: {0: 'Anterior nasal spine', 1: 'Articulare', 2: 'Gnathion', 3: 'Gonion', 4: 'Incision inferius', 5: 'Incision superius', 6: 'Lower lip', 7: 'Menton', 8: 'Nasion', 9: 'Orbitale', 10: 'Pogonion', 11: 'Porion', 12: 'Posterior nasal spine', 13: 'Sella', 14: 'Soft tissue pogonion', 15: 'Subnasale', 16: 'Subspinale', 17: 'Supramentale', 18: 'Upper lip'}\n",
       " obb: None\n",
       " orig_img: array([[[ 18,  18,  18],\n",
       "         [ 18,  18,  18],\n",
       "         [ 18,  18,  18],\n",
       "         ...,\n",
       "         [255, 255, 255],\n",
       "         [255, 255, 255],\n",
       "         [  0,   0,   0]],\n",
       " \n",
       "        [[ 18,  18,  18],\n",
       "         [ 18,  18,  18],\n",
       "         [ 18,  18,  18],\n",
       "         ...,\n",
       "         [255, 255, 255],\n",
       "         [255, 255, 255],\n",
       "         [  0,   0,   0]],\n",
       " \n",
       "        [[ 18,  18,  18],\n",
       "         [ 18,  18,  18],\n",
       "         [ 18,  18,  18],\n",
       "         ...,\n",
       "         [255, 255, 255],\n",
       "         [255, 255, 255],\n",
       "         [  0,   0,   0]],\n",
       " \n",
       "        ...,\n",
       " \n",
       "        [[252, 252, 252],\n",
       "         [252, 252, 252],\n",
       "         [252, 252, 252],\n",
       "         ...,\n",
       "         [246, 246, 246],\n",
       "         [255, 255, 255],\n",
       "         [  0,   0,   0]],\n",
       " \n",
       "        [[255, 255, 255],\n",
       "         [255, 255, 255],\n",
       "         [255, 255, 255],\n",
       "         ...,\n",
       "         [254, 254, 254],\n",
       "         [233, 233, 233],\n",
       "         [ 45,  45,  45]],\n",
       " \n",
       "        [[  0,   0,   0],\n",
       "         [  0,   0,   0],\n",
       "         [  0,   0,   0],\n",
       "         ...,\n",
       "         [ 20,  20,  20],\n",
       "         [ 15,  15,  15],\n",
       "         [  0,   0,   0]]], dtype=uint8)\n",
       " orig_shape: (2400, 1935)\n",
       " path: 'C:\\\\Users\\\\Classic\\\\Desktop\\\\pr\\\\2\\\\test\\\\images\\\\246_jpg.rf.4ccabbc102496f4e370a73d122c4889c.jpg'\n",
       " probs: None\n",
       " save_dir: 'runs\\\\detect\\\\predict'\n",
       " speed: {'preprocess': 9.87159999931464, 'inference': 127.14249999953608, 'postprocess': 3.1162999985099304},\n",
       " ultralytics.engine.results.Results object with attributes:\n",
       " \n",
       " boxes: ultralytics.engine.results.Boxes object\n",
       " keypoints: None\n",
       " masks: None\n",
       " names: {0: 'Anterior nasal spine', 1: 'Articulare', 2: 'Gnathion', 3: 'Gonion', 4: 'Incision inferius', 5: 'Incision superius', 6: 'Lower lip', 7: 'Menton', 8: 'Nasion', 9: 'Orbitale', 10: 'Pogonion', 11: 'Porion', 12: 'Posterior nasal spine', 13: 'Sella', 14: 'Soft tissue pogonion', 15: 'Subnasale', 16: 'Subspinale', 17: 'Supramentale', 18: 'Upper lip'}\n",
       " obb: None\n",
       " orig_img: array([[[248, 248, 248],\n",
       "         [248, 248, 248],\n",
       "         [248, 248, 248],\n",
       "         ...,\n",
       "         [249, 249, 249],\n",
       "         [245, 245, 245],\n",
       "         [  3,   3,   3]],\n",
       " \n",
       "        [[248, 248, 248],\n",
       "         [248, 248, 248],\n",
       "         [248, 248, 248],\n",
       "         ...,\n",
       "         [249, 249, 249],\n",
       "         [245, 245, 245],\n",
       "         [  3,   3,   3]],\n",
       " \n",
       "        [[248, 248, 248],\n",
       "         [248, 248, 248],\n",
       "         [248, 248, 248],\n",
       "         ...,\n",
       "         [249, 249, 249],\n",
       "         [245, 245, 245],\n",
       "         [  3,   3,   3]],\n",
       " \n",
       "        ...,\n",
       " \n",
       "        [[250, 250, 250],\n",
       "         [250, 250, 250],\n",
       "         [250, 250, 250],\n",
       "         ...,\n",
       "         [173, 173, 173],\n",
       "         [160, 160, 160],\n",
       "         [  7,   7,   7]],\n",
       " \n",
       "        [[247, 247, 247],\n",
       "         [247, 247, 247],\n",
       "         [247, 247, 247],\n",
       "         ...,\n",
       "         [210, 210, 210],\n",
       "         [198, 198, 198],\n",
       "         [ 47,  47,  47]],\n",
       " \n",
       "        [[  1,   1,   1],\n",
       "         [  1,   1,   1],\n",
       "         [  1,   1,   1],\n",
       "         ...,\n",
       "         [  0,   0,   0],\n",
       "         [ 30,  30,  30],\n",
       "         [  0,   0,   0]]], dtype=uint8)\n",
       " orig_shape: (2400, 1935)\n",
       " path: 'C:\\\\Users\\\\Classic\\\\Desktop\\\\pr\\\\2\\\\test\\\\images\\\\252_jpg.rf.84fb642105e074d67bc717fa1d03cc8b.jpg'\n",
       " probs: None\n",
       " save_dir: 'runs\\\\detect\\\\predict'\n",
       " speed: {'preprocess': 8.452099998976337, 'inference': 140.69240000026184, 'postprocess': 3.02430000010645},\n",
       " ultralytics.engine.results.Results object with attributes:\n",
       " \n",
       " boxes: ultralytics.engine.results.Boxes object\n",
       " keypoints: None\n",
       " masks: None\n",
       " names: {0: 'Anterior nasal spine', 1: 'Articulare', 2: 'Gnathion', 3: 'Gonion', 4: 'Incision inferius', 5: 'Incision superius', 6: 'Lower lip', 7: 'Menton', 8: 'Nasion', 9: 'Orbitale', 10: 'Pogonion', 11: 'Porion', 12: 'Posterior nasal spine', 13: 'Sella', 14: 'Soft tissue pogonion', 15: 'Subnasale', 16: 'Subspinale', 17: 'Supramentale', 18: 'Upper lip'}\n",
       " obb: None\n",
       " orig_img: array([[[254, 254, 254],\n",
       "         [254, 254, 254],\n",
       "         [254, 254, 254],\n",
       "         ...,\n",
       "         [255, 255, 255],\n",
       "         [251, 251, 251],\n",
       "         [  2,   2,   2]],\n",
       " \n",
       "        [[254, 254, 254],\n",
       "         [254, 254, 254],\n",
       "         [254, 254, 254],\n",
       "         ...,\n",
       "         [255, 255, 255],\n",
       "         [251, 251, 251],\n",
       "         [  2,   2,   2]],\n",
       " \n",
       "        [[254, 254, 254],\n",
       "         [254, 254, 254],\n",
       "         [254, 254, 254],\n",
       "         ...,\n",
       "         [255, 255, 255],\n",
       "         [251, 251, 251],\n",
       "         [  2,   2,   2]],\n",
       " \n",
       "        ...,\n",
       " \n",
       "        [[251, 251, 251],\n",
       "         [251, 251, 251],\n",
       "         [251, 251, 251],\n",
       "         ...,\n",
       "         [233, 233, 233],\n",
       "         [237, 237, 237],\n",
       "         [  8,   8,   8]],\n",
       " \n",
       "        [[255, 255, 255],\n",
       "         [255, 255, 255],\n",
       "         [255, 255, 255],\n",
       "         ...,\n",
       "         [237, 237, 237],\n",
       "         [216, 216, 216],\n",
       "         [ 53,  53,  53]],\n",
       " \n",
       "        [[  0,   0,   0],\n",
       "         [  0,   0,   0],\n",
       "         [  0,   0,   0],\n",
       "         ...,\n",
       "         [  1,   1,   1],\n",
       "         [  4,   4,   4],\n",
       "         [  0,   0,   0]]], dtype=uint8)\n",
       " orig_shape: (2400, 1935)\n",
       " path: 'C:\\\\Users\\\\Classic\\\\Desktop\\\\pr\\\\2\\\\test\\\\images\\\\260_jpg.rf.9aab60e2edb4ed03548e7cca665c1343.jpg'\n",
       " probs: None\n",
       " save_dir: 'runs\\\\detect\\\\predict'\n",
       " speed: {'preprocess': 11.928799998713657, 'inference': 136.623000000327, 'postprocess': 3.0387999995582504},\n",
       " ultralytics.engine.results.Results object with attributes:\n",
       " \n",
       " boxes: ultralytics.engine.results.Boxes object\n",
       " keypoints: None\n",
       " masks: None\n",
       " names: {0: 'Anterior nasal spine', 1: 'Articulare', 2: 'Gnathion', 3: 'Gonion', 4: 'Incision inferius', 5: 'Incision superius', 6: 'Lower lip', 7: 'Menton', 8: 'Nasion', 9: 'Orbitale', 10: 'Pogonion', 11: 'Porion', 12: 'Posterior nasal spine', 13: 'Sella', 14: 'Soft tissue pogonion', 15: 'Subnasale', 16: 'Subspinale', 17: 'Supramentale', 18: 'Upper lip'}\n",
       " obb: None\n",
       " orig_img: array([[[255, 255, 255],\n",
       "         [255, 255, 255],\n",
       "         [255, 255, 255],\n",
       "         ...,\n",
       "         [255, 255, 255],\n",
       "         [255, 255, 255],\n",
       "         [  0,   0,   0]],\n",
       " \n",
       "        [[255, 255, 255],\n",
       "         [255, 255, 255],\n",
       "         [255, 255, 255],\n",
       "         ...,\n",
       "         [255, 255, 255],\n",
       "         [255, 255, 255],\n",
       "         [  0,   0,   0]],\n",
       " \n",
       "        [[255, 255, 255],\n",
       "         [255, 255, 255],\n",
       "         [255, 255, 255],\n",
       "         ...,\n",
       "         [255, 255, 255],\n",
       "         [255, 255, 255],\n",
       "         [  0,   0,   0]],\n",
       " \n",
       "        ...,\n",
       " \n",
       "        [[252, 252, 252],\n",
       "         [252, 252, 252],\n",
       "         [252, 252, 252],\n",
       "         ...,\n",
       "         [217, 217, 217],\n",
       "         [241, 241, 241],\n",
       "         [  0,   0,   0]],\n",
       " \n",
       "        [[255, 255, 255],\n",
       "         [255, 255, 255],\n",
       "         [255, 255, 255],\n",
       "         ...,\n",
       "         [245, 245, 245],\n",
       "         [233, 233, 233],\n",
       "         [ 49,  49,  49]],\n",
       " \n",
       "        [[  0,   0,   0],\n",
       "         [  0,   0,   0],\n",
       "         [  0,   0,   0],\n",
       "         ...,\n",
       "         [ 14,  14,  14],\n",
       "         [ 15,  15,  15],\n",
       "         [  0,   0,   0]]], dtype=uint8)\n",
       " orig_shape: (2400, 1935)\n",
       " path: 'C:\\\\Users\\\\Classic\\\\Desktop\\\\pr\\\\2\\\\test\\\\images\\\\261_jpg.rf.3b8a7894d8b302b2041e1e094f622e4c.jpg'\n",
       " probs: None\n",
       " save_dir: 'runs\\\\detect\\\\predict'\n",
       " speed: {'preprocess': 12.636199999178643, 'inference': 134.3416999989131, 'postprocess': 1.8424000008963048},\n",
       " ultralytics.engine.results.Results object with attributes:\n",
       " \n",
       " boxes: ultralytics.engine.results.Boxes object\n",
       " keypoints: None\n",
       " masks: None\n",
       " names: {0: 'Anterior nasal spine', 1: 'Articulare', 2: 'Gnathion', 3: 'Gonion', 4: 'Incision inferius', 5: 'Incision superius', 6: 'Lower lip', 7: 'Menton', 8: 'Nasion', 9: 'Orbitale', 10: 'Pogonion', 11: 'Porion', 12: 'Posterior nasal spine', 13: 'Sella', 14: 'Soft tissue pogonion', 15: 'Subnasale', 16: 'Subspinale', 17: 'Supramentale', 18: 'Upper lip'}\n",
       " obb: None\n",
       " orig_img: array([[[241, 241, 241],\n",
       "         [241, 241, 241],\n",
       "         [241, 241, 241],\n",
       "         ...,\n",
       "         [240, 240, 240],\n",
       "         [240, 240, 240],\n",
       "         [  2,   2,   2]],\n",
       " \n",
       "        [[241, 241, 241],\n",
       "         [241, 241, 241],\n",
       "         [241, 241, 241],\n",
       "         ...,\n",
       "         [240, 240, 240],\n",
       "         [240, 240, 240],\n",
       "         [  2,   2,   2]],\n",
       " \n",
       "        [[241, 241, 241],\n",
       "         [241, 241, 241],\n",
       "         [241, 241, 241],\n",
       "         ...,\n",
       "         [240, 240, 240],\n",
       "         [240, 240, 240],\n",
       "         [  2,   2,   2]],\n",
       " \n",
       "        ...,\n",
       " \n",
       "        [[241, 241, 241],\n",
       "         [241, 241, 241],\n",
       "         [241, 241, 241],\n",
       "         ...,\n",
       "         [213, 213, 213],\n",
       "         [240, 240, 240],\n",
       "         [  0,   0,   0]],\n",
       " \n",
       "        [[241, 241, 241],\n",
       "         [241, 241, 241],\n",
       "         [241, 241, 241],\n",
       "         ...,\n",
       "         [228, 228, 228],\n",
       "         [218, 218, 218],\n",
       "         [ 37,  37,  37]],\n",
       " \n",
       "        [[  0,   0,   0],\n",
       "         [  0,   0,   0],\n",
       "         [  0,   0,   0],\n",
       "         ...,\n",
       "         [  0,   0,   0],\n",
       "         [  7,   7,   7],\n",
       "         [  0,   0,   0]]], dtype=uint8)\n",
       " orig_shape: (2400, 1935)\n",
       " path: 'C:\\\\Users\\\\Classic\\\\Desktop\\\\pr\\\\2\\\\test\\\\images\\\\265_jpg.rf.175a2d40ceb3acc0f0b5bb64fe8eea55.jpg'\n",
       " probs: None\n",
       " save_dir: 'runs\\\\detect\\\\predict'\n",
       " speed: {'preprocess': 11.861599999974715, 'inference': 133.33160000001953, 'postprocess': 3.0975000008766074},\n",
       " ultralytics.engine.results.Results object with attributes:\n",
       " \n",
       " boxes: ultralytics.engine.results.Boxes object\n",
       " keypoints: None\n",
       " masks: None\n",
       " names: {0: 'Anterior nasal spine', 1: 'Articulare', 2: 'Gnathion', 3: 'Gonion', 4: 'Incision inferius', 5: 'Incision superius', 6: 'Lower lip', 7: 'Menton', 8: 'Nasion', 9: 'Orbitale', 10: 'Pogonion', 11: 'Porion', 12: 'Posterior nasal spine', 13: 'Sella', 14: 'Soft tissue pogonion', 15: 'Subnasale', 16: 'Subspinale', 17: 'Supramentale', 18: 'Upper lip'}\n",
       " obb: None\n",
       " orig_img: array([[[251, 251, 251],\n",
       "         [251, 251, 251],\n",
       "         [251, 251, 251],\n",
       "         ...,\n",
       "         [254, 254, 254],\n",
       "         [249, 249, 249],\n",
       "         [  0,   0,   0]],\n",
       " \n",
       "        [[251, 251, 251],\n",
       "         [251, 251, 251],\n",
       "         [251, 251, 251],\n",
       "         ...,\n",
       "         [254, 254, 254],\n",
       "         [249, 249, 249],\n",
       "         [  0,   0,   0]],\n",
       " \n",
       "        [[251, 251, 251],\n",
       "         [251, 251, 251],\n",
       "         [251, 251, 251],\n",
       "         ...,\n",
       "         [254, 254, 254],\n",
       "         [249, 249, 249],\n",
       "         [  0,   0,   0]],\n",
       " \n",
       "        ...,\n",
       " \n",
       "        [[248, 248, 248],\n",
       "         [248, 248, 248],\n",
       "         [248, 248, 248],\n",
       "         ...,\n",
       "         [223, 223, 223],\n",
       "         [232, 232, 232],\n",
       "         [  0,   0,   0]],\n",
       " \n",
       "        [[252, 252, 252],\n",
       "         [252, 252, 252],\n",
       "         [252, 252, 252],\n",
       "         ...,\n",
       "         [237, 237, 237],\n",
       "         [223, 223, 223],\n",
       "         [ 48,  48,  48]],\n",
       " \n",
       "        [[  0,   0,   0],\n",
       "         [  0,   0,   0],\n",
       "         [  0,   0,   0],\n",
       "         ...,\n",
       "         [  0,   0,   0],\n",
       "         [ 13,  13,  13],\n",
       "         [  0,   0,   0]]], dtype=uint8)\n",
       " orig_shape: (2400, 1935)\n",
       " path: 'C:\\\\Users\\\\Classic\\\\Desktop\\\\pr\\\\2\\\\test\\\\images\\\\266_jpg.rf.74701a56fdc958adc22909c4ad6e544b.jpg'\n",
       " probs: None\n",
       " save_dir: 'runs\\\\detect\\\\predict'\n",
       " speed: {'preprocess': 7.851600001231418, 'inference': 142.0942999993713, 'postprocess': 1.9343000003573252},\n",
       " ultralytics.engine.results.Results object with attributes:\n",
       " \n",
       " boxes: ultralytics.engine.results.Boxes object\n",
       " keypoints: None\n",
       " masks: None\n",
       " names: {0: 'Anterior nasal spine', 1: 'Articulare', 2: 'Gnathion', 3: 'Gonion', 4: 'Incision inferius', 5: 'Incision superius', 6: 'Lower lip', 7: 'Menton', 8: 'Nasion', 9: 'Orbitale', 10: 'Pogonion', 11: 'Porion', 12: 'Posterior nasal spine', 13: 'Sella', 14: 'Soft tissue pogonion', 15: 'Subnasale', 16: 'Subspinale', 17: 'Supramentale', 18: 'Upper lip'}\n",
       " obb: None\n",
       " orig_img: array([[[255, 255, 255],\n",
       "         [255, 255, 255],\n",
       "         [255, 255, 255],\n",
       "         ...,\n",
       "         [255, 255, 255],\n",
       "         [255, 255, 255],\n",
       "         [  0,   0,   0]],\n",
       " \n",
       "        [[255, 255, 255],\n",
       "         [255, 255, 255],\n",
       "         [255, 255, 255],\n",
       "         ...,\n",
       "         [255, 255, 255],\n",
       "         [255, 255, 255],\n",
       "         [  0,   0,   0]],\n",
       " \n",
       "        [[255, 255, 255],\n",
       "         [255, 255, 255],\n",
       "         [255, 255, 255],\n",
       "         ...,\n",
       "         [255, 255, 255],\n",
       "         [255, 255, 255],\n",
       "         [  0,   0,   0]],\n",
       " \n",
       "        ...,\n",
       " \n",
       "        [[252, 252, 252],\n",
       "         [252, 252, 252],\n",
       "         [252, 252, 252],\n",
       "         ...,\n",
       "         [177, 177, 177],\n",
       "         [157, 157, 157],\n",
       "         [ 15,  15,  15]],\n",
       " \n",
       "        [[255, 255, 255],\n",
       "         [255, 255, 255],\n",
       "         [255, 255, 255],\n",
       "         ...,\n",
       "         [166, 166, 166],\n",
       "         [157, 157, 157],\n",
       "         [ 35,  35,  35]],\n",
       " \n",
       "        [[  0,   0,   0],\n",
       "         [  0,   0,   0],\n",
       "         [  0,   0,   0],\n",
       "         ...,\n",
       "         [  0,   0,   0],\n",
       "         [ 29,  29,  29],\n",
       "         [  0,   0,   0]]], dtype=uint8)\n",
       " orig_shape: (2400, 1935)\n",
       " path: 'C:\\\\Users\\\\Classic\\\\Desktop\\\\pr\\\\2\\\\test\\\\images\\\\272_jpg.rf.dda91bc167c9861533142a4415126774.jpg'\n",
       " probs: None\n",
       " save_dir: 'runs\\\\detect\\\\predict'\n",
       " speed: {'preprocess': 12.394399998811423, 'inference': 134.8201999990124, 'postprocess': 3.094499999861},\n",
       " ultralytics.engine.results.Results object with attributes:\n",
       " \n",
       " boxes: ultralytics.engine.results.Boxes object\n",
       " keypoints: None\n",
       " masks: None\n",
       " names: {0: 'Anterior nasal spine', 1: 'Articulare', 2: 'Gnathion', 3: 'Gonion', 4: 'Incision inferius', 5: 'Incision superius', 6: 'Lower lip', 7: 'Menton', 8: 'Nasion', 9: 'Orbitale', 10: 'Pogonion', 11: 'Porion', 12: 'Posterior nasal spine', 13: 'Sella', 14: 'Soft tissue pogonion', 15: 'Subnasale', 16: 'Subspinale', 17: 'Supramentale', 18: 'Upper lip'}\n",
       " obb: None\n",
       " orig_img: array([[[254, 254, 254],\n",
       "         [254, 254, 254],\n",
       "         [254, 254, 254],\n",
       "         ...,\n",
       "         [255, 255, 255],\n",
       "         [251, 251, 251],\n",
       "         [  2,   2,   2]],\n",
       " \n",
       "        [[254, 254, 254],\n",
       "         [254, 254, 254],\n",
       "         [254, 254, 254],\n",
       "         ...,\n",
       "         [255, 255, 255],\n",
       "         [251, 251, 251],\n",
       "         [  2,   2,   2]],\n",
       " \n",
       "        [[254, 254, 254],\n",
       "         [254, 254, 254],\n",
       "         [254, 254, 254],\n",
       "         ...,\n",
       "         [255, 255, 255],\n",
       "         [251, 251, 251],\n",
       "         [  2,   2,   2]],\n",
       " \n",
       "        ...,\n",
       " \n",
       "        [[251, 251, 251],\n",
       "         [251, 251, 251],\n",
       "         [251, 251, 251],\n",
       "         ...,\n",
       "         [203, 203, 203],\n",
       "         [199, 199, 199],\n",
       "         [ 16,  16,  16]],\n",
       " \n",
       "        [[255, 255, 255],\n",
       "         [255, 255, 255],\n",
       "         [255, 255, 255],\n",
       "         ...,\n",
       "         [215, 215, 215],\n",
       "         [187, 187, 187],\n",
       "         [ 40,  40,  40]],\n",
       " \n",
       "        [[  0,   0,   0],\n",
       "         [  0,   0,   0],\n",
       "         [  0,   0,   0],\n",
       "         ...,\n",
       "         [ 12,  12,  12],\n",
       "         [ 11,  11,  11],\n",
       "         [  0,   0,   0]]], dtype=uint8)\n",
       " orig_shape: (2400, 1935)\n",
       " path: 'C:\\\\Users\\\\Classic\\\\Desktop\\\\pr\\\\2\\\\test\\\\images\\\\274_jpg.rf.72f61f90e247054d67231d5a1ddb7f9a.jpg'\n",
       " probs: None\n",
       " save_dir: 'runs\\\\detect\\\\predict'\n",
       " speed: {'preprocess': 11.827700000139885, 'inference': 139.6588999996311, 'postprocess': 2.805300000545685},\n",
       " ultralytics.engine.results.Results object with attributes:\n",
       " \n",
       " boxes: ultralytics.engine.results.Boxes object\n",
       " keypoints: None\n",
       " masks: None\n",
       " names: {0: 'Anterior nasal spine', 1: 'Articulare', 2: 'Gnathion', 3: 'Gonion', 4: 'Incision inferius', 5: 'Incision superius', 6: 'Lower lip', 7: 'Menton', 8: 'Nasion', 9: 'Orbitale', 10: 'Pogonion', 11: 'Porion', 12: 'Posterior nasal spine', 13: 'Sella', 14: 'Soft tissue pogonion', 15: 'Subnasale', 16: 'Subspinale', 17: 'Supramentale', 18: 'Upper lip'}\n",
       " obb: None\n",
       " orig_img: array([[[230, 230, 230],\n",
       "         [230, 230, 230],\n",
       "         [230, 230, 230],\n",
       "         ...,\n",
       "         [230, 230, 230],\n",
       "         [230, 230, 230],\n",
       "         [230, 230, 230]],\n",
       " \n",
       "        [[230, 230, 230],\n",
       "         [230, 230, 230],\n",
       "         [230, 230, 230],\n",
       "         ...,\n",
       "         [230, 230, 230],\n",
       "         [230, 230, 230],\n",
       "         [230, 230, 230]],\n",
       " \n",
       "        [[230, 230, 230],\n",
       "         [230, 230, 230],\n",
       "         [230, 230, 230],\n",
       "         ...,\n",
       "         [230, 230, 230],\n",
       "         [230, 230, 230],\n",
       "         [230, 230, 230]],\n",
       " \n",
       "        ...,\n",
       " \n",
       "        [[228, 228, 228],\n",
       "         [228, 228, 228],\n",
       "         [228, 228, 228],\n",
       "         ...,\n",
       "         [207, 207, 207],\n",
       "         [208, 208, 208],\n",
       "         [208, 208, 208]],\n",
       " \n",
       "        [[229, 229, 229],\n",
       "         [229, 229, 229],\n",
       "         [229, 229, 229],\n",
       "         ...,\n",
       "         [215, 215, 215],\n",
       "         [216, 216, 216],\n",
       "         [216, 216, 216]],\n",
       " \n",
       "        [[  0,   0,   0],\n",
       "         [  0,   0,   0],\n",
       "         [  0,   0,   0],\n",
       "         ...,\n",
       "         [  0,   0,   0],\n",
       "         [  0,   0,   0],\n",
       "         [  0,   0,   0]]], dtype=uint8)\n",
       " orig_shape: (2400, 1935)\n",
       " path: 'C:\\\\Users\\\\Classic\\\\Desktop\\\\pr\\\\2\\\\test\\\\images\\\\291_jpg.rf.0727777ca59790a16ba9fa6b14b122c3.jpg'\n",
       " probs: None\n",
       " save_dir: 'runs\\\\detect\\\\predict'\n",
       " speed: {'preprocess': 12.294000000110827, 'inference': 135.88010000057693, 'postprocess': 3.0716000001120847},\n",
       " ultralytics.engine.results.Results object with attributes:\n",
       " \n",
       " boxes: ultralytics.engine.results.Boxes object\n",
       " keypoints: None\n",
       " masks: None\n",
       " names: {0: 'Anterior nasal spine', 1: 'Articulare', 2: 'Gnathion', 3: 'Gonion', 4: 'Incision inferius', 5: 'Incision superius', 6: 'Lower lip', 7: 'Menton', 8: 'Nasion', 9: 'Orbitale', 10: 'Pogonion', 11: 'Porion', 12: 'Posterior nasal spine', 13: 'Sella', 14: 'Soft tissue pogonion', 15: 'Subnasale', 16: 'Subspinale', 17: 'Supramentale', 18: 'Upper lip'}\n",
       " obb: None\n",
       " orig_img: array([[[253, 253, 253],\n",
       "         [253, 253, 253],\n",
       "         [253, 253, 253],\n",
       "         ...,\n",
       "         [254, 254, 254],\n",
       "         [254, 254, 254],\n",
       "         [254, 254, 254]],\n",
       " \n",
       "        [[253, 253, 253],\n",
       "         [253, 253, 253],\n",
       "         [253, 253, 253],\n",
       "         ...,\n",
       "         [254, 254, 254],\n",
       "         [254, 254, 254],\n",
       "         [254, 254, 254]],\n",
       " \n",
       "        [[253, 253, 253],\n",
       "         [253, 253, 253],\n",
       "         [253, 253, 253],\n",
       "         ...,\n",
       "         [254, 254, 254],\n",
       "         [254, 254, 254],\n",
       "         [254, 254, 254]],\n",
       " \n",
       "        ...,\n",
       " \n",
       "        [[251, 251, 251],\n",
       "         [251, 251, 251],\n",
       "         [251, 251, 251],\n",
       "         ...,\n",
       "         [112, 112, 112],\n",
       "         [112, 112, 112],\n",
       "         [112, 112, 112]],\n",
       " \n",
       "        [[255, 255, 255],\n",
       "         [255, 255, 255],\n",
       "         [255, 255, 255],\n",
       "         ...,\n",
       "         [118, 118, 118],\n",
       "         [118, 118, 118],\n",
       "         [119, 119, 119]],\n",
       " \n",
       "        [[  0,   0,   0],\n",
       "         [  0,   0,   0],\n",
       "         [  0,   0,   0],\n",
       "         ...,\n",
       "         [  0,   0,   0],\n",
       "         [  0,   0,   0],\n",
       "         [  0,   0,   0]]], dtype=uint8)\n",
       " orig_shape: (2400, 1935)\n",
       " path: 'C:\\\\Users\\\\Classic\\\\Desktop\\\\pr\\\\2\\\\test\\\\images\\\\295_jpg.rf.1ec4aa0c3c3689d4ad5e4637c7012ba9.jpg'\n",
       " probs: None\n",
       " save_dir: 'runs\\\\detect\\\\predict'\n",
       " speed: {'preprocess': 12.524899999334593, 'inference': 137.06869999987248, 'postprocess': 3.0036000007385155},\n",
       " ultralytics.engine.results.Results object with attributes:\n",
       " \n",
       " boxes: ultralytics.engine.results.Boxes object\n",
       " keypoints: None\n",
       " masks: None\n",
       " names: {0: 'Anterior nasal spine', 1: 'Articulare', 2: 'Gnathion', 3: 'Gonion', 4: 'Incision inferius', 5: 'Incision superius', 6: 'Lower lip', 7: 'Menton', 8: 'Nasion', 9: 'Orbitale', 10: 'Pogonion', 11: 'Porion', 12: 'Posterior nasal spine', 13: 'Sella', 14: 'Soft tissue pogonion', 15: 'Subnasale', 16: 'Subspinale', 17: 'Supramentale', 18: 'Upper lip'}\n",
       " obb: None\n",
       " orig_img: array([[[255, 255, 255],\n",
       "         [255, 255, 255],\n",
       "         [255, 255, 255],\n",
       "         ...,\n",
       "         [255, 255, 255],\n",
       "         [255, 255, 255],\n",
       "         [  0,   0,   0]],\n",
       " \n",
       "        [[255, 255, 255],\n",
       "         [255, 255, 255],\n",
       "         [255, 255, 255],\n",
       "         ...,\n",
       "         [255, 255, 255],\n",
       "         [255, 255, 255],\n",
       "         [  0,   0,   0]],\n",
       " \n",
       "        [[255, 255, 255],\n",
       "         [255, 255, 255],\n",
       "         [255, 255, 255],\n",
       "         ...,\n",
       "         [255, 255, 255],\n",
       "         [255, 255, 255],\n",
       "         [  0,   0,   0]],\n",
       " \n",
       "        ...,\n",
       " \n",
       "        [[252, 252, 252],\n",
       "         [252, 252, 252],\n",
       "         [252, 252, 252],\n",
       "         ...,\n",
       "         [245, 245, 245],\n",
       "         [241, 241, 241],\n",
       "         [  8,   8,   8]],\n",
       " \n",
       "        [[255, 255, 255],\n",
       "         [255, 255, 255],\n",
       "         [255, 255, 255],\n",
       "         ...,\n",
       "         [253, 253, 253],\n",
       "         [226, 226, 226],\n",
       "         [ 58,  58,  58]],\n",
       " \n",
       "        [[  0,   0,   0],\n",
       "         [  0,   0,   0],\n",
       "         [  0,   0,   0],\n",
       "         ...,\n",
       "         [  5,   5,   5],\n",
       "         [  7,   7,   7],\n",
       "         [  0,   0,   0]]], dtype=uint8)\n",
       " orig_shape: (2400, 1935)\n",
       " path: 'C:\\\\Users\\\\Classic\\\\Desktop\\\\pr\\\\2\\\\test\\\\images\\\\311_jpg.rf.102b96f03d058e922361647890c0944e.jpg'\n",
       " probs: None\n",
       " save_dir: 'runs\\\\detect\\\\predict'\n",
       " speed: {'preprocess': 12.430300001142314, 'inference': 136.96789999994508, 'postprocess': 3.82279999939783},\n",
       " ultralytics.engine.results.Results object with attributes:\n",
       " \n",
       " boxes: ultralytics.engine.results.Boxes object\n",
       " keypoints: None\n",
       " masks: None\n",
       " names: {0: 'Anterior nasal spine', 1: 'Articulare', 2: 'Gnathion', 3: 'Gonion', 4: 'Incision inferius', 5: 'Incision superius', 6: 'Lower lip', 7: 'Menton', 8: 'Nasion', 9: 'Orbitale', 10: 'Pogonion', 11: 'Porion', 12: 'Posterior nasal spine', 13: 'Sella', 14: 'Soft tissue pogonion', 15: 'Subnasale', 16: 'Subspinale', 17: 'Supramentale', 18: 'Upper lip'}\n",
       " obb: None\n",
       " orig_img: array([[[ 13,  13,  13],\n",
       "         [ 17,  17,  17],\n",
       "         [ 20,  20,  20],\n",
       "         ...,\n",
       "         [249, 249, 249],\n",
       "         [245, 245, 245],\n",
       "         [  3,   3,   3]],\n",
       " \n",
       "        [[ 13,  13,  13],\n",
       "         [ 15,  15,  15],\n",
       "         [ 17,  17,  17],\n",
       "         ...,\n",
       "         [249, 249, 249],\n",
       "         [245, 245, 245],\n",
       "         [  3,   3,   3]],\n",
       " \n",
       "        [[ 12,  12,  12],\n",
       "         [ 12,  12,  12],\n",
       "         [ 12,  12,  12],\n",
       "         ...,\n",
       "         [249, 249, 249],\n",
       "         [245, 245, 245],\n",
       "         [  3,   3,   3]],\n",
       " \n",
       "        ...,\n",
       " \n",
       "        [[250, 250, 250],\n",
       "         [250, 250, 250],\n",
       "         [250, 250, 250],\n",
       "         ...,\n",
       "         [233, 233, 233],\n",
       "         [250, 250, 250],\n",
       "         [  0,   0,   0]],\n",
       " \n",
       "        [[247, 247, 247],\n",
       "         [247, 247, 247],\n",
       "         [247, 247, 247],\n",
       "         ...,\n",
       "         [249, 249, 249],\n",
       "         [230, 230, 230],\n",
       "         [ 49,  49,  49]],\n",
       " \n",
       "        [[  1,   1,   1],\n",
       "         [  1,   1,   1],\n",
       "         [  1,   1,   1],\n",
       "         ...,\n",
       "         [ 11,  11,  11],\n",
       "         [  6,   6,   6],\n",
       "         [  0,   0,   0]]], dtype=uint8)\n",
       " orig_shape: (2400, 1935)\n",
       " path: 'C:\\\\Users\\\\Classic\\\\Desktop\\\\pr\\\\2\\\\test\\\\images\\\\318_jpg.rf.2c06f4f5b50c0d10df39282beabf8889.jpg'\n",
       " probs: None\n",
       " save_dir: 'runs\\\\detect\\\\predict'\n",
       " speed: {'preprocess': 12.119999999413267, 'inference': 136.79809999848658, 'postprocess': 2.0320000003266614},\n",
       " ultralytics.engine.results.Results object with attributes:\n",
       " \n",
       " boxes: ultralytics.engine.results.Boxes object\n",
       " keypoints: None\n",
       " masks: None\n",
       " names: {0: 'Anterior nasal spine', 1: 'Articulare', 2: 'Gnathion', 3: 'Gonion', 4: 'Incision inferius', 5: 'Incision superius', 6: 'Lower lip', 7: 'Menton', 8: 'Nasion', 9: 'Orbitale', 10: 'Pogonion', 11: 'Porion', 12: 'Posterior nasal spine', 13: 'Sella', 14: 'Soft tissue pogonion', 15: 'Subnasale', 16: 'Subspinale', 17: 'Supramentale', 18: 'Upper lip'}\n",
       " obb: None\n",
       " orig_img: array([[[254, 254, 254],\n",
       "         [254, 254, 254],\n",
       "         [254, 254, 254],\n",
       "         ...,\n",
       "         [255, 255, 255],\n",
       "         [255, 255, 255],\n",
       "         [  0,   0,   0]],\n",
       " \n",
       "        [[254, 254, 254],\n",
       "         [254, 254, 254],\n",
       "         [254, 254, 254],\n",
       "         ...,\n",
       "         [255, 255, 255],\n",
       "         [255, 255, 255],\n",
       "         [  0,   0,   0]],\n",
       " \n",
       "        [[254, 254, 254],\n",
       "         [254, 254, 254],\n",
       "         [254, 254, 254],\n",
       "         ...,\n",
       "         [255, 255, 255],\n",
       "         [255, 255, 255],\n",
       "         [  0,   0,   0]],\n",
       " \n",
       "        ...,\n",
       " \n",
       "        [[252, 252, 252],\n",
       "         [252, 252, 252],\n",
       "         [252, 252, 252],\n",
       "         ...,\n",
       "         [234, 234, 234],\n",
       "         [236, 236, 236],\n",
       "         [  7,   7,   7]],\n",
       " \n",
       "        [[255, 255, 255],\n",
       "         [255, 255, 255],\n",
       "         [255, 255, 255],\n",
       "         ...,\n",
       "         [238, 238, 238],\n",
       "         [217, 217, 217],\n",
       "         [ 52,  52,  52]],\n",
       " \n",
       "        [[  0,   0,   0],\n",
       "         [  0,   0,   0],\n",
       "         [  0,   0,   0],\n",
       "         ...,\n",
       "         [  2,   2,   2],\n",
       "         [  5,   5,   5],\n",
       "         [  0,   0,   0]]], dtype=uint8)\n",
       " orig_shape: (2400, 1935)\n",
       " path: 'C:\\\\Users\\\\Classic\\\\Desktop\\\\pr\\\\2\\\\test\\\\images\\\\326_jpg.rf.6cdcc9668195d783129ad87bdde6eb46.jpg'\n",
       " probs: None\n",
       " save_dir: 'runs\\\\detect\\\\predict'\n",
       " speed: {'preprocess': 12.416100000336883, 'inference': 138.34440000027826, 'postprocess': 2.2078999991208548},\n",
       " ultralytics.engine.results.Results object with attributes:\n",
       " \n",
       " boxes: ultralytics.engine.results.Boxes object\n",
       " keypoints: None\n",
       " masks: None\n",
       " names: {0: 'Anterior nasal spine', 1: 'Articulare', 2: 'Gnathion', 3: 'Gonion', 4: 'Incision inferius', 5: 'Incision superius', 6: 'Lower lip', 7: 'Menton', 8: 'Nasion', 9: 'Orbitale', 10: 'Pogonion', 11: 'Porion', 12: 'Posterior nasal spine', 13: 'Sella', 14: 'Soft tissue pogonion', 15: 'Subnasale', 16: 'Subspinale', 17: 'Supramentale', 18: 'Upper lip'}\n",
       " obb: None\n",
       " orig_img: array([[[255, 255, 255],\n",
       "         [255, 255, 255],\n",
       "         [255, 255, 255],\n",
       "         ...,\n",
       "         [255, 255, 255],\n",
       "         [255, 255, 255],\n",
       "         [  0,   0,   0]],\n",
       " \n",
       "        [[255, 255, 255],\n",
       "         [255, 255, 255],\n",
       "         [255, 255, 255],\n",
       "         ...,\n",
       "         [255, 255, 255],\n",
       "         [255, 255, 255],\n",
       "         [  0,   0,   0]],\n",
       " \n",
       "        [[255, 255, 255],\n",
       "         [255, 255, 255],\n",
       "         [255, 255, 255],\n",
       "         ...,\n",
       "         [255, 255, 255],\n",
       "         [255, 255, 255],\n",
       "         [  0,   0,   0]],\n",
       " \n",
       "        ...,\n",
       " \n",
       "        [[252, 252, 252],\n",
       "         [252, 252, 252],\n",
       "         [252, 252, 252],\n",
       "         ...,\n",
       "         [233, 233, 233],\n",
       "         [244, 244, 244],\n",
       "         [  1,   1,   1]],\n",
       " \n",
       "        [[255, 255, 255],\n",
       "         [255, 255, 255],\n",
       "         [255, 255, 255],\n",
       "         ...,\n",
       "         [251, 251, 251],\n",
       "         [226, 226, 226],\n",
       "         [ 54,  54,  54]],\n",
       " \n",
       "        [[  0,   0,   0],\n",
       "         [  0,   0,   0],\n",
       "         [  0,   0,   0],\n",
       "         ...,\n",
       "         [ 14,  14,  14],\n",
       "         [  2,   2,   2],\n",
       "         [  0,   0,   0]]], dtype=uint8)\n",
       " orig_shape: (2400, 1935)\n",
       " path: 'C:\\\\Users\\\\Classic\\\\Desktop\\\\pr\\\\2\\\\test\\\\images\\\\331_jpg.rf.efb5ef74c346e56bc48eb242b993180e.jpg'\n",
       " probs: None\n",
       " save_dir: 'runs\\\\detect\\\\predict'\n",
       " speed: {'preprocess': 10.888799999520415, 'inference': 138.8124000004609, 'postprocess': 3.0466999996860977},\n",
       " ultralytics.engine.results.Results object with attributes:\n",
       " \n",
       " boxes: ultralytics.engine.results.Boxes object\n",
       " keypoints: None\n",
       " masks: None\n",
       " names: {0: 'Anterior nasal spine', 1: 'Articulare', 2: 'Gnathion', 3: 'Gonion', 4: 'Incision inferius', 5: 'Incision superius', 6: 'Lower lip', 7: 'Menton', 8: 'Nasion', 9: 'Orbitale', 10: 'Pogonion', 11: 'Porion', 12: 'Posterior nasal spine', 13: 'Sella', 14: 'Soft tissue pogonion', 15: 'Subnasale', 16: 'Subspinale', 17: 'Supramentale', 18: 'Upper lip'}\n",
       " obb: None\n",
       " orig_img: array([[[ 31,  31,  31],\n",
       "         [ 31,  31,  31],\n",
       "         [ 31,  31,  31],\n",
       "         ...,\n",
       "         [239, 239, 239],\n",
       "         [240, 240, 240],\n",
       "         [  2,   2,   2]],\n",
       " \n",
       "        [[ 31,  31,  31],\n",
       "         [ 31,  31,  31],\n",
       "         [ 30,  30,  30],\n",
       "         ...,\n",
       "         [239, 239, 239],\n",
       "         [240, 240, 240],\n",
       "         [  2,   2,   2]],\n",
       " \n",
       "        [[ 30,  30,  30],\n",
       "         [ 30,  30,  30],\n",
       "         [ 30,  30,  30],\n",
       "         ...,\n",
       "         [239, 239, 239],\n",
       "         [240, 240, 240],\n",
       "         [  2,   2,   2]],\n",
       " \n",
       "        ...,\n",
       " \n",
       "        [[239, 239, 239],\n",
       "         [239, 239, 239],\n",
       "         [239, 239, 239],\n",
       "         ...,\n",
       "         [236, 236, 236],\n",
       "         [236, 236, 236],\n",
       "         [  5,   5,   5]],\n",
       " \n",
       "        [[240, 240, 240],\n",
       "         [240, 240, 240],\n",
       "         [240, 240, 240],\n",
       "         ...,\n",
       "         [247, 247, 247],\n",
       "         [222, 222, 222],\n",
       "         [ 55,  55,  55]],\n",
       " \n",
       "        [[  0,   0,   0],\n",
       "         [  0,   0,   0],\n",
       "         [  0,   0,   0],\n",
       "         ...,\n",
       "         [  2,   2,   2],\n",
       "         [  5,   5,   5],\n",
       "         [  0,   0,   0]]], dtype=uint8)\n",
       " orig_shape: (2400, 1935)\n",
       " path: 'C:\\\\Users\\\\Classic\\\\Desktop\\\\pr\\\\2\\\\test\\\\images\\\\337_jpg.rf.0fef6097d3ee6fb56da0eeaac2a58d25.jpg'\n",
       " probs: None\n",
       " save_dir: 'runs\\\\detect\\\\predict'\n",
       " speed: {'preprocess': 12.543500000901986, 'inference': 134.46980000117037, 'postprocess': 1.861000000644708},\n",
       " ultralytics.engine.results.Results object with attributes:\n",
       " \n",
       " boxes: ultralytics.engine.results.Boxes object\n",
       " keypoints: None\n",
       " masks: None\n",
       " names: {0: 'Anterior nasal spine', 1: 'Articulare', 2: 'Gnathion', 3: 'Gonion', 4: 'Incision inferius', 5: 'Incision superius', 6: 'Lower lip', 7: 'Menton', 8: 'Nasion', 9: 'Orbitale', 10: 'Pogonion', 11: 'Porion', 12: 'Posterior nasal spine', 13: 'Sella', 14: 'Soft tissue pogonion', 15: 'Subnasale', 16: 'Subspinale', 17: 'Supramentale', 18: 'Upper lip'}\n",
       " obb: None\n",
       " orig_img: array([[[255, 255, 255],\n",
       "         [255, 255, 255],\n",
       "         [255, 255, 255],\n",
       "         ...,\n",
       "         [255, 255, 255],\n",
       "         [255, 255, 255],\n",
       "         [  0,   0,   0]],\n",
       " \n",
       "        [[255, 255, 255],\n",
       "         [255, 255, 255],\n",
       "         [255, 255, 255],\n",
       "         ...,\n",
       "         [255, 255, 255],\n",
       "         [255, 255, 255],\n",
       "         [  0,   0,   0]],\n",
       " \n",
       "        [[255, 255, 255],\n",
       "         [255, 255, 255],\n",
       "         [255, 255, 255],\n",
       "         ...,\n",
       "         [255, 255, 255],\n",
       "         [255, 255, 255],\n",
       "         [  0,   0,   0]],\n",
       " \n",
       "        ...,\n",
       " \n",
       "        [[252, 252, 252],\n",
       "         [252, 252, 252],\n",
       "         [252, 252, 252],\n",
       "         ...,\n",
       "         [229, 229, 229],\n",
       "         [231, 231, 231],\n",
       "         [  2,   2,   2]],\n",
       " \n",
       "        [[255, 255, 255],\n",
       "         [255, 255, 255],\n",
       "         [255, 255, 255],\n",
       "         ...,\n",
       "         [238, 238, 238],\n",
       "         [210, 210, 210],\n",
       "         [ 51,  51,  51]],\n",
       " \n",
       "        [[  0,   0,   0],\n",
       "         [  0,   0,   0],\n",
       "         [  0,   0,   0],\n",
       "         ...,\n",
       "         [  3,   3,   3],\n",
       "         [  8,   8,   8],\n",
       "         [  0,   0,   0]]], dtype=uint8)\n",
       " orig_shape: (2400, 1935)\n",
       " path: 'C:\\\\Users\\\\Classic\\\\Desktop\\\\pr\\\\2\\\\test\\\\images\\\\338_jpg.rf.16ed04058323510cc4831d626933b2e5.jpg'\n",
       " probs: None\n",
       " save_dir: 'runs\\\\detect\\\\predict'\n",
       " speed: {'preprocess': 12.705000001005828, 'inference': 135.95910000003641, 'postprocess': 1.842699999542674},\n",
       " ultralytics.engine.results.Results object with attributes:\n",
       " \n",
       " boxes: ultralytics.engine.results.Boxes object\n",
       " keypoints: None\n",
       " masks: None\n",
       " names: {0: 'Anterior nasal spine', 1: 'Articulare', 2: 'Gnathion', 3: 'Gonion', 4: 'Incision inferius', 5: 'Incision superius', 6: 'Lower lip', 7: 'Menton', 8: 'Nasion', 9: 'Orbitale', 10: 'Pogonion', 11: 'Porion', 12: 'Posterior nasal spine', 13: 'Sella', 14: 'Soft tissue pogonion', 15: 'Subnasale', 16: 'Subspinale', 17: 'Supramentale', 18: 'Upper lip'}\n",
       " obb: None\n",
       " orig_img: array([[[ 63,  63,  63],\n",
       "         [ 64,  64,  64],\n",
       "         [ 64,  64,  64],\n",
       "         ...,\n",
       "         [207, 207, 207],\n",
       "         [204, 204, 204],\n",
       "         [  4,   4,   4]],\n",
       " \n",
       "        [[ 59,  59,  59],\n",
       "         [ 61,  61,  61],\n",
       "         [ 62,  62,  62],\n",
       "         ...,\n",
       "         [207, 207, 207],\n",
       "         [204, 204, 204],\n",
       "         [  4,   4,   4]],\n",
       " \n",
       "        [[ 55,  55,  55],\n",
       "         [ 57,  57,  57],\n",
       "         [ 60,  60,  60],\n",
       "         ...,\n",
       "         [207, 207, 207],\n",
       "         [204, 204, 204],\n",
       "         [  4,   4,   4]],\n",
       " \n",
       "        ...,\n",
       " \n",
       "        [[206, 206, 206],\n",
       "         [206, 206, 206],\n",
       "         [206, 206, 206],\n",
       "         ...,\n",
       "         [208, 208, 208],\n",
       "         [201, 201, 201],\n",
       "         [ 22,  22,  22]],\n",
       " \n",
       "        [[204, 204, 204],\n",
       "         [204, 204, 204],\n",
       "         [204, 204, 204],\n",
       "         ...,\n",
       "         [202, 202, 202],\n",
       "         [184, 184, 184],\n",
       "         [ 53,  53,  53]],\n",
       " \n",
       "        [[  0,   0,   0],\n",
       "         [  0,   0,   0],\n",
       "         [  0,   0,   0],\n",
       "         ...,\n",
       "         [  0,   0,   0],\n",
       "         [  9,   9,   9],\n",
       "         [  0,   0,   0]]], dtype=uint8)\n",
       " orig_shape: (2400, 1935)\n",
       " path: 'C:\\\\Users\\\\Classic\\\\Desktop\\\\pr\\\\2\\\\test\\\\images\\\\346_jpg.rf.d736e74e7515009a2c77ca0417cf4eb0.jpg'\n",
       " probs: None\n",
       " save_dir: 'runs\\\\detect\\\\predict'\n",
       " speed: {'preprocess': 11.995200000455952, 'inference': 138.82329999978538, 'postprocess': 3.333799999381881},\n",
       " ultralytics.engine.results.Results object with attributes:\n",
       " \n",
       " boxes: ultralytics.engine.results.Boxes object\n",
       " keypoints: None\n",
       " masks: None\n",
       " names: {0: 'Anterior nasal spine', 1: 'Articulare', 2: 'Gnathion', 3: 'Gonion', 4: 'Incision inferius', 5: 'Incision superius', 6: 'Lower lip', 7: 'Menton', 8: 'Nasion', 9: 'Orbitale', 10: 'Pogonion', 11: 'Porion', 12: 'Posterior nasal spine', 13: 'Sella', 14: 'Soft tissue pogonion', 15: 'Subnasale', 16: 'Subspinale', 17: 'Supramentale', 18: 'Upper lip'}\n",
       " obb: None\n",
       " orig_img: array([[[255, 255, 255],\n",
       "         [255, 255, 255],\n",
       "         [255, 255, 255],\n",
       "         ...,\n",
       "         [255, 255, 255],\n",
       "         [255, 255, 255],\n",
       "         [  0,   0,   0]],\n",
       " \n",
       "        [[255, 255, 255],\n",
       "         [255, 255, 255],\n",
       "         [255, 255, 255],\n",
       "         ...,\n",
       "         [255, 255, 255],\n",
       "         [255, 255, 255],\n",
       "         [  0,   0,   0]],\n",
       " \n",
       "        [[255, 255, 255],\n",
       "         [255, 255, 255],\n",
       "         [255, 255, 255],\n",
       "         ...,\n",
       "         [255, 255, 255],\n",
       "         [255, 255, 255],\n",
       "         [  0,   0,   0]],\n",
       " \n",
       "        ...,\n",
       " \n",
       "        [[252, 252, 252],\n",
       "         [252, 252, 252],\n",
       "         [252, 252, 252],\n",
       "         ...,\n",
       "         [163, 163, 163],\n",
       "         [162, 162, 162],\n",
       "         [  7,   7,   7]],\n",
       " \n",
       "        [[255, 255, 255],\n",
       "         [255, 255, 255],\n",
       "         [255, 255, 255],\n",
       "         ...,\n",
       "         [168, 168, 168],\n",
       "         [167, 167, 167],\n",
       "         [ 33,  33,  33]],\n",
       " \n",
       "        [[  0,   0,   0],\n",
       "         [  0,   0,   0],\n",
       "         [  0,   0,   0],\n",
       "         ...,\n",
       "         [  0,   0,   0],\n",
       "         [ 23,  23,  23],\n",
       "         [  0,   0,   0]]], dtype=uint8)\n",
       " orig_shape: (2400, 1935)\n",
       " path: 'C:\\\\Users\\\\Classic\\\\Desktop\\\\pr\\\\2\\\\test\\\\images\\\\355_jpg.rf.06ecd279962eca1ffd462b92df0f5425.jpg'\n",
       " probs: None\n",
       " save_dir: 'runs\\\\detect\\\\predict'\n",
       " speed: {'preprocess': 8.39540000015404, 'inference': 121.99260000124923, 'postprocess': 2.0631000006687827},\n",
       " ultralytics.engine.results.Results object with attributes:\n",
       " \n",
       " boxes: ultralytics.engine.results.Boxes object\n",
       " keypoints: None\n",
       " masks: None\n",
       " names: {0: 'Anterior nasal spine', 1: 'Articulare', 2: 'Gnathion', 3: 'Gonion', 4: 'Incision inferius', 5: 'Incision superius', 6: 'Lower lip', 7: 'Menton', 8: 'Nasion', 9: 'Orbitale', 10: 'Pogonion', 11: 'Porion', 12: 'Posterior nasal spine', 13: 'Sella', 14: 'Soft tissue pogonion', 15: 'Subnasale', 16: 'Subspinale', 17: 'Supramentale', 18: 'Upper lip'}\n",
       " obb: None\n",
       " orig_img: array([[[ 19,  19,  19],\n",
       "         [ 19,  19,  19],\n",
       "         [ 19,  19,  19],\n",
       "         ...,\n",
       "         [255, 255, 255],\n",
       "         [251, 251, 251],\n",
       "         [  2,   2,   2]],\n",
       " \n",
       "        [[ 18,  18,  18],\n",
       "         [ 18,  18,  18],\n",
       "         [ 18,  18,  18],\n",
       "         ...,\n",
       "         [255, 255, 255],\n",
       "         [251, 251, 251],\n",
       "         [  2,   2,   2]],\n",
       " \n",
       "        [[ 17,  17,  17],\n",
       "         [ 17,  17,  17],\n",
       "         [ 16,  16,  16],\n",
       "         ...,\n",
       "         [255, 255, 255],\n",
       "         [251, 251, 251],\n",
       "         [  2,   2,   2]],\n",
       " \n",
       "        ...,\n",
       " \n",
       "        [[251, 251, 251],\n",
       "         [251, 251, 251],\n",
       "         [251, 251, 251],\n",
       "         ...,\n",
       "         [239, 239, 239],\n",
       "         [255, 255, 255],\n",
       "         [  0,   0,   0]],\n",
       " \n",
       "        [[255, 255, 255],\n",
       "         [255, 255, 255],\n",
       "         [255, 255, 255],\n",
       "         ...,\n",
       "         [249, 249, 249],\n",
       "         [229, 229, 229],\n",
       "         [ 51,  51,  51]],\n",
       " \n",
       "        [[  0,   0,   0],\n",
       "         [  0,   0,   0],\n",
       "         [  0,   0,   0],\n",
       "         ...,\n",
       "         [ 17,  17,  17],\n",
       "         [ 17,  17,  17],\n",
       "         [  0,   0,   0]]], dtype=uint8)\n",
       " orig_shape: (2400, 1935)\n",
       " path: 'C:\\\\Users\\\\Classic\\\\Desktop\\\\pr\\\\2\\\\test\\\\images\\\\379_jpg.rf.b2b488c5f15555eddda859a61c99c5fa.jpg'\n",
       " probs: None\n",
       " save_dir: 'runs\\\\detect\\\\predict'\n",
       " speed: {'preprocess': 10.554599999522907, 'inference': 121.2415999998484, 'postprocess': 2.5372000000061234},\n",
       " ultralytics.engine.results.Results object with attributes:\n",
       " \n",
       " boxes: ultralytics.engine.results.Boxes object\n",
       " keypoints: None\n",
       " masks: None\n",
       " names: {0: 'Anterior nasal spine', 1: 'Articulare', 2: 'Gnathion', 3: 'Gonion', 4: 'Incision inferius', 5: 'Incision superius', 6: 'Lower lip', 7: 'Menton', 8: 'Nasion', 9: 'Orbitale', 10: 'Pogonion', 11: 'Porion', 12: 'Posterior nasal spine', 13: 'Sella', 14: 'Soft tissue pogonion', 15: 'Subnasale', 16: 'Subspinale', 17: 'Supramentale', 18: 'Upper lip'}\n",
       " obb: None\n",
       " orig_img: array([[[ 56,  56,  56],\n",
       "         [ 55,  55,  55],\n",
       "         [ 54,  54,  54],\n",
       "         ...,\n",
       "         [255, 255, 255],\n",
       "         [255, 255, 255],\n",
       "         [  0,   0,   0]],\n",
       " \n",
       "        [[ 55,  55,  55],\n",
       "         [ 55,  55,  55],\n",
       "         [ 54,  54,  54],\n",
       "         ...,\n",
       "         [255, 255, 255],\n",
       "         [255, 255, 255],\n",
       "         [  0,   0,   0]],\n",
       " \n",
       "        [[ 54,  54,  54],\n",
       "         [ 54,  54,  54],\n",
       "         [ 54,  54,  54],\n",
       "         ...,\n",
       "         [255, 255, 255],\n",
       "         [255, 255, 255],\n",
       "         [  0,   0,   0]],\n",
       " \n",
       "        ...,\n",
       " \n",
       "        [[252, 252, 252],\n",
       "         [252, 252, 252],\n",
       "         [252, 252, 252],\n",
       "         ...,\n",
       "         [246, 246, 246],\n",
       "         [255, 255, 255],\n",
       "         [  0,   0,   0]],\n",
       " \n",
       "        [[255, 255, 255],\n",
       "         [255, 255, 255],\n",
       "         [255, 255, 255],\n",
       "         ...,\n",
       "         [254, 254, 254],\n",
       "         [233, 233, 233],\n",
       "         [ 45,  45,  45]],\n",
       " \n",
       "        [[  0,   0,   0],\n",
       "         [  0,   0,   0],\n",
       "         [  0,   0,   0],\n",
       "         ...,\n",
       "         [ 20,  20,  20],\n",
       "         [ 15,  15,  15],\n",
       "         [  0,   0,   0]]], dtype=uint8)\n",
       " orig_shape: (2400, 1935)\n",
       " path: 'C:\\\\Users\\\\Classic\\\\Desktop\\\\pr\\\\2\\\\test\\\\images\\\\380_jpg.rf.298f6f53f64dbbb923d37235c2707046.jpg'\n",
       " probs: None\n",
       " save_dir: 'runs\\\\detect\\\\predict'\n",
       " speed: {'preprocess': 8.003900000403519, 'inference': 143.72539999931178, 'postprocess': 4.187299999102834},\n",
       " ultralytics.engine.results.Results object with attributes:\n",
       " \n",
       " boxes: ultralytics.engine.results.Boxes object\n",
       " keypoints: None\n",
       " masks: None\n",
       " names: {0: 'Anterior nasal spine', 1: 'Articulare', 2: 'Gnathion', 3: 'Gonion', 4: 'Incision inferius', 5: 'Incision superius', 6: 'Lower lip', 7: 'Menton', 8: 'Nasion', 9: 'Orbitale', 10: 'Pogonion', 11: 'Porion', 12: 'Posterior nasal spine', 13: 'Sella', 14: 'Soft tissue pogonion', 15: 'Subnasale', 16: 'Subspinale', 17: 'Supramentale', 18: 'Upper lip'}\n",
       " obb: None\n",
       " orig_img: array([[[254, 254, 254],\n",
       "         [254, 254, 254],\n",
       "         [254, 254, 254],\n",
       "         ...,\n",
       "         [255, 255, 255],\n",
       "         [251, 251, 251],\n",
       "         [  2,   2,   2]],\n",
       " \n",
       "        [[254, 254, 254],\n",
       "         [254, 254, 254],\n",
       "         [254, 254, 254],\n",
       "         ...,\n",
       "         [255, 255, 255],\n",
       "         [251, 251, 251],\n",
       "         [  2,   2,   2]],\n",
       " \n",
       "        [[254, 254, 254],\n",
       "         [254, 254, 254],\n",
       "         [254, 254, 254],\n",
       "         ...,\n",
       "         [255, 255, 255],\n",
       "         [251, 251, 251],\n",
       "         [  2,   2,   2]],\n",
       " \n",
       "        ...,\n",
       " \n",
       "        [[251, 251, 251],\n",
       "         [251, 251, 251],\n",
       "         [251, 251, 251],\n",
       "         ...,\n",
       "         [229, 229, 229],\n",
       "         [232, 232, 232],\n",
       "         [  5,   5,   5]],\n",
       " \n",
       "        [[255, 255, 255],\n",
       "         [255, 255, 255],\n",
       "         [255, 255, 255],\n",
       "         ...,\n",
       "         [236, 236, 236],\n",
       "         [215, 215, 215],\n",
       "         [ 51,  51,  51]],\n",
       " \n",
       "        [[  0,   0,   0],\n",
       "         [  0,   0,   0],\n",
       "         [  0,   0,   0],\n",
       "         ...,\n",
       "         [  6,   6,   6],\n",
       "         [  9,   9,   9],\n",
       "         [  0,   0,   0]]], dtype=uint8)\n",
       " orig_shape: (2400, 1935)\n",
       " path: 'C:\\\\Users\\\\Classic\\\\Desktop\\\\pr\\\\2\\\\test\\\\images\\\\391_jpg.rf.2b199372fb82fce527cad1fd6d1bff8e.jpg'\n",
       " probs: None\n",
       " save_dir: 'runs\\\\detect\\\\predict'\n",
       " speed: {'preprocess': 9.611799998310744, 'inference': 125.46800000018266, 'postprocess': 2.053399999567773},\n",
       " ultralytics.engine.results.Results object with attributes:\n",
       " \n",
       " boxes: ultralytics.engine.results.Boxes object\n",
       " keypoints: None\n",
       " masks: None\n",
       " names: {0: 'Anterior nasal spine', 1: 'Articulare', 2: 'Gnathion', 3: 'Gonion', 4: 'Incision inferius', 5: 'Incision superius', 6: 'Lower lip', 7: 'Menton', 8: 'Nasion', 9: 'Orbitale', 10: 'Pogonion', 11: 'Porion', 12: 'Posterior nasal spine', 13: 'Sella', 14: 'Soft tissue pogonion', 15: 'Subnasale', 16: 'Subspinale', 17: 'Supramentale', 18: 'Upper lip'}\n",
       " obb: None\n",
       " orig_img: array([[[ 27,  27,  27],\n",
       "         [ 26,  26,  26],\n",
       "         [ 26,  26,  26],\n",
       "         ...,\n",
       "         [255, 255, 255],\n",
       "         [251, 251, 251],\n",
       "         [  2,   2,   2]],\n",
       " \n",
       "        [[ 24,  24,  24],\n",
       "         [ 25,  25,  25],\n",
       "         [ 27,  27,  27],\n",
       "         ...,\n",
       "         [255, 255, 255],\n",
       "         [251, 251, 251],\n",
       "         [  2,   2,   2]],\n",
       " \n",
       "        [[ 25,  25,  25],\n",
       "         [ 27,  27,  27],\n",
       "         [ 30,  30,  30],\n",
       "         ...,\n",
       "         [255, 255, 255],\n",
       "         [251, 251, 251],\n",
       "         [  2,   2,   2]],\n",
       " \n",
       "        ...,\n",
       " \n",
       "        [[251, 251, 251],\n",
       "         [251, 251, 251],\n",
       "         [251, 251, 251],\n",
       "         ...,\n",
       "         [239, 239, 239],\n",
       "         [255, 255, 255],\n",
       "         [  0,   0,   0]],\n",
       " \n",
       "        [[255, 255, 255],\n",
       "         [255, 255, 255],\n",
       "         [255, 255, 255],\n",
       "         ...,\n",
       "         [249, 249, 249],\n",
       "         [229, 229, 229],\n",
       "         [ 51,  51,  51]],\n",
       " \n",
       "        [[  0,   0,   0],\n",
       "         [  0,   0,   0],\n",
       "         [  0,   0,   0],\n",
       "         ...,\n",
       "         [ 17,  17,  17],\n",
       "         [ 17,  17,  17],\n",
       "         [  0,   0,   0]]], dtype=uint8)\n",
       " orig_shape: (2400, 1935)\n",
       " path: 'C:\\\\Users\\\\Classic\\\\Desktop\\\\pr\\\\2\\\\test\\\\images\\\\398_jpg.rf.569f83ceb8de2bc3f61da370d43d0a1a.jpg'\n",
       " probs: None\n",
       " save_dir: 'runs\\\\detect\\\\predict'\n",
       " speed: {'preprocess': 11.434199999712291, 'inference': 125.53330000082497, 'postprocess': 2.7491000000736676}]"
      ]
     },
     "execution_count": 16,
     "metadata": {},
     "output_type": "execute_result"
    }
   ],
   "source": [
    "# استخدام النموذج للتنبؤ على مجلد الصور الخاص بالاختبار\n",
    "model.predict(source=r'C:\\Users\\Classic\\Desktop\\pr\\2/test/images', save=True)\n"
   ]
  },
  {
   "cell_type": "code",
   "execution_count": 17,
   "metadata": {
    "id": "FcxTQMvhv9BR"
   },
   "outputs": [
    {
     "ename": "FileNotFoundError",
     "evalue": "[Errno 2] No such file or directory: 'runs/detect/predict/your_image_name.jpg'",
     "output_type": "error",
     "traceback": [
      "\u001b[1;31m---------------------------------------------------------------------------\u001b[0m",
      "\u001b[1;31mFileNotFoundError\u001b[0m                         Traceback (most recent call last)",
      "\u001b[1;32m~\\AppData\\Local\\Temp\\ipykernel_1280\\3982946797.py\u001b[0m in \u001b[0;36m<module>\u001b[1;34m\u001b[0m\n\u001b[0;32m      2\u001b[0m \u001b[1;33m\u001b[0m\u001b[0m\n\u001b[0;32m      3\u001b[0m \u001b[1;31m# عرض صورة تم تنفيذ التنبؤ عليها (غير اسم الملف حسب ما عندك)\u001b[0m\u001b[1;33m\u001b[0m\u001b[1;33m\u001b[0m\u001b[0m\n\u001b[1;32m----> 4\u001b[1;33m \u001b[0mImage\u001b[0m\u001b[1;33m(\u001b[0m\u001b[0mfilename\u001b[0m\u001b[1;33m=\u001b[0m\u001b[1;34m'runs/detect/predict/your_image_name.jpg'\u001b[0m\u001b[1;33m)\u001b[0m\u001b[1;33m\u001b[0m\u001b[1;33m\u001b[0m\u001b[0m\n\u001b[0m",
      "\u001b[1;32m~\\anaconda3\\lib\\site-packages\\IPython\\core\\display.py\u001b[0m in \u001b[0;36m__init__\u001b[1;34m(self, data, url, filename, format, embed, width, height, retina, unconfined, metadata)\u001b[0m\n\u001b[0;32m   1229\u001b[0m         \u001b[0mself\u001b[0m\u001b[1;33m.\u001b[0m\u001b[0mretina\u001b[0m \u001b[1;33m=\u001b[0m \u001b[0mretina\u001b[0m\u001b[1;33m\u001b[0m\u001b[1;33m\u001b[0m\u001b[0m\n\u001b[0;32m   1230\u001b[0m         \u001b[0mself\u001b[0m\u001b[1;33m.\u001b[0m\u001b[0munconfined\u001b[0m \u001b[1;33m=\u001b[0m \u001b[0munconfined\u001b[0m\u001b[1;33m\u001b[0m\u001b[1;33m\u001b[0m\u001b[0m\n\u001b[1;32m-> 1231\u001b[1;33m         super(Image, self).__init__(data=data, url=url, filename=filename, \n\u001b[0m\u001b[0;32m   1232\u001b[0m                 metadata=metadata)\n\u001b[0;32m   1233\u001b[0m \u001b[1;33m\u001b[0m\u001b[0m\n",
      "\u001b[1;32m~\\anaconda3\\lib\\site-packages\\IPython\\core\\display.py\u001b[0m in \u001b[0;36m__init__\u001b[1;34m(self, data, url, filename, metadata)\u001b[0m\n\u001b[0;32m    635\u001b[0m             \u001b[0mself\u001b[0m\u001b[1;33m.\u001b[0m\u001b[0mmetadata\u001b[0m \u001b[1;33m=\u001b[0m \u001b[1;33m{\u001b[0m\u001b[1;33m}\u001b[0m\u001b[1;33m\u001b[0m\u001b[1;33m\u001b[0m\u001b[0m\n\u001b[0;32m    636\u001b[0m \u001b[1;33m\u001b[0m\u001b[0m\n\u001b[1;32m--> 637\u001b[1;33m         \u001b[0mself\u001b[0m\u001b[1;33m.\u001b[0m\u001b[0mreload\u001b[0m\u001b[1;33m(\u001b[0m\u001b[1;33m)\u001b[0m\u001b[1;33m\u001b[0m\u001b[1;33m\u001b[0m\u001b[0m\n\u001b[0m\u001b[0;32m    638\u001b[0m         \u001b[0mself\u001b[0m\u001b[1;33m.\u001b[0m\u001b[0m_check_data\u001b[0m\u001b[1;33m(\u001b[0m\u001b[1;33m)\u001b[0m\u001b[1;33m\u001b[0m\u001b[1;33m\u001b[0m\u001b[0m\n\u001b[0;32m    639\u001b[0m \u001b[1;33m\u001b[0m\u001b[0m\n",
      "\u001b[1;32m~\\anaconda3\\lib\\site-packages\\IPython\\core\\display.py\u001b[0m in \u001b[0;36mreload\u001b[1;34m(self)\u001b[0m\n\u001b[0;32m   1261\u001b[0m         \u001b[1;34m\"\"\"Reload the raw data from file or URL.\"\"\"\u001b[0m\u001b[1;33m\u001b[0m\u001b[1;33m\u001b[0m\u001b[0m\n\u001b[0;32m   1262\u001b[0m         \u001b[1;32mif\u001b[0m \u001b[0mself\u001b[0m\u001b[1;33m.\u001b[0m\u001b[0membed\u001b[0m\u001b[1;33m:\u001b[0m\u001b[1;33m\u001b[0m\u001b[1;33m\u001b[0m\u001b[0m\n\u001b[1;32m-> 1263\u001b[1;33m             \u001b[0msuper\u001b[0m\u001b[1;33m(\u001b[0m\u001b[0mImage\u001b[0m\u001b[1;33m,\u001b[0m\u001b[0mself\u001b[0m\u001b[1;33m)\u001b[0m\u001b[1;33m.\u001b[0m\u001b[0mreload\u001b[0m\u001b[1;33m(\u001b[0m\u001b[1;33m)\u001b[0m\u001b[1;33m\u001b[0m\u001b[1;33m\u001b[0m\u001b[0m\n\u001b[0m\u001b[0;32m   1264\u001b[0m             \u001b[1;32mif\u001b[0m \u001b[0mself\u001b[0m\u001b[1;33m.\u001b[0m\u001b[0mretina\u001b[0m\u001b[1;33m:\u001b[0m\u001b[1;33m\u001b[0m\u001b[1;33m\u001b[0m\u001b[0m\n\u001b[0;32m   1265\u001b[0m                 \u001b[0mself\u001b[0m\u001b[1;33m.\u001b[0m\u001b[0m_retina_shape\u001b[0m\u001b[1;33m(\u001b[0m\u001b[1;33m)\u001b[0m\u001b[1;33m\u001b[0m\u001b[1;33m\u001b[0m\u001b[0m\n",
      "\u001b[1;32m~\\anaconda3\\lib\\site-packages\\IPython\\core\\display.py\u001b[0m in \u001b[0;36mreload\u001b[1;34m(self)\u001b[0m\n\u001b[0;32m    660\u001b[0m         \u001b[1;34m\"\"\"Reload the raw data from file or URL.\"\"\"\u001b[0m\u001b[1;33m\u001b[0m\u001b[1;33m\u001b[0m\u001b[0m\n\u001b[0;32m    661\u001b[0m         \u001b[1;32mif\u001b[0m \u001b[0mself\u001b[0m\u001b[1;33m.\u001b[0m\u001b[0mfilename\u001b[0m \u001b[1;32mis\u001b[0m \u001b[1;32mnot\u001b[0m \u001b[1;32mNone\u001b[0m\u001b[1;33m:\u001b[0m\u001b[1;33m\u001b[0m\u001b[1;33m\u001b[0m\u001b[0m\n\u001b[1;32m--> 662\u001b[1;33m             \u001b[1;32mwith\u001b[0m \u001b[0mopen\u001b[0m\u001b[1;33m(\u001b[0m\u001b[0mself\u001b[0m\u001b[1;33m.\u001b[0m\u001b[0mfilename\u001b[0m\u001b[1;33m,\u001b[0m \u001b[0mself\u001b[0m\u001b[1;33m.\u001b[0m\u001b[0m_read_flags\u001b[0m\u001b[1;33m)\u001b[0m \u001b[1;32mas\u001b[0m \u001b[0mf\u001b[0m\u001b[1;33m:\u001b[0m\u001b[1;33m\u001b[0m\u001b[1;33m\u001b[0m\u001b[0m\n\u001b[0m\u001b[0;32m    663\u001b[0m                 \u001b[0mself\u001b[0m\u001b[1;33m.\u001b[0m\u001b[0mdata\u001b[0m \u001b[1;33m=\u001b[0m \u001b[0mf\u001b[0m\u001b[1;33m.\u001b[0m\u001b[0mread\u001b[0m\u001b[1;33m(\u001b[0m\u001b[1;33m)\u001b[0m\u001b[1;33m\u001b[0m\u001b[1;33m\u001b[0m\u001b[0m\n\u001b[0;32m    664\u001b[0m         \u001b[1;32melif\u001b[0m \u001b[0mself\u001b[0m\u001b[1;33m.\u001b[0m\u001b[0murl\u001b[0m \u001b[1;32mis\u001b[0m \u001b[1;32mnot\u001b[0m \u001b[1;32mNone\u001b[0m\u001b[1;33m:\u001b[0m\u001b[1;33m\u001b[0m\u001b[1;33m\u001b[0m\u001b[0m\n",
      "\u001b[1;31mFileNotFoundError\u001b[0m: [Errno 2] No such file or directory: 'runs/detect/predict/your_image_name.jpg'"
     ]
    }
   ],
   "source": [
    "from IPython.display import Image\n",
    "\n",
    "# عرض صورة تم تنفيذ التنبؤ عليها (غير اسم الملف حسب ما عندك)\n",
    "Image(filename='runs/detect/predict/your_image_name.jpg')\n"
   ]
  },
  {
   "cell_type": "code",
   "execution_count": 19,
   "metadata": {
    "id": "1Kf_kufdwA85"
   },
   "outputs": [
    {
     "ename": "TypeError",
     "evalue": "'IterableSimpleNamespace' object is not subscriptable",
     "output_type": "error",
     "traceback": [
      "\u001b[1;31m---------------------------------------------------------------------------\u001b[0m",
      "\u001b[1;31mTypeError\u001b[0m                                 Traceback (most recent call last)",
      "\u001b[1;32m~\\AppData\\Local\\Temp\\ipykernel_1280\\2324121825.py\u001b[0m in \u001b[0;36m<module>\u001b[1;34m\u001b[0m\n\u001b[0;32m      1\u001b[0m \u001b[1;31m# تصدير النموذج بصيغة ONNX (للدمج في التطبيقات)\u001b[0m\u001b[1;33m\u001b[0m\u001b[1;33m\u001b[0m\u001b[0m\n\u001b[1;32m----> 2\u001b[1;33m \u001b[0mmodel\u001b[0m\u001b[1;33m.\u001b[0m\u001b[0mexport\u001b[0m\u001b[1;33m(\u001b[0m\u001b[0mformat\u001b[0m\u001b[1;33m=\u001b[0m\u001b[1;34m'onnx'\u001b[0m\u001b[1;33m)\u001b[0m\u001b[1;33m\u001b[0m\u001b[1;33m\u001b[0m\u001b[0m\n\u001b[0m",
      "\u001b[1;32m~\\anaconda3\\lib\\site-packages\\ultralytics\\engine\\model.py\u001b[0m in \u001b[0;36mexport\u001b[1;34m(self, **kwargs)\u001b[0m\n\u001b[0;32m    718\u001b[0m \u001b[1;33m\u001b[0m\u001b[0m\n\u001b[0;32m    719\u001b[0m         custom = {\n\u001b[1;32m--> 720\u001b[1;33m             \u001b[1;34m\"imgsz\"\u001b[0m\u001b[1;33m:\u001b[0m \u001b[0mself\u001b[0m\u001b[1;33m.\u001b[0m\u001b[0mmodel\u001b[0m\u001b[1;33m.\u001b[0m\u001b[0margs\u001b[0m\u001b[1;33m[\u001b[0m\u001b[1;34m\"imgsz\"\u001b[0m\u001b[1;33m]\u001b[0m\u001b[1;33m,\u001b[0m\u001b[1;33m\u001b[0m\u001b[1;33m\u001b[0m\u001b[0m\n\u001b[0m\u001b[0;32m    721\u001b[0m             \u001b[1;34m\"batch\"\u001b[0m\u001b[1;33m:\u001b[0m \u001b[1;36m1\u001b[0m\u001b[1;33m,\u001b[0m\u001b[1;33m\u001b[0m\u001b[1;33m\u001b[0m\u001b[0m\n\u001b[0;32m    722\u001b[0m             \u001b[1;34m\"data\"\u001b[0m\u001b[1;33m:\u001b[0m \u001b[1;32mNone\u001b[0m\u001b[1;33m,\u001b[0m\u001b[1;33m\u001b[0m\u001b[1;33m\u001b[0m\u001b[0m\n",
      "\u001b[1;31mTypeError\u001b[0m: 'IterableSimpleNamespace' object is not subscriptable"
     ]
    }
   ],
   "source": [
    "# تصدير النموذج بصيغة ONNX (للدمج في التطبيقات)\n",
    "model.export(format='onnx')\n"
   ]
  },
  {
   "cell_type": "code",
   "execution_count": null,
   "metadata": {},
   "outputs": [],
   "source": []
  }
 ],
 "metadata": {
  "celltoolbar": "Attachments",
  "colab": {
   "provenance": []
  },
  "kernelspec": {
   "display_name": "Python 3 (ipykernel)",
   "language": "python",
   "name": "python3"
  },
  "language_info": {
   "codemirror_mode": {
    "name": "ipython",
    "version": 3
   },
   "file_extension": ".py",
   "mimetype": "text/x-python",
   "name": "python",
   "nbconvert_exporter": "python",
   "pygments_lexer": "ipython3",
   "version": "3.9.13"
  }
 },
 "nbformat": 4,
 "nbformat_minor": 1
}
